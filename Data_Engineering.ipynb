{
  "nbformat": 4,
  "nbformat_minor": 0,
  "metadata": {
    "colab": {
      "provenance": [],
      "authorship_tag": "ABX9TyN6ZgZOmYPho6B7NHrIs0xS",
      "include_colab_link": true
    },
    "kernelspec": {
      "name": "python3",
      "display_name": "Python 3"
    },
    "language_info": {
      "name": "python"
    }
  },
  "cells": [
    {
      "cell_type": "markdown",
      "metadata": {
        "id": "view-in-github",
        "colab_type": "text"
      },
      "source": [
        "<a href=\"https://colab.research.google.com/github/macorony/Data_Engineering_Learning/blob/main/Data_Engineering.ipynb\" target=\"_parent\"><img src=\"https://colab.research.google.com/assets/colab-badge.svg\" alt=\"Open In Colab\"/></a>"
      ]
    },
    {
      "cell_type": "markdown",
      "source": [
        "# Objective\n",
        "Learning bits and pieces of important theory and concept"
      ],
      "metadata": {
        "id": "_zFr2nYXGegE"
      }
    },
    {
      "cell_type": "markdown",
      "source": [
        "# Day1\n",
        "Data engineering ecosystem\n",
        "1. Data\n",
        "2. Data stores and repositories\n",
        "3. Data pipeline\n",
        "4. Analytics and data driven decision making\n",
        "\n",
        "What is data engineering?\n",
        "Building, architecting, design, implementing data stores and repositories, data lakes and gathering, importing, cleaning, pre-processing, querying, and analyzing data. Also monitoring, evaluating, optimizing and fine tuning the process"
      ],
      "metadata": {
        "id": "zCznQDEMFsy_"
      }
    },
    {
      "cell_type": "markdown",
      "source": [],
      "metadata": {
        "id": "FLHnMhoMFV4e"
      }
    }
  ]
}