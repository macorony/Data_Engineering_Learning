{
  "nbformat": 4,
  "nbformat_minor": 0,
  "metadata": {
    "colab": {
      "provenance": [],
      "collapsed_sections": [],
      "authorship_tag": "ABX9TyN6jcnAeTfpXFV1kPtYBAQg",
      "include_colab_link": true
    },
    "kernelspec": {
      "name": "python3",
      "display_name": "Python 3"
    },
    "language_info": {
      "name": "python"
    }
  },
  "cells": [
    {
      "cell_type": "markdown",
      "metadata": {
        "id": "view-in-github",
        "colab_type": "text"
      },
      "source": [
        "<a href=\"https://colab.research.google.com/github/macorony/Data_Engineering_Learning/blob/main/Data_Engineering.ipynb\" target=\"_parent\"><img src=\"https://colab.research.google.com/assets/colab-badge.svg\" alt=\"Open In Colab\"/></a>"
      ]
    },
    {
      "cell_type": "markdown",
      "source": [
        "# Objective\n",
        "Learning bits and pieces of important theory and concept"
      ],
      "metadata": {
        "id": "_zFr2nYXGegE"
      }
    },
    {
      "cell_type": "markdown",
      "source": [
        "# Day1\n",
        "Data engineering ecosystem\n",
        "1. Data\n",
        "2. Data stores and repositories\n",
        "3. Data pipeline\n",
        "4. Analytics and data driven decision making\n",
        "\n",
        "What is data engineering?\n",
        "Building, architecting, design, implementing data stores and repositories, data lakes and gathering, importing, cleaning, pre-processing, querying, and analyzing data. Also monitoring, evaluating, optimizing and fine tuning the process"
      ],
      "metadata": {
        "id": "zCznQDEMFsy_"
      }
    },
    {
      "cell_type": "markdown",
      "source": [
        "# Day2 \n",
        "The features of Python\n",
        "1. high-level programming language focusing on readability, coherence and productivity. Python code is typically much less than the equivalent C++ or Java. That means less to type, less to debug and less to maintain.\n",
        "2. Most Python programes run unchanged on different computer platform porting Python code between Linux and Windows. \n",
        "3. A large collection of standard libraries. The Numpy extension is a free and more powerful equivalent to the Matlab numeric programming system.\n",
        "4. Python can be better described as a general purpose programming language that blends procedural, functional, and object-oriented paradigms.\n",
        "5. Relative lower execution speed compared to compiled and lower-level languages.Because Python compiles source code into an intermediated format known as byte code and then interpret the byte code, a platform-independent format.\n",
        "\n",
        "How Python interpreter works\n",
        "1. An interpreter is a program that executes other programs. Technically, the interpreter is a layer of software logic between your code and the computer hardward. \n",
        "2. Under the hood, Python compiles source code into a byte code. The byte code of the programs is stored in the files with *.pyc* extension.\n",
        "3. Sourcr changes: Python automatically checks the last-modified timestamps of source and byte code files to know whne it must recompile.\n",
        "4. If Python cannot write the byte code files to your machine, the program still works. The byte code is generated in memory and simply discarded on program exit. \n",
        "5. Once the program has been compiled to byte code, it is forwarded to execution by Python Virtual Machine. In fact, the PVM is a big loop that iterates through the byte code instructions. The PVM is the runtime engine of Python presenting as part of the Python system, and it truly runs your scripts.\n",
        "6. Python byte code is not binary machine code, it is a Python-specific representation. This is why some Python code may not run as fast as C or C++ code. The byte code instructions require more work than CPU instructions. On the other hand, unlike in classic intepreters, there is still an internal compile step.\n",
        "\n",
        "\n",
        "\n",
        "\n",
        "\n"
      ],
      "metadata": {
        "id": "FLHnMhoMFV4e"
      }
    },
    {
      "cell_type": "markdown",
      "source": [
        "# Day3"
      ],
      "metadata": {
        "id": "ijqF7mHV1V1y"
      }
    },
    {
      "cell_type": "markdown",
      "source": [
        "The Python Conceptual Hierarchy\n",
        "1. Programs are composed of modules.\n",
        "2. Modules contain statements.\n",
        "3. Statements contain expressions.\n",
        "4. Expressions created and process objects.\n",
        "\n",
        "Why Built-in Types?\n",
        "1. Built-in objects make programs easy to write.\n",
        "2. Built-in objects are components of extensions.\n",
        "3. Built-in objects are often more efficient than custom data structures.\n",
        "4. Built-in objects are a standard part of the language.\n",
        "\n",
        "Core Data Types\n",
        "1. Number\n",
        "2. String\n",
        "3. List\n",
        "4. Dictionary\n",
        "5. Tuple\n",
        "6. File\n",
        "7. Set\n",
        "8. Boolean\n",
        "9. Program unit types such as function, modules, classes\n",
        "10. Implementation-related types such as compiled code, stack traceback\n",
        "\n",
        "We call these core data types because they effetively built into the Python language. Once you create an object, you bind its operation set for all time. So Python is dynmically typed, a model that keeps track of types for you automatically instead of requiring declaration code, but it also constraint what you can perform on an object. "
      ],
      "metadata": {
        "id": "RI2Jb71P1V_B"
      }
    },
    {
      "cell_type": "markdown",
      "source": [
        "Numbers\n",
        "1. integers\n",
        "2. floating-point \n",
        "3. complexe\n",
        "4. decimal\n",
        "5. rational\n",
        "\n",
        "There are some numeric modules such as *math* and *random*\n",
        "\n"
      ],
      "metadata": {
        "id": "o53MEc5C8vH5"
      }
    },
    {
      "cell_type": "code",
      "source": [
        "import math\n",
        "math.pi\n",
        "import random\n",
        "random.random()\n",
        "random.choice([1,2,3,4])\n"
      ],
      "metadata": {
        "colab": {
          "base_uri": "https://localhost:8080/"
        },
        "id": "_Tgc6iG-iuDf",
        "outputId": "b76f1c9b-6240-4bd0-f442-c76550c8c738"
      },
      "execution_count": 81,
      "outputs": [
        {
          "output_type": "execute_result",
          "data": {
            "text/plain": [
              "3"
            ]
          },
          "metadata": {},
          "execution_count": 81
        }
      ]
    },
    {
      "cell_type": "markdown",
      "source": [
        "a string is sequence of one-character. Sequences maintain a left-to-right order among the items they contain: their itesm are stored and fetched by their relative position."
      ],
      "metadata": {
        "id": "nrDqQdaoC_94"
      }
    },
    {
      "cell_type": "code",
      "source": [
        "s='lunch'\n",
        "len(s)"
      ],
      "metadata": {
        "colab": {
          "base_uri": "https://localhost:8080/"
        },
        "id": "AM_33B0w9p7u",
        "outputId": "4213dcbd-e901-4e43-f7f5-0244de3ec211"
      },
      "execution_count": 82,
      "outputs": [
        {
          "output_type": "execute_result",
          "data": {
            "text/plain": [
              "5"
            ]
          },
          "metadata": {},
          "execution_count": 82
        }
      ]
    },
    {
      "cell_type": "code",
      "source": [
        "print(s[-1])\n",
        "print(s[-2])\n"
      ],
      "metadata": {
        "colab": {
          "base_uri": "https://localhost:8080/"
        },
        "id": "C3DmhkqKDn9o",
        "outputId": "fde85725-50b1-475a-ea73-2723d81f9adb"
      },
      "execution_count": 83,
      "outputs": [
        {
          "output_type": "stream",
          "name": "stdout",
          "text": [
            "h\n",
            "c\n"
          ]
        }
      ]
    },
    {
      "cell_type": "markdown",
      "source": [
        "Immutability\n",
        "1. Of notice were not changing the original string with any of the operations we ran on it. strings are immutable in Python, they cannot be change in place after they are created. You can never overwrite the values of immutable objects.\n",
        "2. numerbs, strings, tuples are immutable\n",
        "3. lists, dictionaries and sets are mutable."
      ],
      "metadata": {
        "id": "lSZWbQh8EEJo"
      }
    },
    {
      "cell_type": "markdown",
      "source": [
        "String Method"
      ],
      "metadata": {
        "id": "fqRVl0R1FBr4"
      }
    },
    {
      "cell_type": "code",
      "source": [
        "dir(s)\n"
      ],
      "metadata": {
        "colab": {
          "base_uri": "https://localhost:8080/"
        },
        "id": "PnhLVmQjDyD8",
        "outputId": "92f02167-1d09-489e-ddc0-12aba9651373"
      },
      "execution_count": 84,
      "outputs": [
        {
          "output_type": "execute_result",
          "data": {
            "text/plain": [
              "['__add__',\n",
              " '__class__',\n",
              " '__contains__',\n",
              " '__delattr__',\n",
              " '__dir__',\n",
              " '__doc__',\n",
              " '__eq__',\n",
              " '__format__',\n",
              " '__ge__',\n",
              " '__getattribute__',\n",
              " '__getitem__',\n",
              " '__getnewargs__',\n",
              " '__gt__',\n",
              " '__hash__',\n",
              " '__init__',\n",
              " '__init_subclass__',\n",
              " '__iter__',\n",
              " '__le__',\n",
              " '__len__',\n",
              " '__lt__',\n",
              " '__mod__',\n",
              " '__mul__',\n",
              " '__ne__',\n",
              " '__new__',\n",
              " '__reduce__',\n",
              " '__reduce_ex__',\n",
              " '__repr__',\n",
              " '__rmod__',\n",
              " '__rmul__',\n",
              " '__setattr__',\n",
              " '__sizeof__',\n",
              " '__str__',\n",
              " '__subclasshook__',\n",
              " 'capitalize',\n",
              " 'casefold',\n",
              " 'center',\n",
              " 'count',\n",
              " 'encode',\n",
              " 'endswith',\n",
              " 'expandtabs',\n",
              " 'find',\n",
              " 'format',\n",
              " 'format_map',\n",
              " 'index',\n",
              " 'isalnum',\n",
              " 'isalpha',\n",
              " 'isascii',\n",
              " 'isdecimal',\n",
              " 'isdigit',\n",
              " 'isidentifier',\n",
              " 'islower',\n",
              " 'isnumeric',\n",
              " 'isprintable',\n",
              " 'isspace',\n",
              " 'istitle',\n",
              " 'isupper',\n",
              " 'join',\n",
              " 'ljust',\n",
              " 'lower',\n",
              " 'lstrip',\n",
              " 'maketrans',\n",
              " 'partition',\n",
              " 'replace',\n",
              " 'rfind',\n",
              " 'rindex',\n",
              " 'rjust',\n",
              " 'rpartition',\n",
              " 'rsplit',\n",
              " 'rstrip',\n",
              " 'split',\n",
              " 'splitlines',\n",
              " 'startswith',\n",
              " 'strip',\n",
              " 'swapcase',\n",
              " 'title',\n",
              " 'translate',\n",
              " 'upper',\n",
              " 'zfill']"
            ]
          },
          "metadata": {},
          "execution_count": 84
        }
      ]
    },
    {
      "cell_type": "markdown",
      "source": [
        "Get helps"
      ],
      "metadata": {
        "id": "EOjhVH92JQ_c"
      }
    },
    {
      "cell_type": "code",
      "source": [
        "help(s.upper)"
      ],
      "metadata": {
        "colab": {
          "base_uri": "https://localhost:8080/"
        },
        "id": "HyzoviFnFHLG",
        "outputId": "2def96be-a0c4-4d8a-a23b-787a1e968b37"
      },
      "execution_count": 85,
      "outputs": [
        {
          "output_type": "stream",
          "name": "stdout",
          "text": [
            "Help on built-in function upper:\n",
            "\n",
            "upper() method of builtins.str instance\n",
            "    Return a copy of the string converted to uppercase.\n",
            "\n"
          ]
        }
      ]
    },
    {
      "cell_type": "markdown",
      "source": [
        "Pattern Matching\n",
        "None of the string object's own methods support pattern-based text processing."
      ],
      "metadata": {
        "id": "hH4aHOpYKKqL"
      }
    },
    {
      "cell_type": "code",
      "source": [
        "import re\n",
        "match = re.match('Hello[ \\t]*(.*)world', 'Hello   Python world')\n",
        "match"
      ],
      "metadata": {
        "colab": {
          "base_uri": "https://localhost:8080/"
        },
        "id": "X_78LEsAJGSG",
        "outputId": "a0f563d5-77a4-4388-c9d6-752527f7441b"
      },
      "execution_count": 86,
      "outputs": [
        {
          "output_type": "execute_result",
          "data": {
            "text/plain": [
              "<re.Match object; span=(0, 20), match='Hello   Python world'>"
            ]
          },
          "metadata": {},
          "execution_count": 86
        }
      ]
    },
    {
      "cell_type": "markdown",
      "source": [
        "# Day4"
      ],
      "metadata": {
        "id": "hCFVw2efA3Qr"
      }
    },
    {
      "cell_type": "code",
      "source": [
        "# Return a copy of the string with the first character capitalized\n",
        "a = 'complete python course'\n",
        "print(a.capitalize())\n"
      ],
      "metadata": {
        "id": "v2OGrhTSLBvP",
        "colab": {
          "base_uri": "https://localhost:8080/"
        },
        "outputId": "699fdf62-3ee9-49cb-f960-ec7b039da7eb"
      },
      "execution_count": 87,
      "outputs": [
        {
          "output_type": "stream",
          "name": "stdout",
          "text": [
            "Complete python course\n"
          ]
        }
      ]
    },
    {
      "cell_type": "code",
      "source": [
        "# Return the string centered in a string of given length\n",
        "a = 'Python'\n",
        "b = a.center(11, '*')\n",
        "print(b)"
      ],
      "metadata": {
        "colab": {
          "base_uri": "https://localhost:8080/"
        },
        "id": "7LyF7yxoCaR0",
        "outputId": "e3ea27d9-5b1e-4ce8-9b67-5b28cf4148be"
      },
      "execution_count": 88,
      "outputs": [
        {
          "output_type": "stream",
          "name": "stdout",
          "text": [
            "***Python**\n"
          ]
        }
      ]
    },
    {
      "cell_type": "code",
      "source": [
        "# Return a casefolded copy of the string \n",
        "a = 'PYTHON'\n",
        "print(a.casefold())\n",
        "print(a)"
      ],
      "metadata": {
        "colab": {
          "base_uri": "https://localhost:8080/"
        },
        "id": "Y6B_nuilC9Ny",
        "outputId": "e79bd30a-7c24-4962-b9b5-d2369e57ca75"
      },
      "execution_count": 89,
      "outputs": [
        {
          "output_type": "stream",
          "name": "stdout",
          "text": [
            "python\n",
            "PYTHON\n"
          ]
        }
      ]
    },
    {
      "cell_type": "code",
      "source": [
        "# Return true if the string ends with the given suffix\n",
        "a = 'common sense'\n",
        "print(a.endswith('x'))\n",
        "print(a.endswith('se'))"
      ],
      "metadata": {
        "colab": {
          "base_uri": "https://localhost:8080/"
        },
        "id": "YMvoK9bMDZRn",
        "outputId": "9603c3d4-a0e0-4542-c173-25828c0c8a4e"
      },
      "execution_count": 90,
      "outputs": [
        {
          "output_type": "stream",
          "name": "stdout",
          "text": [
            "False\n",
            "True\n"
          ]
        }
      ]
    },
    {
      "cell_type": "code",
      "source": [
        "# Return the first occurrence's index\n",
        "a = 'extraordinary'\n",
        "print(a.find('t'))"
      ],
      "metadata": {
        "colab": {
          "base_uri": "https://localhost:8080/"
        },
        "id": "Y3V38KqED33j",
        "outputId": "f4c17fbe-5c80-48be-aba6-4aef296e6d41"
      },
      "execution_count": 91,
      "outputs": [
        {
          "output_type": "stream",
          "name": "stdout",
          "text": [
            "2\n"
          ]
        }
      ]
    },
    {
      "cell_type": "code",
      "source": [
        "# Similar to the find method, except that it raises ValueError when not found\n",
        "a = 'operationsaaa'\n",
        "print(a.index('a'))\n",
        "print(a.index('i'))"
      ],
      "metadata": {
        "colab": {
          "base_uri": "https://localhost:8080/"
        },
        "id": "dAX4NzzsEWOL",
        "outputId": "e111b872-339c-434b-b9f3-2dd4a75e2ec6"
      },
      "execution_count": 92,
      "outputs": [
        {
          "output_type": "stream",
          "name": "stdout",
          "text": [
            "4\n",
            "6\n"
          ]
        }
      ]
    },
    {
      "cell_type": "code",
      "source": [
        "# Return True if all characters in the string are all alphabetic and numeirc\n",
        "a = '4567'\n",
        "d = '46ye'\n",
        "print(a.isalnum())\n",
        "print(d.isalnum())"
      ],
      "metadata": {
        "colab": {
          "base_uri": "https://localhost:8080/"
        },
        "id": "6-AUfvm3GYCu",
        "outputId": "71707a16-7d89-4d54-f089-5907ae730676"
      },
      "execution_count": 93,
      "outputs": [
        {
          "output_type": "stream",
          "name": "stdout",
          "text": [
            "True\n",
            "True\n"
          ]
        }
      ]
    },
    {
      "cell_type": "code",
      "source": [
        "# Return True if all characters are all alphabetic \n",
        "a = 'abded1980'\n",
        "b = 'aldkei'\n",
        "print(a.isalpha())\n",
        "print(b.isalpha())"
      ],
      "metadata": {
        "colab": {
          "base_uri": "https://localhost:8080/"
        },
        "id": "cegc27PnHWF5",
        "outputId": "978d7744-6288-4980-8e68-43413dcee535"
      },
      "execution_count": 94,
      "outputs": [
        {
          "output_type": "stream",
          "name": "stdout",
          "text": [
            "False\n",
            "True\n"
          ]
        }
      ]
    },
    {
      "cell_type": "code",
      "source": [
        "# Return True if decimal\n",
        "a = '3.14'\n",
        "b = math.pi\n",
        "c = '15'\n",
        "print(a.isdecimal())\n",
        "print(c.isdecimal())"
      ],
      "metadata": {
        "colab": {
          "base_uri": "https://localhost:8080/"
        },
        "id": "_9clOXEVH8vO",
        "outputId": "35d2b719-277d-44a5-cefd-00f6914a276e"
      },
      "execution_count": 95,
      "outputs": [
        {
          "output_type": "stream",
          "name": "stdout",
          "text": [
            "False\n",
            "True\n"
          ]
        }
      ]
    },
    {
      "cell_type": "code",
      "source": [
        "# Return True if all characters are digits\n",
        "a = '3/14'\n",
        "b = '46456'\n",
        "print(a.isdigit())\n",
        "print(b.isdigit())"
      ],
      "metadata": {
        "colab": {
          "base_uri": "https://localhost:8080/"
        },
        "id": "a8ULT14JIfKB",
        "outputId": "7781940b-bc12-4dd5-ec4e-3272e7937f65"
      },
      "execution_count": 96,
      "outputs": [
        {
          "output_type": "stream",
          "name": "stdout",
          "text": [
            "False\n",
            "True\n"
          ]
        }
      ]
    },
    {
      "cell_type": "code",
      "source": [
        "# Return a concatenated string \n",
        "a = '$$'\n",
        "b = 'which'\n",
        "print(a.join(b))\n",
        "print(b.join(a))"
      ],
      "metadata": {
        "colab": {
          "base_uri": "https://localhost:8080/"
        },
        "id": "iq2tqj5zIU_C",
        "outputId": "7dbb112b-3c06-464e-9160-7ecbd41e4679"
      },
      "execution_count": 97,
      "outputs": [
        {
          "output_type": "stream",
          "name": "stdout",
          "text": [
            "w$$h$$i$$c$$h\n",
            "$which$\n"
          ]
        }
      ]
    },
    {
      "cell_type": "code",
      "source": [
        "# Return 3-component tuple from splitted string by the given character \n",
        "a = \"complete.python-course-thanks\"\n",
        "print(a.partition(\"-\"))\n",
        "print(a.partition(\".\"))"
      ],
      "metadata": {
        "colab": {
          "base_uri": "https://localhost:8080/"
        },
        "id": "UxZ2HxAOJl_b",
        "outputId": "f7e29f77-df5d-4e65-a514-c2227c5485ae"
      },
      "execution_count": 98,
      "outputs": [
        {
          "output_type": "stream",
          "name": "stdout",
          "text": [
            "('complete.python', '-', 'course-thanks')\n",
            "('complete', '.', 'python-course-thanks')\n"
          ]
        }
      ]
    },
    {
      "cell_type": "code",
      "source": [
        "# \n",
        "a = 'string method, , collection'\n",
        "print(a.split(\",\"))"
      ],
      "metadata": {
        "colab": {
          "base_uri": "https://localhost:8080/"
        },
        "id": "cuKu0MGSKAw2",
        "outputId": "6c667e91-1423-42e3-b8a8-30c7a94b21ed"
      },
      "execution_count": 99,
      "outputs": [
        {
          "output_type": "stream",
          "name": "stdout",
          "text": [
            "['string method', ' ', ' collection']\n"
          ]
        }
      ]
    },
    {
      "cell_type": "code",
      "source": [
        "# Return a copy of the string with leading and trailing characters removed.\n",
        "a = '$$$$$$example$$$$'\n",
        "print(a.strip(\"$\"))\n",
        "print(a)"
      ],
      "metadata": {
        "colab": {
          "base_uri": "https://localhost:8080/"
        },
        "id": "fwtJcKsAKnZv",
        "outputId": "9720fa65-0a49-45b5-b7a0-b8a04f5496c5"
      },
      "execution_count": 100,
      "outputs": [
        {
          "output_type": "stream",
          "name": "stdout",
          "text": [
            "example\n",
            "$$$$$$example$$$$\n"
          ]
        }
      ]
    },
    {
      "cell_type": "code",
      "source": [
        "# Return a copy of the string with uppercase converted to lowercase and vice versa\n",
        "a = 'Hello, substring'\n",
        "print(a.swapcase())"
      ],
      "metadata": {
        "colab": {
          "base_uri": "https://localhost:8080/"
        },
        "id": "-IGaL1U7LF7v",
        "outputId": "cc69f4ca-e34b-46a6-8657-b6db32529d62"
      },
      "execution_count": 101,
      "outputs": [
        {
          "output_type": "stream",
          "name": "stdout",
          "text": [
            "hELLO, SUBSTRING\n"
          ]
        }
      ]
    },
    {
      "cell_type": "code",
      "source": [
        "# Return a copy \n",
        "a = \"$$$$$perlsleiw$$$$\"\n",
        "print(a.lstrip(\"$\"))"
      ],
      "metadata": {
        "colab": {
          "base_uri": "https://localhost:8080/"
        },
        "id": "IQ0_g717LGt2",
        "outputId": "1a00687e-43a5-4baf-c3b9-9217b2592b96"
      },
      "execution_count": 102,
      "outputs": [
        {
          "output_type": "stream",
          "name": "stdout",
          "text": [
            "perlsleiw$$$$\n"
          ]
        }
      ]
    },
    {
      "cell_type": "markdown",
      "source": [
        "# Day5"
      ],
      "metadata": {
        "id": "YJK4ax__kin2"
      }
    },
    {
      "cell_type": "markdown",
      "source": [
        "**Python F string**\n",
        "1. used to embed python expressions inside string literals for formatting, using minimal syntax.\n",
        "2. It's an expression that' evaluated at the run time. \n",
        "3. They use {} brackets to evaluate values\n",
        "4. f-strings are faster than %-formatting and str.format()\n"
      ],
      "metadata": {
        "id": "-VBWlsqpktPo"
      }
    },
    {
      "cell_type": "code",
      "source": [
        "def max_no(x,y):\n",
        "  return x if x>y else y\n",
        "f = 12\n",
        "s = 25\n",
        "print(f'Max of {f} and {s} is {max(f, s)}')"
      ],
      "metadata": {
        "colab": {
          "base_uri": "https://localhost:8080/"
        },
        "id": "2bCr7vVukrdA",
        "outputId": "8ce0a87c-f438-4be4-e88d-44f686d055b3"
      },
      "execution_count": 103,
      "outputs": [
        {
          "output_type": "stream",
          "name": "stdout",
          "text": [
            "Max of 12 and 25 is 25\n"
          ]
        }
      ]
    },
    {
      "cell_type": "markdown",
      "source": [
        "Bitwise Operator\n"
      ],
      "metadata": {
        "id": "PDY22_nxn61J"
      }
    },
    {
      "cell_type": "markdown",
      "source": [
        "Bitwise AND\n",
        "1. The bitwise AND operator (&) perfroms logical conjunction on the corresponding bits of its operands. For each piar of bits occupying the same position in the two numbers, it returns a one only when both bits are swithed on\n",
        "2. The resulting bit pattern is an intersection of the operator's arguments.\n",
        "3. Arithmetically, this is equivalent to a product of two bit values. "
      ],
      "metadata": {
        "id": "mIzcxHoyrK_E"
      }
    },
    {
      "cell_type": "markdown",
      "source": [
        "# Day6"
      ],
      "metadata": {
        "id": "cR7-zj1bzS7e"
      }
    },
    {
      "cell_type": "markdown",
      "source": [
        "Bitwise OR\n",
        "1. It performs logical disjunction. For each corresponding pair of bits, it returns a one if at least one of them is switched on.\n",
        "2. Only a combination of two zeros gives a zero in the final output"
      ],
      "metadata": {
        "id": "SHoJJowmzaJH"
      }
    },
    {
      "cell_type": "markdown",
      "source": [
        "Bitwise XOR\n",
        "1. There is no logical counterpart in Python. \n",
        "2. It evaluates two mutually exclusive conditions and tells you whether exactly one of them is met.\n",
        "3. Every bit pair must contain opposing bit values to produce a one. "
      ],
      "metadata": {
        "id": "2P8Soodb2AyV"
      }
    },
    {
      "cell_type": "code",
      "source": [
        "# A simulation for bitwise XOR\n",
        "def xor(a, b):\n",
        "  return (a and not b) or (not a and b)"
      ],
      "metadata": {
        "id": "7SwRoDKxzZbR"
      },
      "execution_count": 104,
      "outputs": []
    },
    {
      "cell_type": "markdown",
      "source": [
        "Bitwise NOT\n",
        "1. It performs logical negation on a given number by flipping all of its bits."
      ],
      "metadata": {
        "id": "zGSvIKQb3n3B"
      }
    },
    {
      "cell_type": "code",
      "source": [
        "x = 1001\n",
        "y = 1010\n",
        "print(x & y)\n",
        "print(x | y)\n",
        "print(~y)\n",
        "print(x^y)"
      ],
      "metadata": {
        "colab": {
          "base_uri": "https://localhost:8080/"
        },
        "id": "HY3LNBBhmTHZ",
        "outputId": "04e6557a-a1da-4ecf-d73d-1a8114fe7769"
      },
      "execution_count": 105,
      "outputs": [
        {
          "output_type": "stream",
          "name": "stdout",
          "text": [
            "992\n",
            "1019\n",
            "-1011\n",
            "27\n"
          ]
        }
      ]
    },
    {
      "cell_type": "markdown",
      "source": [
        "Chaining comparision operators with logical operators\n",
        "> In accordance with associativity and precedence in Python, all comparison operations have the same priority.\n",
        "\n",
        "\n"
      ],
      "metadata": {
        "id": "4dl_Y4si-X3K"
      }
    },
    {
      "cell_type": "code",
      "source": [
        "a, b, c, d, e, f, g = 10, 15, 2, 1, 45, 25, 19\n",
        "e1 = a <= b < c > d < e is not f is g\n",
        "e2 = a is d < f is c\n",
        "print(e1)\n",
        "print(e2)\n",
        "\n"
      ],
      "metadata": {
        "colab": {
          "base_uri": "https://localhost:8080/"
        },
        "id": "RKkc-_Aw5x6M",
        "outputId": "71392a47-3a3b-446b-e5fb-587f0246d1c6"
      },
      "execution_count": 106,
      "outputs": [
        {
          "output_type": "stream",
          "name": "stdout",
          "text": [
            "False\n",
            "False\n"
          ]
        }
      ]
    },
    {
      "cell_type": "markdown",
      "source": [
        "## Day7"
      ],
      "metadata": {
        "id": "JdGFR19HF2s4"
      }
    },
    {
      "cell_type": "markdown",
      "source": [
        "**Python List**\n",
        "1. items can be any data type\n",
        "2. Items are ordered, changeable, and allow duplicate values"
      ],
      "metadata": {
        "id": "aLX6iVkCGRa4"
      }
    },
    {
      "cell_type": "code",
      "source": [
        "# Appending and Extending lists in Python \n",
        "days = ['monday', 'tuesday', 'wednesday', 'thursday']\n",
        "days.append('fridays')\n",
        "days.extend(['saturday'])"
      ],
      "metadata": {
        "id": "YylZtJDAAEbg"
      },
      "execution_count": 107,
      "outputs": []
    },
    {
      "cell_type": "code",
      "source": [
        "days"
      ],
      "metadata": {
        "colab": {
          "base_uri": "https://localhost:8080/"
        },
        "id": "RiqDGBWaHwbg",
        "outputId": "6a534961-f573-4c19-81ae-6198372a486e"
      },
      "execution_count": 108,
      "outputs": [
        {
          "output_type": "execute_result",
          "data": {
            "text/plain": [
              "['monday', 'tuesday', 'wednesday', 'thursday', 'fridays', 'saturday']"
            ]
          },
          "metadata": {},
          "execution_count": 108
        }
      ]
    },
    {
      "cell_type": "code",
      "source": [
        "# Delete/Remove Lists Elements\n",
        "del days[2]\n",
        "print(days)\n",
        "\n"
      ],
      "metadata": {
        "colab": {
          "base_uri": "https://localhost:8080/"
        },
        "id": "Wl9Nx_Y3H1zy",
        "outputId": "74c07b09-3281-4f18-c6e2-0cb945139f4c"
      },
      "execution_count": 109,
      "outputs": [
        {
          "output_type": "stream",
          "name": "stdout",
          "text": [
            "['monday', 'tuesday', 'thursday', 'fridays', 'saturday']\n"
          ]
        }
      ]
    },
    {
      "cell_type": "code",
      "source": [
        "days.remove('tuesday')\n",
        "print(days)\n"
      ],
      "metadata": {
        "colab": {
          "base_uri": "https://localhost:8080/"
        },
        "id": "zVUxntF1KTtz",
        "outputId": "f60d6416-8263-4fd0-e86a-b674b0b7b358"
      },
      "execution_count": 110,
      "outputs": [
        {
          "output_type": "stream",
          "name": "stdout",
          "text": [
            "['monday', 'thursday', 'fridays', 'saturday']\n"
          ]
        }
      ]
    },
    {
      "cell_type": "code",
      "source": [
        "days.pop(2)\n",
        "print(days)"
      ],
      "metadata": {
        "colab": {
          "base_uri": "https://localhost:8080/"
        },
        "id": "rZ8dkBmNKi94",
        "outputId": "86485f25-3cef-48f8-8151-b1fba95b8497"
      },
      "execution_count": 111,
      "outputs": [
        {
          "output_type": "stream",
          "name": "stdout",
          "text": [
            "['monday', 'thursday', 'saturday']\n"
          ]
        }
      ]
    },
    {
      "cell_type": "code",
      "source": [
        "# Sort items in a list in ascending order\n",
        "month = ['jan', 'feb', 'mar', 'apr', 'may', 'jun']\n",
        "month.sort()\n",
        "print(month)"
      ],
      "metadata": {
        "colab": {
          "base_uri": "https://localhost:8080/"
        },
        "id": "z-d33iPbKxPI",
        "outputId": "0824dc58-aef0-4363-e244-c06f5c970a6f"
      },
      "execution_count": 112,
      "outputs": [
        {
          "output_type": "stream",
          "name": "stdout",
          "text": [
            "['apr', 'feb', 'jan', 'jun', 'mar', 'may']\n"
          ]
        }
      ]
    },
    {
      "cell_type": "code",
      "source": [
        "month.reverse()\n",
        "print(month)"
      ],
      "metadata": {
        "colab": {
          "base_uri": "https://localhost:8080/"
        },
        "id": "iQuMMsoDA2pX",
        "outputId": "e214aefd-da39-4773-ada2-a814e7aca4e5"
      },
      "execution_count": 113,
      "outputs": [
        {
          "output_type": "stream",
          "name": "stdout",
          "text": [
            "['may', 'mar', 'jun', 'jan', 'feb', 'apr']\n"
          ]
        }
      ]
    },
    {
      "cell_type": "code",
      "source": [
        "# A copy of the list\n",
        "month_copy = month.copy()\n",
        "print(month_copy)"
      ],
      "metadata": {
        "colab": {
          "base_uri": "https://localhost:8080/"
        },
        "id": "ewgILWLdA_gj",
        "outputId": "3b00bd8b-74a5-44ef-ff26-900689dccba7"
      },
      "execution_count": 114,
      "outputs": [
        {
          "output_type": "stream",
          "name": "stdout",
          "text": [
            "['may', 'mar', 'jun', 'jan', 'feb', 'apr']\n"
          ]
        }
      ]
    },
    {
      "cell_type": "code",
      "source": [
        "# Insert item at a disired location\n",
        "month.insert(0, 'jun')\n",
        "print(month)"
      ],
      "metadata": {
        "colab": {
          "base_uri": "https://localhost:8080/"
        },
        "id": "5Yn382DoBPDA",
        "outputId": "87bebf99-395c-448f-d1df-51de263adae0"
      },
      "execution_count": 115,
      "outputs": [
        {
          "output_type": "stream",
          "name": "stdout",
          "text": [
            "['jun', 'may', 'mar', 'jun', 'jan', 'feb', 'apr']\n"
          ]
        }
      ]
    },
    {
      "cell_type": "markdown",
      "source": [
        "**List Comprehension**\n",
        "\n",
        "\n",
        "> In python, list comprehension is used to created a new list based on the values of an existing list in the most elegant and shortest way."
      ],
      "metadata": {
        "id": "0iRMtA5kFUq0"
      }
    },
    {
      "cell_type": "code",
      "source": [
        "sqr = [2**x for x in range(20)]\n",
        "print(sqr)"
      ],
      "metadata": {
        "colab": {
          "base_uri": "https://localhost:8080/"
        },
        "id": "bmCGUMZKCC5X",
        "outputId": "8607e17a-2622-42ad-a7ad-d83639331076"
      },
      "execution_count": 116,
      "outputs": [
        {
          "output_type": "stream",
          "name": "stdout",
          "text": [
            "[1, 2, 4, 8, 16, 32, 64, 128, 256, 512, 1024, 2048, 4096, 8192, 16384, 32768, 65536, 131072, 262144, 524288]\n"
          ]
        }
      ]
    },
    {
      "cell_type": "markdown",
      "source": [
        "**Python Dictionaries**"
      ],
      "metadata": {
        "id": "TrOjhpZUGQsk"
      }
    },
    {
      "cell_type": "code",
      "source": [
        "# Use keys or get method to access elements from dictionary\n",
        "var = {'first': 'sunday', 'second':'monday', 'third':'tuesday'}\n",
        "print(var['first'])\n",
        "print(var.get('first'))\n"
      ],
      "metadata": {
        "colab": {
          "base_uri": "https://localhost:8080/"
        },
        "id": "GEqpLgacF6c9",
        "outputId": "44e05048-ae82-444d-81b7-220cec002416"
      },
      "execution_count": 117,
      "outputs": [
        {
          "output_type": "stream",
          "name": "stdout",
          "text": [
            "sunday\n",
            "sunday\n"
          ]
        }
      ]
    },
    {
      "cell_type": "code",
      "source": [
        "# Add new items or change the value of existing items using an = operator\n",
        "var['second'] = 'friday'\n",
        "print(var)\n",
        "var['fourth'] = 'saturday'\n",
        "print(var)\n"
      ],
      "metadata": {
        "colab": {
          "base_uri": "https://localhost:8080/"
        },
        "id": "TlrerDMuGrB8",
        "outputId": "737b7cee-7fc8-4e23-a387-7564399b9cd0"
      },
      "execution_count": 118,
      "outputs": [
        {
          "output_type": "stream",
          "name": "stdout",
          "text": [
            "{'first': 'sunday', 'second': 'friday', 'third': 'tuesday'}\n",
            "{'first': 'sunday', 'second': 'friday', 'third': 'tuesday', 'fourth': 'saturday'}\n"
          ]
        }
      ]
    },
    {
      "cell_type": "code",
      "source": [
        "# Remove elements using pop() or popitem() method\n",
        "var.pop('third')\n",
        "print(var)"
      ],
      "metadata": {
        "colab": {
          "base_uri": "https://localhost:8080/"
        },
        "id": "xl_oCBzQH8y_",
        "outputId": "d6f582aa-a4d1-4fc0-e9a9-93f505ae8f83"
      },
      "execution_count": 119,
      "outputs": [
        {
          "output_type": "stream",
          "name": "stdout",
          "text": [
            "{'first': 'sunday', 'second': 'friday', 'fourth': 'saturday'}\n"
          ]
        }
      ]
    },
    {
      "cell_type": "code",
      "source": [
        "var.popitem()"
      ],
      "metadata": {
        "colab": {
          "base_uri": "https://localhost:8080/"
        },
        "id": "rQfqtpK2WuMq",
        "outputId": "e7fae450-e3bf-4d19-dd2a-b2e048f53504"
      },
      "execution_count": 120,
      "outputs": [
        {
          "output_type": "execute_result",
          "data": {
            "text/plain": [
              "('fourth', 'saturday')"
            ]
          },
          "metadata": {},
          "execution_count": 120
        }
      ]
    },
    {
      "cell_type": "code",
      "source": [
        "# Returns a new dictionary with keys from seq and value equal to t\n",
        "subjects = {}.fromkeys(['first', 'second', 'third', 'forth'])\n",
        "print(subjects)"
      ],
      "metadata": {
        "colab": {
          "base_uri": "https://localhost:8080/"
        },
        "id": "CUSJMhPdW5rD",
        "outputId": "254b5545-646a-40e2-e3a1-05cd7bcc33c5"
      },
      "execution_count": 121,
      "outputs": [
        {
          "output_type": "stream",
          "name": "stdout",
          "text": [
            "{'first': None, 'second': None, 'third': None, 'forth': None}\n"
          ]
        }
      ]
    },
    {
      "cell_type": "code",
      "source": [
        "# setdefault() method returns the value of a key. if not there, it inserts key with a value to the dictionary.\n",
        "var.setdefault('first')\n",
        "var.setdefault('fifth')\n",
        "print(var)"
      ],
      "metadata": {
        "colab": {
          "base_uri": "https://localhost:8080/"
        },
        "id": "2ilGL-DpXkZP",
        "outputId": "c9dfba0a-bfd5-41fa-f699-e8528877c766"
      },
      "execution_count": 122,
      "outputs": [
        {
          "output_type": "stream",
          "name": "stdout",
          "text": [
            "{'first': 'sunday', 'second': 'friday', 'fifth': None}\n"
          ]
        }
      ]
    },
    {
      "cell_type": "code",
      "source": [
        "# Nested dictionary\n",
        "people = {'subject':{0:'math', 1:'english', 2:'physics'}, \n",
        "          'marks':{0:90, 1:95, 2:89}}\n",
        "print(people)"
      ],
      "metadata": {
        "colab": {
          "base_uri": "https://localhost:8080/"
        },
        "id": "0nGnlko3ZTbn",
        "outputId": "a11c6b85-0171-46ab-d38c-f2bf1337d62b"
      },
      "execution_count": 123,
      "outputs": [
        {
          "output_type": "stream",
          "name": "stdout",
          "text": [
            "{'subject': {0: 'math', 1: 'english', 2: 'physics'}, 'marks': {0: 90, 1: 95, 2: 89}}\n"
          ]
        }
      ]
    },
    {
      "cell_type": "code",
      "source": [
        "# Return a new sorted list of keys in the dictionary\n",
        "sorted(var)\n"
      ],
      "metadata": {
        "colab": {
          "base_uri": "https://localhost:8080/"
        },
        "id": "IIR8hyxhZeuS",
        "outputId": "0d3416e5-cf17-42fe-c587-c908b35c9f5e"
      },
      "execution_count": 124,
      "outputs": [
        {
          "output_type": "execute_result",
          "data": {
            "text/plain": [
              "['fifth', 'first', 'second']"
            ]
          },
          "metadata": {},
          "execution_count": 124
        }
      ]
    },
    {
      "cell_type": "code",
      "source": [
        "# Iterate through dictionary\n",
        "dict1 = {0:'sunday', 1:'monday', 2:'tuesday', 3:'wednesday', 4:'thursday'}\n",
        "for i in dict1.items():\n",
        "  print(i)"
      ],
      "metadata": {
        "colab": {
          "base_uri": "https://localhost:8080/"
        },
        "id": "Q0gTCKPLGItD",
        "outputId": "a2982853-e19a-4786-dcc8-773128dfa9b8"
      },
      "execution_count": 125,
      "outputs": [
        {
          "output_type": "stream",
          "name": "stdout",
          "text": [
            "(0, 'sunday')\n",
            "(1, 'monday')\n",
            "(2, 'tuesday')\n",
            "(3, 'wednesday')\n",
            "(4, 'thursday')\n"
          ]
        }
      ]
    },
    {
      "cell_type": "code",
      "source": [
        "# Dictionary comprehension\n",
        "cubes = {x: x*x*x for x in range(10)}\n",
        "print(cubes)"
      ],
      "metadata": {
        "colab": {
          "base_uri": "https://localhost:8080/"
        },
        "id": "qnwT5ycVGjme",
        "outputId": "9b308d22-dfaf-4d51-8ac2-66ab99be6b91"
      },
      "execution_count": 126,
      "outputs": [
        {
          "output_type": "stream",
          "name": "stdout",
          "text": [
            "{0: 0, 1: 1, 2: 8, 3: 27, 4: 64, 5: 125, 6: 216, 7: 343, 8: 512, 9: 729}\n"
          ]
        }
      ]
    },
    {
      "cell_type": "code",
      "source": [
        "# update() method: updates the dictionary with elements from another dictionary object or from any other key/value pairs\n",
        "dict1 = {0:'zero', 4:'four', 5:'five'}\n",
        "dict2 = {2:'two'}\n",
        "dict1.update(dict2)\n",
        "print(dict1)"
      ],
      "metadata": {
        "colab": {
          "base_uri": "https://localhost:8080/"
        },
        "id": "RNt47ZC4HkgP",
        "outputId": "d1ca5b6c-4e8b-4caf-ae27-76da4f48b905"
      },
      "execution_count": 127,
      "outputs": [
        {
          "output_type": "stream",
          "name": "stdout",
          "text": [
            "{0: 'zero', 4: 'four', 5: 'five', 2: 'two'}\n"
          ]
        }
      ]
    },
    {
      "cell_type": "markdown",
      "source": [
        "**Python Tuple**\n",
        "> tuples are immutable while lists are mutable"
      ],
      "metadata": {
        "id": "Iot7IqFrIXCi"
      }
    },
    {
      "cell_type": "code",
      "source": [
        "tuple1 = (250, 'what', 'char', 87)\n",
        "type(tuple1)"
      ],
      "metadata": {
        "colab": {
          "base_uri": "https://localhost:8080/"
        },
        "id": "1hKll3OLIJs0",
        "outputId": "6d0e38aa-9e4f-4160-b6cd-9cfbf49ebd67"
      },
      "execution_count": 128,
      "outputs": [
        {
          "output_type": "execute_result",
          "data": {
            "text/plain": [
              "tuple"
            ]
          },
          "metadata": {},
          "execution_count": 128
        }
      ]
    },
    {
      "cell_type": "markdown",
      "source": [
        "**Python Sets**\n",
        "1. A set is a collection of objects which is unindexed and unordered.\n",
        "2. There are no duplicate elements in the items."
      ],
      "metadata": {
        "id": "GeCTE8QJI-Yv"
      }
    },
    {
      "cell_type": "code",
      "source": [
        "# Removing elements\n",
        "set1 = {10, 15, 20, 25, 30}\n",
        "set1.discard(10)\n",
        "print(set1)"
      ],
      "metadata": {
        "colab": {
          "base_uri": "https://localhost:8080/"
        },
        "id": "NyTfrnKBIp_6",
        "outputId": "5e10de53-2900-4d28-ea2c-2960c07ad546"
      },
      "execution_count": 129,
      "outputs": [
        {
          "output_type": "stream",
          "name": "stdout",
          "text": [
            "{15, 20, 25, 30}\n"
          ]
        }
      ]
    },
    {
      "cell_type": "code",
      "source": [
        "set1.remove(15)\n",
        "print(set1)"
      ],
      "metadata": {
        "colab": {
          "base_uri": "https://localhost:8080/"
        },
        "id": "0WeoTcLDNWah",
        "outputId": "d28115d1-694d-46d6-c1da-735469a5fc0d"
      },
      "execution_count": 130,
      "outputs": [
        {
          "output_type": "stream",
          "name": "stdout",
          "text": [
            "{20, 25, 30}\n"
          ]
        }
      ]
    },
    {
      "cell_type": "code",
      "source": [
        "set1.pop()\n",
        "print(set1)"
      ],
      "metadata": {
        "colab": {
          "base_uri": "https://localhost:8080/"
        },
        "id": "PaXybQ2JNfww",
        "outputId": "ce04a8c8-7d31-4efb-91c0-4a99439c9e4f"
      },
      "execution_count": 131,
      "outputs": [
        {
          "output_type": "stream",
          "name": "stdout",
          "text": [
            "{25, 30}\n"
          ]
        }
      ]
    },
    {
      "cell_type": "code",
      "source": [
        "# Set operations\n",
        "x = {10, 20, 30, 40, 50}\n",
        "y = {60, 70, 80, 90, 100}\n",
        "z = {20, 60, 80, 40, 100}"
      ],
      "metadata": {
        "id": "TAnX2EnQNiE-"
      },
      "execution_count": 132,
      "outputs": []
    },
    {
      "cell_type": "code",
      "source": [
        "# Union\n",
        "print(x|y|z)"
      ],
      "metadata": {
        "colab": {
          "base_uri": "https://localhost:8080/"
        },
        "id": "ViGUz3TTOUFg",
        "outputId": "86e9cc99-91e4-4c00-8ad7-f74459c14ad6"
      },
      "execution_count": 133,
      "outputs": [
        {
          "output_type": "stream",
          "name": "stdout",
          "text": [
            "{100, 70, 40, 10, 80, 50, 20, 90, 60, 30}\n"
          ]
        }
      ]
    },
    {
      "cell_type": "code",
      "source": [
        "# Intersection\n",
        "print(x&y&z)"
      ],
      "metadata": {
        "colab": {
          "base_uri": "https://localhost:8080/"
        },
        "id": "qgNJra-wOlQE",
        "outputId": "12479923-a19c-44f4-bf70-00af77ce01aa"
      },
      "execution_count": 134,
      "outputs": [
        {
          "output_type": "stream",
          "name": "stdout",
          "text": [
            "set()\n"
          ]
        }
      ]
    },
    {
      "cell_type": "code",
      "source": [
        "# Difference\n",
        "print(x-z)"
      ],
      "metadata": {
        "colab": {
          "base_uri": "https://localhost:8080/"
        },
        "id": "ubBMzOobOo7d",
        "outputId": "8aabf2d8-528b-4f75-d5c2-3c8ff8e5cc34"
      },
      "execution_count": 135,
      "outputs": [
        {
          "output_type": "stream",
          "name": "stdout",
          "text": [
            "{10, 50, 30}\n"
          ]
        }
      ]
    },
    {
      "cell_type": "code",
      "source": [
        "print(x^y^z)"
      ],
      "metadata": {
        "colab": {
          "base_uri": "https://localhost:8080/"
        },
        "id": "nRt9Z6DRPoiU",
        "outputId": "4a830fbf-a5da-44e6-8469-0077ee8ecc6c"
      },
      "execution_count": 136,
      "outputs": [
        {
          "output_type": "stream",
          "name": "stdout",
          "text": [
            "{70, 10, 50, 90, 30}\n"
          ]
        }
      ]
    },
    {
      "cell_type": "code",
      "source": [
        "X = {10, 20, 30, 40, 50}\n",
        "Y = {40, 50, 60, 70, 80}\n",
        "Z = {20, 30, 100, 50, 10}\n",
        "print(\"Set Symmetric Difference:\", X^Y)"
      ],
      "metadata": {
        "colab": {
          "base_uri": "https://localhost:8080/"
        },
        "id": "6E0T-ilVP-Uf",
        "outputId": "703a4aa3-d0e9-4673-f7be-a60e4b012b19"
      },
      "execution_count": 137,
      "outputs": [
        {
          "output_type": "stream",
          "name": "stdout",
          "text": [
            "Set Symmetric Difference: {80, 20, 70, 10, 60, 30}\n"
          ]
        }
      ]
    },
    {
      "cell_type": "markdown",
      "source": [
        "# Day8\n"
      ],
      "metadata": {
        "id": "n0YAUwijTXL0"
      }
    },
    {
      "cell_type": "markdown",
      "source": [
        "**Loops in Python**\n"
      ],
      "metadata": {
        "id": "tzkGwbDHTx8r"
      }
    },
    {
      "cell_type": "code",
      "source": [
        "# for loop\n",
        "price = 200\n",
        "if price > 150:\n",
        "  print('Price is greated than 150')\n",
        "elif price == 150:\n",
        "  print('Price is 150')\n",
        "else:\n",
        "  print('Price is less than 150')"
      ],
      "metadata": {
        "id": "spb916TpTSS1",
        "colab": {
          "base_uri": "https://localhost:8080/"
        },
        "outputId": "d6c42b65-24f8-4e6e-cbd2-eaff4f0484c1"
      },
      "execution_count": 138,
      "outputs": [
        {
          "output_type": "stream",
          "name": "stdout",
          "text": [
            "Price is greated than 150\n"
          ]
        }
      ]
    },
    {
      "cell_type": "code",
      "source": [
        "# while loop\n",
        "i = 1\n",
        "while i < 6:\n",
        "  print('less than 6')\n",
        "  i += 1\n",
        "else:\n",
        "  print('larger than or equal 6')\n"
      ],
      "metadata": {
        "colab": {
          "base_uri": "https://localhost:8080/"
        },
        "id": "RHhBGp6wVgXe",
        "outputId": "2bd43dac-a3b2-4732-d769-b4458474c5bd"
      },
      "execution_count": 139,
      "outputs": [
        {
          "output_type": "stream",
          "name": "stdout",
          "text": [
            "less than 6\n",
            "less than 6\n",
            "less than 6\n",
            "less than 6\n",
            "less than 6\n",
            "larger than or equal 6\n"
          ]
        }
      ]
    },
    {
      "cell_type": "markdown",
      "source": [
        "**Break statement**\n",
        "* In python, we can use break statement when we want to terminate the current loop without checking test condition.\n",
        "* Once terminated using the break statement, the control of the program goes to the statement immediatedly after the body of the loop.\n",
        "* Break is to terminate for loop so It must be inside loop."
      ],
      "metadata": {
        "id": "2UXwfkh1Wq-N"
      }
    },
    {
      "cell_type": "code",
      "source": [
        "count = 0\n",
        "while True:\n",
        "  print(count)\n",
        "  count += 1\n",
        "  if count >= 10:\n",
        "    break"
      ],
      "metadata": {
        "colab": {
          "base_uri": "https://localhost:8080/"
        },
        "id": "sJr2MWoVVuSy",
        "outputId": "42063c59-1989-40dc-d997-38985becffbe"
      },
      "execution_count": 140,
      "outputs": [
        {
          "output_type": "stream",
          "name": "stdout",
          "text": [
            "0\n",
            "1\n",
            "2\n",
            "3\n",
            "4\n",
            "5\n",
            "6\n",
            "7\n",
            "8\n",
            "9\n"
          ]
        }
      ]
    },
    {
      "cell_type": "code",
      "source": [
        "for i in range(16):\n",
        "  if i > 8:\n",
        "    print(i)\n",
        "    break\n"
      ],
      "metadata": {
        "colab": {
          "base_uri": "https://localhost:8080/"
        },
        "id": "IkEvfUDWXfJJ",
        "outputId": "bae7cac8-1418-4a94-d247-368c834dbc95"
      },
      "execution_count": 141,
      "outputs": [
        {
          "output_type": "stream",
          "name": "stdout",
          "text": [
            "9\n"
          ]
        }
      ]
    },
    {
      "cell_type": "markdown",
      "source": [
        "**Continue statement**\n",
        "* Use continue statement when to skip the rest of the code for the current loop iteration.\n"
      ],
      "metadata": {
        "id": "Wc7h-DEVbOzb"
      }
    },
    {
      "cell_type": "code",
      "source": [
        "for x in range(15):\n",
        "  if x % 2 == 0:\n",
        "    continue\n",
        "  print(x)"
      ],
      "metadata": {
        "colab": {
          "base_uri": "https://localhost:8080/"
        },
        "id": "9giLDQujaR1P",
        "outputId": "62fa6063-ed73-4ea7-e45f-378ed101d3a2"
      },
      "execution_count": 142,
      "outputs": [
        {
          "output_type": "stream",
          "name": "stdout",
          "text": [
            "1\n",
            "3\n",
            "5\n",
            "7\n",
            "9\n",
            "11\n",
            "13\n"
          ]
        }
      ]
    },
    {
      "cell_type": "markdown",
      "source": [
        "**Input in python**\n",
        "* raw_input() function reads one line from user input and return it as a string. \n",
        "* input() function is similar to raw_input, except it evaluates the user expression.\n",
        "\n",
        "**Output in python**\n",
        "* Output by print() function and string literals are used to format the output.\n"
      ],
      "metadata": {
        "id": "zAftZHT8hRyl"
      }
    },
    {
      "cell_type": "code",
      "source": [
        "# number = input(\"Enter the number:\")"
      ],
      "metadata": {
        "id": "EVsyWUEohROl"
      },
      "execution_count": 143,
      "outputs": []
    },
    {
      "cell_type": "markdown",
      "source": [
        "**Object Oriented Programming**\n",
        "* In python everything is a object. An object has two characteristics: Attributes and Behavior.\n",
        "* Class and constructor is a blueprint for the object. In python we use the class keyword to define class.\n",
        "* Method is a function associated with an object.\n",
        "* Inheritance specifies that the child object acquires all the properties and behaviors of the parent object. \n",
        "* Polymorphism refers to functions having the same names but carrying different functionalities.\n",
        "* Encapsulation to prevent data from direct modification. \n"
      ],
      "metadata": {
        "id": "h68hPOl_i8yZ"
      }
    },
    {
      "cell_type": "code",
      "source": [
        "# Define a class\n",
        "class cat:\n",
        "  def __init__(self, cat_name, cat_breed):\n",
        "    self.name = cat_name\n",
        "    self.age = cat_breed\n",
        "    "
      ],
      "metadata": {
        "id": "6PrJvC1agwlt"
      },
      "execution_count": 144,
      "outputs": []
    },
    {
      "cell_type": "code",
      "source": [
        "# Class attribute and Instance Attribute\n",
        "class emp:\n",
        "  x =10\n",
        "  def __init__(self):\n",
        "    self.name = 'Steve'\n",
        "    self.salary = 10000\n",
        "  def display(self):\n",
        "    print(self.name)\n",
        "    print(self.salary)\n",
        "emp_object = emp()\n",
        "vars(emp_object)"
      ],
      "metadata": {
        "colab": {
          "base_uri": "https://localhost:8080/"
        },
        "id": "Dg1x8Ay6tcdH",
        "outputId": "e53d8775-ba25-4f8e-c50c-18cbbf3f51c1"
      },
      "execution_count": 145,
      "outputs": [
        {
          "output_type": "execute_result",
          "data": {
            "text/plain": [
              "{'name': 'Steve', 'salary': 10000}"
            ]
          },
          "metadata": {},
          "execution_count": 145
        }
      ]
    },
    {
      "cell_type": "markdown",
      "source": [
        "**Private Variables in Python**\n",
        "\n",
        "In python, a variable is a named location used to store or hold the value/data in the memory.\n",
        "* When create a variable inside a function, it is local by default.\n",
        "* We create private variables by using underscore_ before a named prefix.\n",
        "\n",
        "There are three ways to implement private variables:\n",
        "* _single leading underscore\n",
        "* __double leading underscore\n",
        "* __double leading and double trailing underscore"
      ],
      "metadata": {
        "id": "JQZFwOE1unT2"
      }
    },
    {
      "cell_type": "code",
      "source": [
        "class test:\n",
        "  def __init__(self, num):\n",
        "    self._num = num\n",
        "  def _numfunc(self):\n",
        "    print('hello')\n",
        "\n",
        "obj = test(156)\n",
        "obj._numfunc()"
      ],
      "metadata": {
        "colab": {
          "base_uri": "https://localhost:8080/"
        },
        "id": "z10w2-S6uPX3",
        "outputId": "639116ea-4445-48b0-fcfe-8c4909cacf27"
      },
      "execution_count": 146,
      "outputs": [
        {
          "output_type": "stream",
          "name": "stdout",
          "text": [
            "hello\n"
          ]
        }
      ]
    },
    {
      "cell_type": "code",
      "source": [
        "class myClass:\n",
        "  __privateVar = 27\n",
        "  def __privMeth(self):\n",
        "    print(\"I am insideclass myClass\")\n",
        "  def hello(self):\n",
        "    print(\"Private Variable value\", myClass.__privateVar)\n",
        "\n",
        "foo = myClass()\n",
        "foo.hello()"
      ],
      "metadata": {
        "colab": {
          "base_uri": "https://localhost:8080/"
        },
        "id": "NjYgaCr5jR0I",
        "outputId": "24fb7dfc-e2fd-4f4c-dfdd-cda1cb642169"
      },
      "execution_count": 147,
      "outputs": [
        {
          "output_type": "stream",
          "name": "stdout",
          "text": [
            "Private Variable value 27\n"
          ]
        }
      ]
    },
    {
      "cell_type": "markdown",
      "source": [
        "From the example, we can not access the private method and private variable. However, inside the class we can access the private variable. In the hello() method, the private variable can be acessed."
      ],
      "metadata": {
        "id": "WC-dH_xWnLwv"
      }
    },
    {
      "cell_type": "code",
      "source": [
        "# Private variable\n",
        "class test:\n",
        "  def __init__(self, num):\n",
        "    self.__num = num\n",
        "  def print(self):\n",
        "    print(self.__num)\n",
        "obj = test(160)\n",
        "obj.print()"
      ],
      "metadata": {
        "colab": {
          "base_uri": "https://localhost:8080/"
        },
        "id": "-JxIkmLhkTq6",
        "outputId": "bf4de7bb-e6d0-4b1c-c065-cfc50603f9fa"
      },
      "execution_count": 148,
      "outputs": [
        {
          "output_type": "stream",
          "name": "stdout",
          "text": [
            "160\n"
          ]
        }
      ]
    },
    {
      "cell_type": "markdown",
      "source": [
        "# Day9"
      ],
      "metadata": {
        "id": "ixD-994icO_O"
      }
    },
    {
      "cell_type": "markdown",
      "source": [
        "**Python Scope and Namespace**\n",
        "\n",
        "In Python, the concept of scope is closely related that of the namespace. Python scope determines where a name is visible and python scope is implemented as dictionaries mapping names to objects. These dictionaries are commonly called namespace."
      ],
      "metadata": {
        "id": "wepriHILThoF"
      }
    },
    {
      "cell_type": "code",
      "source": [
        "import sys\n",
        "sys.__dict__.keys()"
      ],
      "metadata": {
        "colab": {
          "base_uri": "https://localhost:8080/"
        },
        "id": "dPiqHKeMUbiH",
        "outputId": "29464186-7f60-4534-9aea-7cf846e08f08"
      },
      "execution_count": 149,
      "outputs": [
        {
          "output_type": "execute_result",
          "data": {
            "text/plain": [
              "dict_keys(['__name__', '__doc__', '__package__', '__loader__', '__spec__', 'breakpointhook', 'callstats', '_clear_type_cache', '_current_frames', 'displayhook', 'exc_info', 'excepthook', 'exit', 'getdefaultencoding', 'getdlopenflags', 'getallocatedblocks', 'getfilesystemencoding', 'getfilesystemencodeerrors', 'getrefcount', 'getrecursionlimit', 'getsizeof', '_getframe', 'intern', 'is_finalizing', 'setcheckinterval', 'getcheckinterval', 'setswitchinterval', 'getswitchinterval', 'setdlopenflags', 'setprofile', 'getprofile', 'setrecursionlimit', 'settrace', 'gettrace', 'call_tracing', '_debugmallocstats', 'set_coroutine_origin_tracking_depth', 'get_coroutine_origin_tracking_depth', 'set_coroutine_wrapper', 'get_coroutine_wrapper', 'set_asyncgen_hooks', 'get_asyncgen_hooks', 'get_int_max_str_digits', 'set_int_max_str_digits', '__displayhook__', '__excepthook__', '__breakpointhook__', 'version', 'hexversion', '_git', '_framework', 'api_version', 'copyright', 'platform', 'maxsize', 'float_info', 'int_info', 'hash_info', 'maxunicode', 'builtin_module_names', 'byteorder', 'abiflags', 'version_info', 'implementation', 'flags', 'float_repr_style', 'thread_info', 'modules', 'stderr', '__stderr__', 'meta_path', 'path_importer_cache', 'path_hooks', 'path', 'executable', 'prefix', 'base_prefix', 'exec_prefix', 'base_exec_prefix', 'argv', 'warnoptions', '_xoptions', 'dont_write_bytecode', '__stdin__', 'stdin', '__stdout__', 'stdout', '_home', '__interactivehook__', 'ps1', 'ps2', 'ps3'])"
            ]
          },
          "metadata": {},
          "execution_count": 149
        }
      ]
    },
    {
      "cell_type": "markdown",
      "source": [
        "This returns a list with all the names defined at the top level of the module."
      ],
      "metadata": {
        "id": "BWbjGdThVHV_"
      }
    },
    {
      "cell_type": "markdown",
      "source": [
        "**Global and non local variables in python**\n",
        "\n",
        "\n",
        "> It is local variable by default when we create a variable inside a function. If outside of a function, it is global by default.\n",
        "\n",
        "> We can define a variable outside a function and use the variable inside the function or we can define a variable by statement global inside a function and use it outside function. \n",
        "\n"
      ],
      "metadata": {
        "id": "1FpsJMiWLgzP"
      }
    },
    {
      "cell_type": "code",
      "source": [
        "# local variable\n",
        "def test():\n",
        "  l = 'local variable'\n",
        "  return l\n",
        "\n",
        "var=test()\n",
        "\n",
        "print(var)"
      ],
      "metadata": {
        "colab": {
          "base_uri": "https://localhost:8080/"
        },
        "id": "iuvlpJm5mtwV",
        "outputId": "645fa300-e8b5-4718-c5cd-fb85743e2bba"
      },
      "execution_count": 150,
      "outputs": [
        {
          "output_type": "stream",
          "name": "stdout",
          "text": [
            "local variable\n"
          ]
        }
      ]
    },
    {
      "cell_type": "code",
      "source": [
        "# global variable\n",
        "var = 10\n",
        "def test2():\n",
        "  var = 20\n",
        "  print('value of variable', var)\n",
        "var2 = test2()\n",
        "var2"
      ],
      "metadata": {
        "colab": {
          "base_uri": "https://localhost:8080/"
        },
        "id": "5ybE0mfDO6Su",
        "outputId": "ef349faa-6c86-4259-dffc-19eab2d96034"
      },
      "execution_count": 151,
      "outputs": [
        {
          "output_type": "stream",
          "name": "stdout",
          "text": [
            "value of variable 20\n"
          ]
        }
      ]
    },
    {
      "cell_type": "markdown",
      "source": [
        "**First Class functions in Python**\n",
        "\n",
        "Functions are treated like any other variable. "
      ],
      "metadata": {
        "id": "IheGjmx8cWco"
      }
    },
    {
      "cell_type": "code",
      "source": [
        "def inner(a):\n",
        "  return a\n",
        "\n",
        "def outer(b):\n",
        "  return(inner(b))\n",
        "\n",
        "outer(8)\n"
      ],
      "metadata": {
        "colab": {
          "base_uri": "https://localhost:8080/"
        },
        "id": "z_7IZoJYQYR_",
        "outputId": "5f36ee46-8904-4087-94ef-9acbde8728a6"
      },
      "execution_count": 152,
      "outputs": [
        {
          "output_type": "execute_result",
          "data": {
            "text/plain": [
              "8"
            ]
          },
          "metadata": {},
          "execution_count": 152
        }
      ]
    },
    {
      "cell_type": "code",
      "source": [
        "def outer(num):\n",
        "  def inner(num_inner):\n",
        "    return(num_inner)\n",
        "  return(inner(num))"
      ],
      "metadata": {
        "id": "2BD7tf813GJ5"
      },
      "execution_count": 153,
      "outputs": []
    },
    {
      "cell_type": "code",
      "source": [
        "outer(10)"
      ],
      "metadata": {
        "colab": {
          "base_uri": "https://localhost:8080/"
        },
        "id": "VLUG58D83O4z",
        "outputId": "29810bdc-a472-44fe-896e-ab59ba2b2177"
      },
      "execution_count": 154,
      "outputs": [
        {
          "output_type": "execute_result",
          "data": {
            "text/plain": [
              "10"
            ]
          },
          "metadata": {},
          "execution_count": 154
        }
      ]
    },
    {
      "cell_type": "markdown",
      "source": [
        "**Tuple Unpacking with Python Functions**\n",
        "\n",
        "In python, tumples are immutable data types. Python offers a very powerful tuple assignment tool that maps right hand side arguments into left side arguments."
      ],
      "metadata": {
        "id": "1SQ-mJ8k4a8D"
      }
    },
    {
      "cell_type": "code",
      "source": [
        "def result(a, b):\n",
        "  return(a+b)\n",
        "print(result(100,200))"
      ],
      "metadata": {
        "colab": {
          "base_uri": "https://localhost:8080/"
        },
        "id": "WMGprwmy3Q8X",
        "outputId": "60abb67d-3384-4612-8d85-728b3b6e9959"
      },
      "execution_count": 155,
      "outputs": [
        {
          "output_type": "stream",
          "name": "stdout",
          "text": [
            "300\n"
          ]
        }
      ]
    },
    {
      "cell_type": "code",
      "source": [
        "c = (300,400)\n",
        "print(result(*c))"
      ],
      "metadata": {
        "colab": {
          "base_uri": "https://localhost:8080/"
        },
        "id": "07IXYyI_5Vg6",
        "outputId": "f0d090c3-05e4-4da0-bb57-303f7fa2766b"
      },
      "execution_count": 156,
      "outputs": [
        {
          "output_type": "stream",
          "name": "stdout",
          "text": [
            "700\n"
          ]
        }
      ]
    },
    {
      "cell_type": "code",
      "source": [
        "print(*c)"
      ],
      "metadata": {
        "colab": {
          "base_uri": "https://localhost:8080/"
        },
        "id": "q861K7Tc5b8d",
        "outputId": "1dfeaf68-b2f8-4fc4-ef5b-09f772b22d4a"
      },
      "execution_count": 157,
      "outputs": [
        {
          "output_type": "stream",
          "name": "stdout",
          "text": [
            "300 400\n"
          ]
        }
      ]
    },
    {
      "cell_type": "markdown",
      "source": [
        "**Static Method**\n",
        "> Static method is similar to class level method. \n",
        "\n",
        "> Static method is bound to a class rather than a object. \n",
        "\n",
        "> Static method can not modify the state of an object"
      ],
      "metadata": {
        "id": "InT6Pij_7uM8"
      }
    },
    {
      "cell_type": "code",
      "source": [
        "class Calculator:\n",
        "  def addNumbers(x, y):\n",
        "    return(x + y)\n",
        "Calculator.addNumbers = staticmethod(Calculator.addNumbers)\n",
        "\n",
        "Calculator.addNumbers(100, 50)"
      ],
      "metadata": {
        "colab": {
          "base_uri": "https://localhost:8080/"
        },
        "id": "oIGWiuoQ5fC7",
        "outputId": "aa439ac1-a268-4b58-8a67-e3816342cfa2"
      },
      "execution_count": 158,
      "outputs": [
        {
          "output_type": "execute_result",
          "data": {
            "text/plain": [
              "150"
            ]
          },
          "metadata": {},
          "execution_count": 158
        }
      ]
    },
    {
      "cell_type": "code",
      "source": [
        "class calculator:\n",
        "  @staticmethod\n",
        "  def addNumbers(x, y):\n",
        "    return(x + y)\n",
        "calculator.addNumbers(90, 60)"
      ],
      "metadata": {
        "colab": {
          "base_uri": "https://localhost:8080/"
        },
        "id": "YeSyv-2u83nJ",
        "outputId": "43b7c4d6-c93d-4498-f6fc-73ef6ac255d9"
      },
      "execution_count": 159,
      "outputs": [
        {
          "output_type": "execute_result",
          "data": {
            "text/plain": [
              "150"
            ]
          },
          "metadata": {},
          "execution_count": 159
        }
      ]
    },
    {
      "cell_type": "markdown",
      "source": [
        "**Lambda Functions in Python**\n",
        "\n",
        "The keyword \"Lambda\" is used to created anonymous functions. It is only allowed one expression."
      ],
      "metadata": {
        "id": "KLVjqp3bJcF-"
      }
    },
    {
      "cell_type": "code",
      "source": [
        "x = lambda a, b, c: a* b +c\n",
        "x(1,2,3)"
      ],
      "metadata": {
        "id": "VrXIjhg19Z61",
        "colab": {
          "base_uri": "https://localhost:8080/"
        },
        "outputId": "a91af671-09a2-4b68-bdf1-18d7dac4a396"
      },
      "execution_count": 160,
      "outputs": [
        {
          "output_type": "execute_result",
          "data": {
            "text/plain": [
              "5"
            ]
          },
          "metadata": {},
          "execution_count": 160
        }
      ]
    },
    {
      "cell_type": "markdown",
      "source": [
        "**Map and Filter Functions in Python**\n",
        "\n",
        "> The map() function applies the given to each item of a given iterable construct and returns a map object.\n",
        "\n",
        "> The filter() function returns a iterators when the items are filtered through a function to test if the items is true or not."
      ],
      "metadata": {
        "id": "bHREKLiGPhio"
      }
    },
    {
      "cell_type": "code",
      "source": [
        "days = ['sunday', 'monday', 'tuesday', 'wednesday']\n",
        "mod_days = list(map(str.swapcase, days))\n",
        "mod_days"
      ],
      "metadata": {
        "colab": {
          "base_uri": "https://localhost:8080/"
        },
        "id": "AhfoJSL5NsiH",
        "outputId": "087cef92-8e32-48bd-a0a7-ab7c8a029f53"
      },
      "execution_count": 165,
      "outputs": [
        {
          "output_type": "execute_result",
          "data": {
            "text/plain": [
              "['SUNDAY', 'MONDAY', 'TUESDAY', 'WEDNESDAY']"
            ]
          },
          "metadata": {},
          "execution_count": 165
        }
      ]
    },
    {
      "cell_type": "code",
      "source": [
        "marks = [60, 70, 80, 80, 90, 20]\n",
        "def stud(score):\n",
        "  return score == 80\n",
        "list(filter(stud, marks))"
      ],
      "metadata": {
        "colab": {
          "base_uri": "https://localhost:8080/"
        },
        "id": "xtGEdwOtWgXp",
        "outputId": "09664321-f86a-4fbe-8987-45b3c7e00e0b"
      },
      "execution_count": 169,
      "outputs": [
        {
          "output_type": "execute_result",
          "data": {
            "text/plain": [
              "[80, 80]"
            ]
          },
          "metadata": {},
          "execution_count": 169
        }
      ]
    },
    {
      "cell_type": "markdown",
      "source": [
        "**Time Series**"
      ],
      "metadata": {
        "id": "vrmLL8mN8dK2"
      }
    },
    {
      "cell_type": "code",
      "source": [
        "import pandas as pd\n",
        "df = pd.DataFrame({\"Date\": [\n",
        "            pd.Timestamp(\"2000-01-02\"),\n",
        "            pd.Timestamp(\"2000-01-02\"),\n",
        "            pd.Timestamp(\"2000-01-09\"),\n",
        "            pd.Timestamp(\"2000-01-16\")\n",
        "        ],\n",
        "        \"ID\": [0, 1, 2, 3], \n",
        "        \"Price\": [10, 20, 30, 40]}\n",
        ")"
      ],
      "metadata": {
        "id": "YGkuCYO4WhbZ"
      },
      "execution_count": 1,
      "outputs": []
    },
    {
      "cell_type": "code",
      "source": [
        "print(df.groupby(pd.Grouper(key='Date', freq='d')).sum())\n",
        "print(df.groupby(pd.Grouper(key='Date', freq='w')).sum())"
      ],
      "metadata": {
        "colab": {
          "base_uri": "https://localhost:8080/"
        },
        "id": "86uiA2NVCchB",
        "outputId": "5a183950-e4da-41c3-9193-d758ca62acb2"
      },
      "execution_count": 9,
      "outputs": [
        {
          "output_type": "stream",
          "name": "stdout",
          "text": [
            "            ID  Price\n",
            "Date                 \n",
            "2000-01-02   1     30\n",
            "2000-01-03   0      0\n",
            "2000-01-04   0      0\n",
            "2000-01-05   0      0\n",
            "2000-01-06   0      0\n",
            "2000-01-07   0      0\n",
            "2000-01-08   0      0\n",
            "2000-01-09   2     30\n",
            "2000-01-10   0      0\n",
            "2000-01-11   0      0\n",
            "2000-01-12   0      0\n",
            "2000-01-13   0      0\n",
            "2000-01-14   0      0\n",
            "2000-01-15   0      0\n",
            "2000-01-16   3     40\n",
            "            ID  Price\n",
            "Date                 \n",
            "2000-01-02   1     30\n",
            "2000-01-09   2     30\n",
            "2000-01-16   3     40\n"
          ]
        }
      ]
    },
    {
      "cell_type": "markdown",
      "source": [
        "**Magic Method in Python**\n",
        "\n",
        "> The special methods that start and end with double underscores.\n",
        "\n",
        "> Magic methods are not meant to be invoked directly by you, but the invocation happens internally fromthe class on a certain action. For example, when add two numbers using the + operator, the \"__add__()\" method will be called."
      ],
      "metadata": {
        "id": "k5Il_sA1nJ0n"
      }
    },
    {
      "cell_type": "code",
      "source": [
        "num = 10\n",
        "print(num + 5)\n",
        "print(num.__add__(5))"
      ],
      "metadata": {
        "colab": {
          "base_uri": "https://localhost:8080/"
        },
        "id": "6IgbTRz2CfW_",
        "outputId": "8940b20d-30cb-4636-d0a1-724966be0844"
      },
      "execution_count": 2,
      "outputs": [
        {
          "output_type": "stream",
          "name": "stdout",
          "text": [
            "15\n",
            "15\n"
          ]
        }
      ]
    },
    {
      "cell_type": "code",
      "source": [
        "class Employee:\n",
        "  def __new__(cls):\n",
        "    print('__new__ magic method is called')\n",
        "    inst = object.__new__(cls)\n",
        "    return inst\n",
        "  def __init__(self):\n",
        "    print('__init__magic method is called')\n",
        "    self.name = 'Sanyong'\n",
        "emp = Employee()"
      ],
      "metadata": {
        "colab": {
          "base_uri": "https://localhost:8080/"
        },
        "id": "DwBlYZ28qNzS",
        "outputId": "21d5e23b-e36d-44de-e838-182a76f0090c"
      },
      "execution_count": 3,
      "outputs": [
        {
          "output_type": "stream",
          "name": "stdout",
          "text": [
            "__new__ magic method is called\n",
            "__init__magic method is called\n"
          ]
        }
      ]
    },
    {
      "cell_type": "code",
      "source": [
        "class Employee:\n",
        "  def __init__(self):\n",
        "    self.name = 'Nancy'\n",
        "    self.salary = 90000\n",
        "  def __str__(self):\n",
        "    return('Name:'+self.name+', Salary:'+str(self.salary))\n",
        "emp1 = Employee()"
      ],
      "metadata": {
        "id": "F4IUtk_krEeR"
      },
      "execution_count": 19,
      "outputs": []
    },
    {
      "cell_type": "code",
      "source": [
        "print(emp1)"
      ],
      "metadata": {
        "colab": {
          "base_uri": "https://localhost:8080/"
        },
        "id": "DlI9ds1Ur0LO",
        "outputId": "1fae5d54-2b73-48bb-f1d5-f519a4b40308"
      },
      "execution_count": 20,
      "outputs": [
        {
          "output_type": "stream",
          "name": "stdout",
          "text": [
            "Name:Nancy, Salary:90000\n"
          ]
        }
      ]
    },
    {
      "cell_type": "markdown",
      "source": [
        "**Inhertance in Python**\n",
        "\n",
        "* Using inheritance you can use or inherit all the data fields and methods available in the parent class. \n",
        "* On top of it, you can add you own methods and data fields."
      ],
      "metadata": {
        "id": "aiLu8xDls3vB"
      }
    },
    {
      "cell_type": "code",
      "source": [
        "class Vehicle:\n",
        "  def __init__(self, name, color):\n",
        "    self.__name = name\n",
        "    self.__color = color\n",
        "  def getColor(self):\n",
        "    return self.__color\n",
        "  def setColor(self, color):\n",
        "    self.__color = color\n",
        "  def getName(self):\n",
        "    return self.__name\n",
        "  \n",
        "class Bike(Vehicle):\n",
        "  def __init__(self, name, color, model):\n",
        "    super().__init__(name, color)\n",
        "    self.__model = model\n",
        "  def getDetails(self):\n",
        "    return self.getName() + self.__model + \" in \" + self.getColor() + \" color\"\n",
        "    "
      ],
      "metadata": {
        "id": "5AMGmfz8sRH3"
      },
      "execution_count": 31,
      "outputs": []
    },
    {
      "cell_type": "code",
      "source": [
        "mybike = Bike(\"giant\", \"red\", \"mountain\")\n",
        "mybike.getDetails()"
      ],
      "metadata": {
        "colab": {
          "base_uri": "https://localhost:8080/",
          "height": 35
        },
        "id": "a_w7ravSwhb6",
        "outputId": "fef16ea3-9533-4f5a-923e-4c7d0c6222c0"
      },
      "execution_count": 32,
      "outputs": [
        {
          "output_type": "execute_result",
          "data": {
            "text/plain": [
              "'giantmountain in red color'"
            ],
            "application/vnd.google.colaboratory.intrinsic+json": {
              "type": "string"
            }
          },
          "metadata": {},
          "execution_count": 32
        }
      ]
    },
    {
      "cell_type": "markdown",
      "source": [
        "**Polymorphism in Python**\n",
        "* In python, polymorphism allows us to define method in the child class with the same name as defined in their parent class."
      ],
      "metadata": {
        "id": "BsHqpvou0uBD"
      }
    },
    {
      "cell_type": "code",
      "source": [],
      "metadata": {
        "id": "C_tfs2Y8w-05"
      },
      "execution_count": null,
      "outputs": []
    }
  ]
}