{
  "nbformat": 4,
  "nbformat_minor": 0,
  "metadata": {
    "colab": {
      "provenance": [],
      "authorship_tag": "ABX9TyMPYE8UTlCNvr6FpR4OX3Wr",
      "include_colab_link": true
    },
    "kernelspec": {
      "name": "python3",
      "display_name": "Python 3"
    },
    "language_info": {
      "name": "python"
    }
  },
  "cells": [
    {
      "cell_type": "markdown",
      "metadata": {
        "id": "view-in-github",
        "colab_type": "text"
      },
      "source": [
        "<a href=\"https://colab.research.google.com/github/macorony/Data_Engineering_Learning/blob/main/Data_Engineering.ipynb\" target=\"_parent\"><img src=\"https://colab.research.google.com/assets/colab-badge.svg\" alt=\"Open In Colab\"/></a>"
      ]
    },
    {
      "cell_type": "markdown",
      "source": [
        "# Objective\n",
        "Learning bits and pieces of important theory and concept"
      ],
      "metadata": {
        "id": "_zFr2nYXGegE"
      }
    },
    {
      "cell_type": "markdown",
      "source": [
        "# Day1\n",
        "Data engineering ecosystem\n",
        "1. Data\n",
        "2. Data stores and repositories\n",
        "3. Data pipeline\n",
        "4. Analytics and data driven decision making\n",
        "\n",
        "What is data engineering?\n",
        "Building, architecting, design, implementing data stores and repositories, data lakes and gathering, importing, cleaning, pre-processing, querying, and analyzing data. Also monitoring, evaluating, optimizing and fine tuning the process"
      ],
      "metadata": {
        "id": "zCznQDEMFsy_"
      }
    },
    {
      "cell_type": "markdown",
      "source": [
        "# Day2 \n",
        "The features of Python\n",
        "1. high-level programming language focusing on readability, coherence and productivity. Python code is typically much less than the equivalent C++ or Java. That means less to type, less to debug and less to maintain.\n",
        "2. Most Python programes run unchanged on different computer platform porting Python code between Linux and Windows. \n",
        "3. A large collection of standard libraries. The Numpy extension is a free and more powerful equivalent to the Matlab numeric programming system.\n",
        "4. Python can be better described as a general purpose programming language that blends procedural, functional, and object-oriented paradigms.\n",
        "5. Relative lower execution speed compared to compiled and lower-level languages.Because Python compiles source code into an intermediated format known as byte code and then interpret the byte code, a platform-independent format.\n",
        "\n",
        "How Python interpreter works\n",
        "1. An interpreter is a program that executes other programs. Technically, the interpreter is a layer of software logic between your code and the computer hardward. \n",
        "2. Under the hood, Python compiles source code into a byte code. The byte code of the programs is stored in the files with *.pyc* extension.\n",
        "3. Sourcr changes: Python automatically checks the last-modified timestamps of source and byte code files to know whne it must recompile.\n",
        "4. If Python cannot write the byte code files to your machine, the program still works. The byte code is generated in memory and simply discarded on program exit. \n",
        "5. Once the program has been compiled to byte code, it is forwarded to execution by Python Virtual Machine. In fact, the PVM is a big loop that iterates through the byte code instructions. The PVM is the runtime engine of Python presenting as part of the Python system, and it truly runs your scripts.\n",
        "6. Python byte code is not binary machine code, it is a Python-specific representation. This is why some Python code may not run as fast as C or C++ code. The byte code instructions require more work than CPU instructions. On the other hand, unlike in classic intepreters, there is still an internal compile step.\n",
        "\n",
        "\n",
        "\n",
        "\n",
        "\n"
      ],
      "metadata": {
        "id": "FLHnMhoMFV4e"
      }
    },
    {
      "cell_type": "markdown",
      "source": [
        "# Day3"
      ],
      "metadata": {
        "id": "ijqF7mHV1V1y"
      }
    },
    {
      "cell_type": "markdown",
      "source": [
        "The Python Conceptual Hierarchy\n",
        "1. Programs are composed of modules.\n",
        "2. Modules contain statements.\n",
        "3. Statements contain expressions.\n",
        "4. Expressions created and process objects.\n",
        "\n",
        "Why Built-in Types?\n",
        "1. Built-in objects make programs easy to write.\n",
        "2. Built-in objects are components of extensions.\n",
        "3. Built-in objects are often more efficient than custom data structures.\n",
        "4. Built-in objects are a standard part of the language.\n",
        "\n",
        "Core Data Types\n",
        "1. Number\n",
        "2. String\n",
        "3. List\n",
        "4. Dictionary\n",
        "5. Tuple\n",
        "6. File\n",
        "7. Set\n",
        "8. Boolean\n",
        "9. Program unit types such as function, modules, classes\n",
        "10. Implementation-related types such as compiled code, stack traceback\n",
        "\n",
        "We call these core data types because they effetively built into the Python language. Once you create an object, you bind its operation set for all time. So Python is dynmically typed, a model that keeps track of types for you automatically instead of requiring declaration code, but it also constraint what you can perform on an object. "
      ],
      "metadata": {
        "id": "RI2Jb71P1V_B"
      }
    },
    {
      "cell_type": "markdown",
      "source": [
        "Numbers\n",
        "1. integers\n",
        "2. floating-point \n",
        "3. complexe\n",
        "4. decimal\n",
        "5. rational\n",
        "\n",
        "There are some numeric modules such as *math* and *random*\n",
        "\n"
      ],
      "metadata": {
        "id": "o53MEc5C8vH5"
      }
    },
    {
      "cell_type": "code",
      "source": [
        "import math\n",
        "math.pi\n",
        "import random\n",
        "random.random()\n",
        "random.choice([1,2,3,4])\n"
      ],
      "metadata": {
        "colab": {
          "base_uri": "https://localhost:8080/"
        },
        "id": "_Tgc6iG-iuDf",
        "outputId": "02bf7cdc-8877-471f-d815-831f245ba48f"
      },
      "execution_count": 1,
      "outputs": [
        {
          "output_type": "execute_result",
          "data": {
            "text/plain": [
              "1"
            ]
          },
          "metadata": {},
          "execution_count": 1
        }
      ]
    },
    {
      "cell_type": "markdown",
      "source": [
        "a string is sequence of one-character. Sequences maintain a left-to-right order among the items they contain: their itesm are stored and fetched by their relative position."
      ],
      "metadata": {
        "id": "nrDqQdaoC_94"
      }
    },
    {
      "cell_type": "code",
      "source": [
        "s='lunch'\n",
        "len(s)"
      ],
      "metadata": {
        "colab": {
          "base_uri": "https://localhost:8080/"
        },
        "id": "AM_33B0w9p7u",
        "outputId": "6fe430fa-0ad7-4e6a-f756-b9cc17b3aae8"
      },
      "execution_count": 2,
      "outputs": [
        {
          "output_type": "execute_result",
          "data": {
            "text/plain": [
              "5"
            ]
          },
          "metadata": {},
          "execution_count": 2
        }
      ]
    },
    {
      "cell_type": "code",
      "source": [
        "print(s[-1])\n",
        "print(s[-2])\n"
      ],
      "metadata": {
        "colab": {
          "base_uri": "https://localhost:8080/"
        },
        "id": "C3DmhkqKDn9o",
        "outputId": "f3f8879e-c07c-442b-d92e-afe3d365b5d8"
      },
      "execution_count": 3,
      "outputs": [
        {
          "output_type": "stream",
          "name": "stdout",
          "text": [
            "h\n",
            "c\n"
          ]
        }
      ]
    },
    {
      "cell_type": "markdown",
      "source": [
        "Immutability\n",
        "1. Of notice were not changing the original string with any of the operations we ran on it. strings are immutable in Python, they cannot be change in place after they are created. You can never overwrite the values of immutable objects.\n",
        "2. numerbs, strings, tuples are immutable\n",
        "3. lists, dictionaries and sets are mutable."
      ],
      "metadata": {
        "id": "lSZWbQh8EEJo"
      }
    },
    {
      "cell_type": "markdown",
      "source": [
        "String Method"
      ],
      "metadata": {
        "id": "fqRVl0R1FBr4"
      }
    },
    {
      "cell_type": "code",
      "source": [
        "dir(s)\n"
      ],
      "metadata": {
        "colab": {
          "base_uri": "https://localhost:8080/"
        },
        "id": "PnhLVmQjDyD8",
        "outputId": "93debb21-39fc-4f8f-edb7-60a66002ab3d"
      },
      "execution_count": 4,
      "outputs": [
        {
          "output_type": "execute_result",
          "data": {
            "text/plain": [
              "['__add__',\n",
              " '__class__',\n",
              " '__contains__',\n",
              " '__delattr__',\n",
              " '__dir__',\n",
              " '__doc__',\n",
              " '__eq__',\n",
              " '__format__',\n",
              " '__ge__',\n",
              " '__getattribute__',\n",
              " '__getitem__',\n",
              " '__getnewargs__',\n",
              " '__gt__',\n",
              " '__hash__',\n",
              " '__init__',\n",
              " '__init_subclass__',\n",
              " '__iter__',\n",
              " '__le__',\n",
              " '__len__',\n",
              " '__lt__',\n",
              " '__mod__',\n",
              " '__mul__',\n",
              " '__ne__',\n",
              " '__new__',\n",
              " '__reduce__',\n",
              " '__reduce_ex__',\n",
              " '__repr__',\n",
              " '__rmod__',\n",
              " '__rmul__',\n",
              " '__setattr__',\n",
              " '__sizeof__',\n",
              " '__str__',\n",
              " '__subclasshook__',\n",
              " 'capitalize',\n",
              " 'casefold',\n",
              " 'center',\n",
              " 'count',\n",
              " 'encode',\n",
              " 'endswith',\n",
              " 'expandtabs',\n",
              " 'find',\n",
              " 'format',\n",
              " 'format_map',\n",
              " 'index',\n",
              " 'isalnum',\n",
              " 'isalpha',\n",
              " 'isascii',\n",
              " 'isdecimal',\n",
              " 'isdigit',\n",
              " 'isidentifier',\n",
              " 'islower',\n",
              " 'isnumeric',\n",
              " 'isprintable',\n",
              " 'isspace',\n",
              " 'istitle',\n",
              " 'isupper',\n",
              " 'join',\n",
              " 'ljust',\n",
              " 'lower',\n",
              " 'lstrip',\n",
              " 'maketrans',\n",
              " 'partition',\n",
              " 'replace',\n",
              " 'rfind',\n",
              " 'rindex',\n",
              " 'rjust',\n",
              " 'rpartition',\n",
              " 'rsplit',\n",
              " 'rstrip',\n",
              " 'split',\n",
              " 'splitlines',\n",
              " 'startswith',\n",
              " 'strip',\n",
              " 'swapcase',\n",
              " 'title',\n",
              " 'translate',\n",
              " 'upper',\n",
              " 'zfill']"
            ]
          },
          "metadata": {},
          "execution_count": 4
        }
      ]
    },
    {
      "cell_type": "markdown",
      "source": [
        "Get helps"
      ],
      "metadata": {
        "id": "EOjhVH92JQ_c"
      }
    },
    {
      "cell_type": "code",
      "source": [
        "help(s.upper)"
      ],
      "metadata": {
        "colab": {
          "base_uri": "https://localhost:8080/"
        },
        "id": "HyzoviFnFHLG",
        "outputId": "391db419-44f4-4338-b129-e71b3483bece"
      },
      "execution_count": 5,
      "outputs": [
        {
          "output_type": "stream",
          "name": "stdout",
          "text": [
            "Help on built-in function upper:\n",
            "\n",
            "upper() method of builtins.str instance\n",
            "    Return a copy of the string converted to uppercase.\n",
            "\n"
          ]
        }
      ]
    },
    {
      "cell_type": "markdown",
      "source": [
        "Pattern Matching\n",
        "None of the string object's own methods support pattern-based text processing."
      ],
      "metadata": {
        "id": "hH4aHOpYKKqL"
      }
    },
    {
      "cell_type": "code",
      "source": [
        "import re\n",
        "match = re.match('Hello[ \\t]*(.*)world', 'Hello   Python world')\n",
        "match"
      ],
      "metadata": {
        "colab": {
          "base_uri": "https://localhost:8080/"
        },
        "id": "X_78LEsAJGSG",
        "outputId": "61cfb6f9-bf20-40ac-c444-7c86580c3112"
      },
      "execution_count": 6,
      "outputs": [
        {
          "output_type": "execute_result",
          "data": {
            "text/plain": [
              "<re.Match object; span=(0, 20), match='Hello   Python world'>"
            ]
          },
          "metadata": {},
          "execution_count": 6
        }
      ]
    },
    {
      "cell_type": "markdown",
      "source": [
        "# Day4"
      ],
      "metadata": {
        "id": "hCFVw2efA3Qr"
      }
    },
    {
      "cell_type": "code",
      "source": [
        "# Return a copy of the string with the first character capitalized\n",
        "a = 'complete python course'\n",
        "print(a.capitalize())\n"
      ],
      "metadata": {
        "id": "v2OGrhTSLBvP",
        "colab": {
          "base_uri": "https://localhost:8080/"
        },
        "outputId": "35f2709f-20c8-48bb-c4b8-1de7a4f342ab"
      },
      "execution_count": 7,
      "outputs": [
        {
          "output_type": "stream",
          "name": "stdout",
          "text": [
            "Complete python course\n"
          ]
        }
      ]
    },
    {
      "cell_type": "code",
      "source": [
        "# Return the string centered in a string of given length\n",
        "a = 'Python'\n",
        "b = a.center(11, '*')\n",
        "print(b)"
      ],
      "metadata": {
        "colab": {
          "base_uri": "https://localhost:8080/"
        },
        "id": "7LyF7yxoCaR0",
        "outputId": "cddaf301-f947-4436-a9a8-baf1016eea4c"
      },
      "execution_count": 8,
      "outputs": [
        {
          "output_type": "stream",
          "name": "stdout",
          "text": [
            "***Python**\n"
          ]
        }
      ]
    },
    {
      "cell_type": "code",
      "source": [
        "# Return a casefolded copy of the string \n",
        "a = 'PYTHON'\n",
        "print(a.casefold())\n",
        "print(a)"
      ],
      "metadata": {
        "colab": {
          "base_uri": "https://localhost:8080/"
        },
        "id": "Y6B_nuilC9Ny",
        "outputId": "25693b3e-209a-4ea8-a689-aaf3dbf43f85"
      },
      "execution_count": 9,
      "outputs": [
        {
          "output_type": "stream",
          "name": "stdout",
          "text": [
            "python\n",
            "PYTHON\n"
          ]
        }
      ]
    },
    {
      "cell_type": "code",
      "source": [
        "# Return true if the string ends with the given suffix\n",
        "a = 'common sense'\n",
        "print(a.endswith('x'))\n",
        "print(a.endswith('se'))"
      ],
      "metadata": {
        "colab": {
          "base_uri": "https://localhost:8080/"
        },
        "id": "YMvoK9bMDZRn",
        "outputId": "12d8c40d-31dc-4e99-8cc0-64f361c07321"
      },
      "execution_count": 10,
      "outputs": [
        {
          "output_type": "stream",
          "name": "stdout",
          "text": [
            "False\n",
            "True\n"
          ]
        }
      ]
    },
    {
      "cell_type": "code",
      "source": [
        "# Return the first occurrence's index\n",
        "a = 'extraordinary'\n",
        "print(a.find('t'))"
      ],
      "metadata": {
        "colab": {
          "base_uri": "https://localhost:8080/"
        },
        "id": "Y3V38KqED33j",
        "outputId": "a1641286-bc3d-4e61-94cb-11a21d47f3e0"
      },
      "execution_count": 11,
      "outputs": [
        {
          "output_type": "stream",
          "name": "stdout",
          "text": [
            "2\n"
          ]
        }
      ]
    },
    {
      "cell_type": "code",
      "source": [
        "# Similar to the find method, except that it raises ValueError when not found\n",
        "a = 'operationsaaa'\n",
        "print(a.index('a'))\n",
        "print(a.index('i'))"
      ],
      "metadata": {
        "colab": {
          "base_uri": "https://localhost:8080/"
        },
        "id": "dAX4NzzsEWOL",
        "outputId": "b36b6755-719c-47cb-8d5c-972c61d390a9"
      },
      "execution_count": 12,
      "outputs": [
        {
          "output_type": "stream",
          "name": "stdout",
          "text": [
            "4\n",
            "6\n"
          ]
        }
      ]
    },
    {
      "cell_type": "code",
      "source": [
        "# Return True if all characters in the string are all alphabetic and numeirc\n",
        "a = '4567'\n",
        "d = '46ye'\n",
        "print(a.isalnum())\n",
        "print(d.isalnum())"
      ],
      "metadata": {
        "colab": {
          "base_uri": "https://localhost:8080/"
        },
        "id": "6-AUfvm3GYCu",
        "outputId": "08150b50-8bcc-40bd-986a-fadde3520310"
      },
      "execution_count": 13,
      "outputs": [
        {
          "output_type": "stream",
          "name": "stdout",
          "text": [
            "True\n",
            "True\n"
          ]
        }
      ]
    },
    {
      "cell_type": "code",
      "source": [
        "# Return True if all characters are all alphabetic \n",
        "a = 'abded1980'\n",
        "b = 'aldkei'\n",
        "print(a.isalpha())\n",
        "print(b.isalpha())"
      ],
      "metadata": {
        "colab": {
          "base_uri": "https://localhost:8080/"
        },
        "id": "cegc27PnHWF5",
        "outputId": "a9403b84-9d76-4b14-896d-6b2bf2beef91"
      },
      "execution_count": 14,
      "outputs": [
        {
          "output_type": "stream",
          "name": "stdout",
          "text": [
            "False\n",
            "True\n"
          ]
        }
      ]
    },
    {
      "cell_type": "code",
      "source": [
        "# Return True if decimal\n",
        "a = '3.14'\n",
        "b = math.pi\n",
        "c = '15'\n",
        "print(a.isdecimal())\n",
        "print(c.isdecimal())"
      ],
      "metadata": {
        "colab": {
          "base_uri": "https://localhost:8080/"
        },
        "id": "_9clOXEVH8vO",
        "outputId": "777b25fb-270b-4b93-cb3a-029864c15504"
      },
      "execution_count": 15,
      "outputs": [
        {
          "output_type": "stream",
          "name": "stdout",
          "text": [
            "False\n",
            "True\n"
          ]
        }
      ]
    },
    {
      "cell_type": "code",
      "source": [
        "# Return True if all characters are digits\n",
        "a = '3/14'\n",
        "b = '46456'\n",
        "print(a.isdigit())\n",
        "print(b.isdigit())"
      ],
      "metadata": {
        "colab": {
          "base_uri": "https://localhost:8080/"
        },
        "id": "a8ULT14JIfKB",
        "outputId": "5d924034-7ac1-49c6-ac66-6bf0c655cca4"
      },
      "execution_count": 16,
      "outputs": [
        {
          "output_type": "stream",
          "name": "stdout",
          "text": [
            "False\n",
            "True\n"
          ]
        }
      ]
    },
    {
      "cell_type": "code",
      "source": [
        "# Return a concatenated string \n",
        "a = '$$'\n",
        "b = 'which'\n",
        "print(a.join(b))\n",
        "print(b.join(a))"
      ],
      "metadata": {
        "colab": {
          "base_uri": "https://localhost:8080/"
        },
        "id": "iq2tqj5zIU_C",
        "outputId": "f5a56889-d0f6-4175-99ac-eb5e080af305"
      },
      "execution_count": 17,
      "outputs": [
        {
          "output_type": "stream",
          "name": "stdout",
          "text": [
            "w$$h$$i$$c$$h\n",
            "$which$\n"
          ]
        }
      ]
    },
    {
      "cell_type": "code",
      "source": [
        "# Return 3-component tuple from splitted string by the given character \n",
        "a = \"complete.python-course-thanks\"\n",
        "print(a.partition(\"-\"))\n",
        "print(a.partition(\".\"))"
      ],
      "metadata": {
        "colab": {
          "base_uri": "https://localhost:8080/"
        },
        "id": "UxZ2HxAOJl_b",
        "outputId": "9a059fdb-b8e7-4418-9dbd-3eb510196238"
      },
      "execution_count": 18,
      "outputs": [
        {
          "output_type": "stream",
          "name": "stdout",
          "text": [
            "('complete.python', '-', 'course-thanks')\n",
            "('complete', '.', 'python-course-thanks')\n"
          ]
        }
      ]
    },
    {
      "cell_type": "code",
      "source": [
        "# \n",
        "a = 'string method, , collection'\n",
        "print(a.split(\",\"))"
      ],
      "metadata": {
        "colab": {
          "base_uri": "https://localhost:8080/"
        },
        "id": "cuKu0MGSKAw2",
        "outputId": "6b27e8ec-3a64-4a54-e472-0f701f72e442"
      },
      "execution_count": 19,
      "outputs": [
        {
          "output_type": "stream",
          "name": "stdout",
          "text": [
            "['string method', ' ', ' collection']\n"
          ]
        }
      ]
    },
    {
      "cell_type": "code",
      "source": [
        "# Return a copy of the string with leading and trailing characters removed.\n",
        "a = '$$$$$$example$$$$'\n",
        "print(a.strip(\"$\"))\n",
        "print(a)"
      ],
      "metadata": {
        "colab": {
          "base_uri": "https://localhost:8080/"
        },
        "id": "fwtJcKsAKnZv",
        "outputId": "fde28e3b-32b8-4ef4-b310-a668f77a4594"
      },
      "execution_count": 20,
      "outputs": [
        {
          "output_type": "stream",
          "name": "stdout",
          "text": [
            "example\n",
            "$$$$$$example$$$$\n"
          ]
        }
      ]
    },
    {
      "cell_type": "code",
      "source": [
        "# Return a copy of the string with uppercase converted to lowercase and vice versa\n",
        "a = 'Hello, substring'\n",
        "print(a.swapcase())"
      ],
      "metadata": {
        "colab": {
          "base_uri": "https://localhost:8080/"
        },
        "id": "-IGaL1U7LF7v",
        "outputId": "672a3a17-9775-4548-bfb7-8128230f2bea"
      },
      "execution_count": 21,
      "outputs": [
        {
          "output_type": "stream",
          "name": "stdout",
          "text": [
            "hELLO, SUBSTRING\n"
          ]
        }
      ]
    },
    {
      "cell_type": "code",
      "source": [
        "# Return a copy \n",
        "a = \"$$$$$perlsleiw$$$$\"\n",
        "print(a.lstrip(\"$\"))"
      ],
      "metadata": {
        "colab": {
          "base_uri": "https://localhost:8080/"
        },
        "id": "IQ0_g717LGt2",
        "outputId": "aadf2d2b-2e31-4bf1-e897-3323afa51fd9"
      },
      "execution_count": 22,
      "outputs": [
        {
          "output_type": "stream",
          "name": "stdout",
          "text": [
            "perlsleiw$$$$\n"
          ]
        }
      ]
    },
    {
      "cell_type": "markdown",
      "source": [
        "# Day5"
      ],
      "metadata": {
        "id": "YJK4ax__kin2"
      }
    },
    {
      "cell_type": "markdown",
      "source": [
        "**Python F string**\n",
        "1. used to embed python expressions inside string literals for formatting, using minimal syntax.\n",
        "2. It's an expression that' evaluated at the run time. \n",
        "3. They use {} brackets to evaluate values\n",
        "4. f-strings are faster than %-formatting and str.format()\n"
      ],
      "metadata": {
        "id": "-VBWlsqpktPo"
      }
    },
    {
      "cell_type": "code",
      "source": [
        "def max_no(x,y):\n",
        "  return x if x>y else y\n",
        "f = 12\n",
        "s = 25\n",
        "print(f'Max of {f} and {s} is {max(f, s)}')"
      ],
      "metadata": {
        "colab": {
          "base_uri": "https://localhost:8080/"
        },
        "id": "2bCr7vVukrdA",
        "outputId": "116eecb2-e7cc-4eac-daf0-0e6a5f909bec"
      },
      "execution_count": 23,
      "outputs": [
        {
          "output_type": "stream",
          "name": "stdout",
          "text": [
            "Max of 12 and 25 is 25\n"
          ]
        }
      ]
    },
    {
      "cell_type": "markdown",
      "source": [
        "Bitwise Operator\n"
      ],
      "metadata": {
        "id": "PDY22_nxn61J"
      }
    },
    {
      "cell_type": "markdown",
      "source": [
        "Bitwise AND\n",
        "1. The bitwise AND operator (&) perfroms logical conjunction on the corresponding bits of its operands. For each piar of bits occupying the same position in the two numbers, it returns a one only when both bits are swithed on\n",
        "2. The resulting bit pattern is an intersection of the operator's arguments.\n",
        "3. Arithmetically, this is equivalent to a product of two bit values. "
      ],
      "metadata": {
        "id": "mIzcxHoyrK_E"
      }
    },
    {
      "cell_type": "markdown",
      "source": [
        "# Day6"
      ],
      "metadata": {
        "id": "cR7-zj1bzS7e"
      }
    },
    {
      "cell_type": "markdown",
      "source": [
        "Bitwise OR\n",
        "1. It performs logical disjunction. For each corresponding pair of bits, it returns a one if at least one of them is switched on.\n",
        "2. Only a combination of two zeros gives a zero in the final output"
      ],
      "metadata": {
        "id": "SHoJJowmzaJH"
      }
    },
    {
      "cell_type": "markdown",
      "source": [
        "Bitwise XOR\n",
        "1. There is no logical counterpart in Python. \n",
        "2. It evaluates two mutually exclusive conditions and tells you whether exactly one of them is met.\n",
        "3. Every bit pair must contain opposing bit values to produce a one. "
      ],
      "metadata": {
        "id": "2P8Soodb2AyV"
      }
    },
    {
      "cell_type": "code",
      "source": [
        "# A simulation for bitwise XOR\n",
        "def xor(a, b):\n",
        "  return (a and not b) or (not a and b)"
      ],
      "metadata": {
        "id": "7SwRoDKxzZbR"
      },
      "execution_count": 24,
      "outputs": []
    },
    {
      "cell_type": "markdown",
      "source": [
        "Bitwise NOT\n",
        "1. It performs logical negation on a given number by flipping all of its bits."
      ],
      "metadata": {
        "id": "zGSvIKQb3n3B"
      }
    },
    {
      "cell_type": "code",
      "source": [
        "x = 1001\n",
        "y = 1010\n",
        "print(x & y)\n",
        "print(x | y)\n",
        "print(~y)\n",
        "print(x^y)"
      ],
      "metadata": {
        "colab": {
          "base_uri": "https://localhost:8080/"
        },
        "id": "HY3LNBBhmTHZ",
        "outputId": "273db932-2999-4fb2-b668-1d54647c060e"
      },
      "execution_count": 25,
      "outputs": [
        {
          "output_type": "stream",
          "name": "stdout",
          "text": [
            "992\n",
            "1019\n",
            "-1011\n",
            "27\n"
          ]
        }
      ]
    },
    {
      "cell_type": "markdown",
      "source": [
        "Chaining comparision operators with logical operators\n",
        "> In accordance with associativity and precedence in Python, all comparison operations have the same priority.\n",
        "\n",
        "\n"
      ],
      "metadata": {
        "id": "4dl_Y4si-X3K"
      }
    },
    {
      "cell_type": "code",
      "source": [
        "a, b, c, d, e, f, g = 10, 15, 2, 1, 45, 25, 19\n",
        "e1 = a <= b < c > d < e is not f is g\n",
        "e2 = a is d < f is c\n",
        "print(e1)\n",
        "print(e2)\n",
        "\n"
      ],
      "metadata": {
        "colab": {
          "base_uri": "https://localhost:8080/"
        },
        "id": "RKkc-_Aw5x6M",
        "outputId": "c159a2c9-30be-4135-b3af-817cbcbea49b"
      },
      "execution_count": 26,
      "outputs": [
        {
          "output_type": "stream",
          "name": "stdout",
          "text": [
            "False\n",
            "False\n"
          ]
        }
      ]
    },
    {
      "cell_type": "markdown",
      "source": [
        "## Day7"
      ],
      "metadata": {
        "id": "JdGFR19HF2s4"
      }
    },
    {
      "cell_type": "markdown",
      "source": [
        "**Python List**\n",
        "1. items can be any data type\n",
        "2. Items are ordered, changeable, and allow duplicate values"
      ],
      "metadata": {
        "id": "aLX6iVkCGRa4"
      }
    },
    {
      "cell_type": "code",
      "source": [
        "# Appending and Extending lists in Python \n",
        "days = ['monday', 'tuesday', 'wednesday', 'thursday']\n",
        "days.append('fridays')\n",
        "days.extend(['saturday'])"
      ],
      "metadata": {
        "id": "YylZtJDAAEbg"
      },
      "execution_count": 27,
      "outputs": []
    },
    {
      "cell_type": "code",
      "source": [
        "days"
      ],
      "metadata": {
        "colab": {
          "base_uri": "https://localhost:8080/"
        },
        "id": "RiqDGBWaHwbg",
        "outputId": "741e236b-06d1-4471-9b66-730925fe21cb"
      },
      "execution_count": 28,
      "outputs": [
        {
          "output_type": "execute_result",
          "data": {
            "text/plain": [
              "['monday', 'tuesday', 'wednesday', 'thursday', 'fridays', 'saturday']"
            ]
          },
          "metadata": {},
          "execution_count": 28
        }
      ]
    },
    {
      "cell_type": "code",
      "source": [
        "# Delete/Remove Lists Elements\n",
        "del days[2]\n",
        "print(days)\n",
        "\n"
      ],
      "metadata": {
        "colab": {
          "base_uri": "https://localhost:8080/"
        },
        "id": "Wl9Nx_Y3H1zy",
        "outputId": "13e9b890-6d5e-4a1d-9401-cf37d0aa5866"
      },
      "execution_count": 29,
      "outputs": [
        {
          "output_type": "stream",
          "name": "stdout",
          "text": [
            "['monday', 'tuesday', 'thursday', 'fridays', 'saturday']\n"
          ]
        }
      ]
    },
    {
      "cell_type": "code",
      "source": [
        "days.remove('tuesday')\n",
        "print(days)\n"
      ],
      "metadata": {
        "colab": {
          "base_uri": "https://localhost:8080/"
        },
        "id": "zVUxntF1KTtz",
        "outputId": "ae83dbee-cf08-4673-e614-8a0f7e5420fd"
      },
      "execution_count": 30,
      "outputs": [
        {
          "output_type": "stream",
          "name": "stdout",
          "text": [
            "['monday', 'thursday', 'fridays', 'saturday']\n"
          ]
        }
      ]
    },
    {
      "cell_type": "code",
      "source": [
        "days.pop(2)\n",
        "print(days)"
      ],
      "metadata": {
        "colab": {
          "base_uri": "https://localhost:8080/"
        },
        "id": "rZ8dkBmNKi94",
        "outputId": "0ac8482a-dda9-4647-9511-e731714c984e"
      },
      "execution_count": 31,
      "outputs": [
        {
          "output_type": "stream",
          "name": "stdout",
          "text": [
            "['monday', 'thursday', 'saturday']\n"
          ]
        }
      ]
    },
    {
      "cell_type": "code",
      "source": [
        "# Sort items in a list in ascending order\n",
        "month = ['jan', 'feb', 'mar', 'apr', 'may', 'jun']\n",
        "month.sort()\n",
        "print(month)"
      ],
      "metadata": {
        "colab": {
          "base_uri": "https://localhost:8080/"
        },
        "id": "z-d33iPbKxPI",
        "outputId": "2236d702-688f-47e5-ea12-2a1766ef2d48"
      },
      "execution_count": 32,
      "outputs": [
        {
          "output_type": "stream",
          "name": "stdout",
          "text": [
            "['apr', 'feb', 'jan', 'jun', 'mar', 'may']\n"
          ]
        }
      ]
    },
    {
      "cell_type": "code",
      "source": [
        "month.reverse()\n",
        "print(month)"
      ],
      "metadata": {
        "colab": {
          "base_uri": "https://localhost:8080/"
        },
        "id": "iQuMMsoDA2pX",
        "outputId": "e3113d52-8800-445b-f3cc-c2bfd80a022c"
      },
      "execution_count": 33,
      "outputs": [
        {
          "output_type": "stream",
          "name": "stdout",
          "text": [
            "['may', 'mar', 'jun', 'jan', 'feb', 'apr']\n"
          ]
        }
      ]
    },
    {
      "cell_type": "code",
      "source": [
        "# A copy of the list\n",
        "month_copy = month.copy()\n",
        "print(month_copy)"
      ],
      "metadata": {
        "colab": {
          "base_uri": "https://localhost:8080/"
        },
        "id": "ewgILWLdA_gj",
        "outputId": "fc1d8025-fc91-472e-fc30-053efde50987"
      },
      "execution_count": 34,
      "outputs": [
        {
          "output_type": "stream",
          "name": "stdout",
          "text": [
            "['may', 'mar', 'jun', 'jan', 'feb', 'apr']\n"
          ]
        }
      ]
    },
    {
      "cell_type": "code",
      "source": [
        "# Insert item at a disired location\n",
        "month.insert(0, 'jun')\n",
        "print(month)"
      ],
      "metadata": {
        "colab": {
          "base_uri": "https://localhost:8080/"
        },
        "id": "5Yn382DoBPDA",
        "outputId": "91d581d8-a046-4966-8754-d5cae9bcc867"
      },
      "execution_count": 35,
      "outputs": [
        {
          "output_type": "stream",
          "name": "stdout",
          "text": [
            "['jun', 'may', 'mar', 'jun', 'jan', 'feb', 'apr']\n"
          ]
        }
      ]
    },
    {
      "cell_type": "markdown",
      "source": [
        "**List Comprehension**\n",
        "\n",
        "\n",
        "> In python, list comprehension is used to created a new list based on the values of an existing list in the most elegant and shortest way."
      ],
      "metadata": {
        "id": "0iRMtA5kFUq0"
      }
    },
    {
      "cell_type": "code",
      "source": [
        "sqr = [2**x for x in range(20)]\n",
        "print(sqr)"
      ],
      "metadata": {
        "colab": {
          "base_uri": "https://localhost:8080/"
        },
        "id": "bmCGUMZKCC5X",
        "outputId": "03ce0da1-898a-4576-d575-5ddbccd28c1f"
      },
      "execution_count": 36,
      "outputs": [
        {
          "output_type": "stream",
          "name": "stdout",
          "text": [
            "[1, 2, 4, 8, 16, 32, 64, 128, 256, 512, 1024, 2048, 4096, 8192, 16384, 32768, 65536, 131072, 262144, 524288]\n"
          ]
        }
      ]
    },
    {
      "cell_type": "markdown",
      "source": [
        "**Python Dictionaries**"
      ],
      "metadata": {
        "id": "TrOjhpZUGQsk"
      }
    },
    {
      "cell_type": "code",
      "source": [
        "# Use keys or get method to access elements from dictionary\n",
        "var = {'first': 'sunday', 'second':'monday', 'third':'tuesday'}\n",
        "print(var['first'])\n",
        "print(var.get('first'))\n"
      ],
      "metadata": {
        "colab": {
          "base_uri": "https://localhost:8080/"
        },
        "id": "GEqpLgacF6c9",
        "outputId": "090dc6b1-f1ba-4934-bd26-f339fef28aaf"
      },
      "execution_count": 37,
      "outputs": [
        {
          "output_type": "stream",
          "name": "stdout",
          "text": [
            "sunday\n",
            "sunday\n"
          ]
        }
      ]
    },
    {
      "cell_type": "code",
      "source": [
        "# Add new items or change the value of existing items using an = operator\n",
        "var['second'] = 'friday'\n",
        "print(var)\n",
        "var['fourth'] = 'saturday'\n",
        "print(var)\n"
      ],
      "metadata": {
        "colab": {
          "base_uri": "https://localhost:8080/"
        },
        "id": "TlrerDMuGrB8",
        "outputId": "472004dc-da52-4094-89bb-a33dd70116a6"
      },
      "execution_count": 38,
      "outputs": [
        {
          "output_type": "stream",
          "name": "stdout",
          "text": [
            "{'first': 'sunday', 'second': 'friday', 'third': 'tuesday'}\n",
            "{'first': 'sunday', 'second': 'friday', 'third': 'tuesday', 'fourth': 'saturday'}\n"
          ]
        }
      ]
    },
    {
      "cell_type": "code",
      "source": [
        "# Remove elements using pop() or popitem() method\n",
        "var.pop('third')\n",
        "print(var)"
      ],
      "metadata": {
        "colab": {
          "base_uri": "https://localhost:8080/"
        },
        "id": "xl_oCBzQH8y_",
        "outputId": "0af4a8a1-09ce-4dbe-eda0-f2c3c47bf5e8"
      },
      "execution_count": 39,
      "outputs": [
        {
          "output_type": "stream",
          "name": "stdout",
          "text": [
            "{'first': 'sunday', 'second': 'friday', 'fourth': 'saturday'}\n"
          ]
        }
      ]
    },
    {
      "cell_type": "code",
      "source": [
        "var.popitem()"
      ],
      "metadata": {
        "colab": {
          "base_uri": "https://localhost:8080/"
        },
        "id": "rQfqtpK2WuMq",
        "outputId": "830e48ee-6bde-4df7-a8a9-10af0b256880"
      },
      "execution_count": 40,
      "outputs": [
        {
          "output_type": "execute_result",
          "data": {
            "text/plain": [
              "('fourth', 'saturday')"
            ]
          },
          "metadata": {},
          "execution_count": 40
        }
      ]
    },
    {
      "cell_type": "code",
      "source": [
        "# Returns a new dictionary with keys from seq and value equal to t\n",
        "subjects = {}.fromkeys(['first', 'second', 'third', 'forth'])\n",
        "print(subjects)"
      ],
      "metadata": {
        "colab": {
          "base_uri": "https://localhost:8080/"
        },
        "id": "CUSJMhPdW5rD",
        "outputId": "fedfe905-533b-4186-a194-834c3f0739e8"
      },
      "execution_count": 41,
      "outputs": [
        {
          "output_type": "stream",
          "name": "stdout",
          "text": [
            "{'first': None, 'second': None, 'third': None, 'forth': None}\n"
          ]
        }
      ]
    },
    {
      "cell_type": "code",
      "source": [
        "# setdefault() method returns the value of a key. if not there, it inserts key with a value to the dictionary.\n",
        "var.setdefault('first')\n",
        "var.setdefault('fifth')\n",
        "print(var)"
      ],
      "metadata": {
        "colab": {
          "base_uri": "https://localhost:8080/"
        },
        "id": "2ilGL-DpXkZP",
        "outputId": "1e260974-b658-46bf-8037-80eddd7666bf"
      },
      "execution_count": 42,
      "outputs": [
        {
          "output_type": "stream",
          "name": "stdout",
          "text": [
            "{'first': 'sunday', 'second': 'friday', 'fifth': None}\n"
          ]
        }
      ]
    },
    {
      "cell_type": "code",
      "source": [
        "# Nested dictionary\n",
        "people = {'subject':{0:'math', 1:'english', 2:'physics'}, \n",
        "          'marks':{0:90, 1:95, 2:89}}\n",
        "print(people)"
      ],
      "metadata": {
        "colab": {
          "base_uri": "https://localhost:8080/"
        },
        "id": "0nGnlko3ZTbn",
        "outputId": "b9702ecd-1120-471d-b0e4-f7f26c88de80"
      },
      "execution_count": 43,
      "outputs": [
        {
          "output_type": "stream",
          "name": "stdout",
          "text": [
            "{'subject': {0: 'math', 1: 'english', 2: 'physics'}, 'marks': {0: 90, 1: 95, 2: 89}}\n"
          ]
        }
      ]
    },
    {
      "cell_type": "code",
      "source": [
        "# Return a new sorted list of keys in the dictionary\n",
        "sorted(var)\n"
      ],
      "metadata": {
        "colab": {
          "base_uri": "https://localhost:8080/"
        },
        "id": "IIR8hyxhZeuS",
        "outputId": "2bc65ca3-b6e2-4fe8-a735-92561e19e825"
      },
      "execution_count": 46,
      "outputs": [
        {
          "output_type": "execute_result",
          "data": {
            "text/plain": [
              "['fifth', 'first', 'second']"
            ]
          },
          "metadata": {},
          "execution_count": 46
        }
      ]
    },
    {
      "cell_type": "code",
      "source": [
        "# Iterate through dictionary\n",
        "dict1 = {0:'sunday', 1:'monday', 2:'tuesday', 3:'wednesday', 4:'thursday'}\n",
        "for i in dict1.items():\n",
        "  print(i)"
      ],
      "metadata": {
        "colab": {
          "base_uri": "https://localhost:8080/"
        },
        "id": "Q0gTCKPLGItD",
        "outputId": "710528d1-e41f-4913-d95b-39fa3ebe1c45"
      },
      "execution_count": 48,
      "outputs": [
        {
          "output_type": "stream",
          "name": "stdout",
          "text": [
            "(0, 'sunday')\n",
            "(1, 'monday')\n",
            "(2, 'tuesday')\n",
            "(3, 'wednesday')\n",
            "(4, 'thursday')\n"
          ]
        }
      ]
    },
    {
      "cell_type": "code",
      "source": [
        "# Dictionary comprehension\n",
        "cubes = {x: x*x*x for x in range(10)}\n",
        "print(cubes)"
      ],
      "metadata": {
        "colab": {
          "base_uri": "https://localhost:8080/"
        },
        "id": "qnwT5ycVGjme",
        "outputId": "feeddc5b-ef9a-4857-dde0-df6639ae0c4d"
      },
      "execution_count": 49,
      "outputs": [
        {
          "output_type": "stream",
          "name": "stdout",
          "text": [
            "{0: 0, 1: 1, 2: 8, 3: 27, 4: 64, 5: 125, 6: 216, 7: 343, 8: 512, 9: 729}\n"
          ]
        }
      ]
    },
    {
      "cell_type": "code",
      "source": [
        "# update() method: updates the dictionary with elements from another dictionary object or from any other key/value pairs\n",
        "dict1 = {0:'zero', 4:'four', 5:'five'}\n",
        "dict2 = {2:'two'}\n",
        "dict1.update(dict2)\n",
        "print(dict1)"
      ],
      "metadata": {
        "colab": {
          "base_uri": "https://localhost:8080/"
        },
        "id": "RNt47ZC4HkgP",
        "outputId": "0936208e-5569-4b81-8130-2d0b03f14f93"
      },
      "execution_count": 51,
      "outputs": [
        {
          "output_type": "stream",
          "name": "stdout",
          "text": [
            "{0: 'zero', 4: 'four', 5: 'five', 2: 'two'}\n"
          ]
        }
      ]
    },
    {
      "cell_type": "markdown",
      "source": [
        "**Python Tuple**\n",
        "> tuples are immutable while lists are mutable"
      ],
      "metadata": {
        "id": "Iot7IqFrIXCi"
      }
    },
    {
      "cell_type": "code",
      "source": [
        "tuple1 = (250, 'what', 'char', 87)\n",
        "type(tuple1)"
      ],
      "metadata": {
        "colab": {
          "base_uri": "https://localhost:8080/"
        },
        "id": "1hKll3OLIJs0",
        "outputId": "ec13a9df-22f5-438e-a108-ff1f00fd9594"
      },
      "execution_count": 53,
      "outputs": [
        {
          "output_type": "execute_result",
          "data": {
            "text/plain": [
              "tuple"
            ]
          },
          "metadata": {},
          "execution_count": 53
        }
      ]
    },
    {
      "cell_type": "markdown",
      "source": [
        "**Python Sets**\n",
        "1. A set is a collection of objects which is unindexed and unordered.\n",
        "2. There are no duplicate elements in the items."
      ],
      "metadata": {
        "id": "GeCTE8QJI-Yv"
      }
    },
    {
      "cell_type": "code",
      "source": [
        "# Removing elements\n",
        "set1 = {10, 15, 20, 25, 30}\n",
        "set1.discard(10)\n",
        "print(set1)"
      ],
      "metadata": {
        "colab": {
          "base_uri": "https://localhost:8080/"
        },
        "id": "NyTfrnKBIp_6",
        "outputId": "dd77bfaa-78e6-4e13-9cbf-fc67b6a740f4"
      },
      "execution_count": 57,
      "outputs": [
        {
          "output_type": "stream",
          "name": "stdout",
          "text": [
            "{15, 20, 25, 30}\n"
          ]
        }
      ]
    },
    {
      "cell_type": "code",
      "source": [
        "set1.remove(15)\n",
        "print(set1)"
      ],
      "metadata": {
        "colab": {
          "base_uri": "https://localhost:8080/"
        },
        "id": "0WeoTcLDNWah",
        "outputId": "9487522a-b52e-4b3c-b263-6edc715a5128"
      },
      "execution_count": 58,
      "outputs": [
        {
          "output_type": "stream",
          "name": "stdout",
          "text": [
            "{20, 25, 30}\n"
          ]
        }
      ]
    },
    {
      "cell_type": "code",
      "source": [
        "set1.pop()\n",
        "print(set1)"
      ],
      "metadata": {
        "colab": {
          "base_uri": "https://localhost:8080/"
        },
        "id": "PaXybQ2JNfww",
        "outputId": "de465d4d-2b6a-4d02-acc8-4b5dbb8770d4"
      },
      "execution_count": 59,
      "outputs": [
        {
          "output_type": "stream",
          "name": "stdout",
          "text": [
            "{25, 30}\n"
          ]
        }
      ]
    },
    {
      "cell_type": "code",
      "source": [
        "# Set operations\n",
        "x = {10, 20, 30, 40, 50}\n",
        "y = {60, 70, 80, 90, 100}\n",
        "z = {20, 60, 80, 40, 100}"
      ],
      "metadata": {
        "id": "TAnX2EnQNiE-"
      },
      "execution_count": 61,
      "outputs": []
    },
    {
      "cell_type": "code",
      "source": [
        "# Union\n",
        "print(x|y|z)"
      ],
      "metadata": {
        "colab": {
          "base_uri": "https://localhost:8080/"
        },
        "id": "ViGUz3TTOUFg",
        "outputId": "cdd93c00-e126-4a00-f090-e91acc5e1f69"
      },
      "execution_count": 62,
      "outputs": [
        {
          "output_type": "stream",
          "name": "stdout",
          "text": [
            "{100, 70, 40, 10, 80, 50, 20, 90, 60, 30}\n"
          ]
        }
      ]
    },
    {
      "cell_type": "code",
      "source": [
        "# Intersection\n",
        "print(x&y&z)"
      ],
      "metadata": {
        "colab": {
          "base_uri": "https://localhost:8080/"
        },
        "id": "qgNJra-wOlQE",
        "outputId": "5ce2676b-a70c-40fb-fa20-38a58585e6ee"
      },
      "execution_count": 63,
      "outputs": [
        {
          "output_type": "stream",
          "name": "stdout",
          "text": [
            "set()\n"
          ]
        }
      ]
    },
    {
      "cell_type": "code",
      "source": [
        "# Difference\n",
        "print(x-z)"
      ],
      "metadata": {
        "colab": {
          "base_uri": "https://localhost:8080/"
        },
        "id": "ubBMzOobOo7d",
        "outputId": "0e5162be-85b6-4151-f425-dbd2ca564541"
      },
      "execution_count": 64,
      "outputs": [
        {
          "output_type": "stream",
          "name": "stdout",
          "text": [
            "{10, 50, 30}\n"
          ]
        }
      ]
    },
    {
      "cell_type": "code",
      "source": [
        "print(x^y^z)"
      ],
      "metadata": {
        "colab": {
          "base_uri": "https://localhost:8080/"
        },
        "id": "nRt9Z6DRPoiU",
        "outputId": "d1964b51-0ffd-41c7-c3bc-d9f963568306"
      },
      "execution_count": 65,
      "outputs": [
        {
          "output_type": "stream",
          "name": "stdout",
          "text": [
            "{70, 10, 50, 90, 30}\n"
          ]
        }
      ]
    },
    {
      "cell_type": "code",
      "source": [],
      "metadata": {
        "id": "6E0T-ilVP-Uf"
      },
      "execution_count": null,
      "outputs": []
    }
  ]
}