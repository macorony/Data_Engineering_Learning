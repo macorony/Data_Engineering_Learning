{
  "nbformat": 4,
  "nbformat_minor": 0,
  "metadata": {
    "colab": {
      "provenance": [],
      "authorship_tag": "ABX9TyMQ45AKQ3SqgwOhIBRG2fe8",
      "include_colab_link": true
    },
    "kernelspec": {
      "name": "python3",
      "display_name": "Python 3"
    },
    "language_info": {
      "name": "python"
    }
  },
  "cells": [
    {
      "cell_type": "markdown",
      "metadata": {
        "id": "view-in-github",
        "colab_type": "text"
      },
      "source": [
        "<a href=\"https://colab.research.google.com/github/macorony/Data_Engineering_Learning/blob/main/Data_Engineering.ipynb\" target=\"_parent\"><img src=\"https://colab.research.google.com/assets/colab-badge.svg\" alt=\"Open In Colab\"/></a>"
      ]
    },
    {
      "cell_type": "markdown",
      "source": [
        "# Objective\n",
        "Learning bits and pieces of important theory and concept"
      ],
      "metadata": {
        "id": "_zFr2nYXGegE"
      }
    },
    {
      "cell_type": "markdown",
      "source": [
        "# Day1\n",
        "Data engineering ecosystem\n",
        "1. Data\n",
        "2. Data stores and repositories\n",
        "3. Data pipeline\n",
        "4. Analytics and data driven decision making\n",
        "\n",
        "What is data engineering?\n",
        "Building, architecting, design, implementing data stores and repositories, data lakes and gathering, importing, cleaning, pre-processing, querying, and analyzing data. Also monitoring, evaluating, optimizing and fine tuning the process"
      ],
      "metadata": {
        "id": "zCznQDEMFsy_"
      }
    },
    {
      "cell_type": "markdown",
      "source": [
        "# Day2 \n",
        "The features of Python\n",
        "1. high-level programming language focusing on readability, coherence and productivity. Python code is typically much less than the equivalent C++ or Java. That means less to type, less to debug and less to maintain.\n",
        "2. Most Python programes run unchanged on different computer platform porting Python code between Linux and Windows. \n",
        "3. A large collection of standard libraries. The Numpy extension is a free and more powerful equivalent to the Matlab numeric programming system.\n",
        "4. Python can be better described as a general purpose programming language that blends procedural, functional, and object-oriented paradigms.\n",
        "5. Relative lower execution speed compared to compiled and lower-level languages.Because Python compiles source code into an intermediated format known as byte code and then interpret the byte code, a platform-independent format.\n",
        "\n",
        "How Python interpreter works\n",
        "1. An interpreter is a program that executes other programs. Technically, the interpreter is a layer of software logic between your code and the computer hardward. \n",
        "2. Under the hood, Python compiles source code into a byte code. The byte code of the programs is stored in the files with *.pyc* extension.\n",
        "3. Sourcr changes: Python automatically checks the last-modified timestamps of source and byte code files to know whne it must recompile.\n",
        "4. If Python cannot write the byte code files to your machine, the program still works. The byte code is generated in memory and simply discarded on program exit. \n",
        "5. Once the program has been compiled to byte code, it is forwarded to execution by Python Virtual Machine. In fact, the PVM is a big loop that iterates through the byte code instructions. The PVM is the runtime engine of Python presenting as part of the Python system, and it truly runs your scripts.\n",
        "6. Python byte code is not binary machine code, it is a Python-specific representation. This is why some Python code may not run as fast as C or C++ code. The byte code instructions require more work than CPU instructions. On the other hand, unlike in classic intepreters, there is still an internal compile step.\n",
        "\n",
        "\n",
        "\n",
        "\n",
        "\n"
      ],
      "metadata": {
        "id": "FLHnMhoMFV4e"
      }
    },
    {
      "cell_type": "markdown",
      "source": [
        "# Day3"
      ],
      "metadata": {
        "id": "ijqF7mHV1V1y"
      }
    },
    {
      "cell_type": "markdown",
      "source": [
        "The Python Conceptual Hierarchy\n",
        "1. Programs are composed of modules.\n",
        "2. Modules contain statements.\n",
        "3. Statements contain expressions.\n",
        "4. Expressions created and process objects.\n",
        "\n",
        "Why Built-in Types?\n",
        "1. Built-in objects make programs easy to write.\n",
        "2. Built-in objects are components of extensions.\n",
        "3. Built-in objects are often more efficient than custom data structures.\n",
        "4. Built-in objects are a standard part of the language.\n",
        "\n",
        "Core Data Types\n",
        "1. Number\n",
        "2. String\n",
        "3. List\n",
        "4. Dictionary\n",
        "5. Tuple\n",
        "6. File\n",
        "7. Set\n",
        "8. Boolean\n",
        "9. Program unit types such as function, modules, classes\n",
        "10. Implementation-related types such as compiled code, stack traceback\n",
        "\n",
        "We call these core data types because they effetively built into the Python language. Once you create an object, you bind its operation set for all time. So Python is dynmically typed, a model that keeps track of types for you automatically instead of requiring declaration code, but it also constraint what you can perform on an object. "
      ],
      "metadata": {
        "id": "RI2Jb71P1V_B"
      }
    },
    {
      "cell_type": "markdown",
      "source": [
        "Numbers\n",
        "1. integers\n",
        "2. floating-point \n",
        "3. complexe\n",
        "4. decimal\n",
        "5. rational\n",
        "\n",
        "There are some numeric modules such as *math* and *random*\n",
        "\n"
      ],
      "metadata": {
        "id": "o53MEc5C8vH5"
      }
    },
    {
      "cell_type": "code",
      "source": [
        "import math\n",
        "math.pi\n",
        "import random\n",
        "random.random()\n",
        "random.choice([1,2,3,4])\n"
      ],
      "metadata": {
        "colab": {
          "base_uri": "https://localhost:8080/"
        },
        "id": "_Tgc6iG-iuDf",
        "outputId": "6af546c2-a2e0-46a1-cfcf-e2937eda2fb9"
      },
      "execution_count": 1,
      "outputs": [
        {
          "output_type": "execute_result",
          "data": {
            "text/plain": [
              "3"
            ]
          },
          "metadata": {},
          "execution_count": 1
        }
      ]
    },
    {
      "cell_type": "markdown",
      "source": [
        "a string is sequence of one-character. Sequences maintain a left-to-right order among the items they contain: their itesm are stored and fetched by their relative position."
      ],
      "metadata": {
        "id": "nrDqQdaoC_94"
      }
    },
    {
      "cell_type": "code",
      "source": [
        "s='lunch'\n",
        "len(s)"
      ],
      "metadata": {
        "colab": {
          "base_uri": "https://localhost:8080/"
        },
        "id": "AM_33B0w9p7u",
        "outputId": "7410465b-21cb-4ce9-cdac-3523ca0a1574"
      },
      "execution_count": 2,
      "outputs": [
        {
          "output_type": "execute_result",
          "data": {
            "text/plain": [
              "5"
            ]
          },
          "metadata": {},
          "execution_count": 2
        }
      ]
    },
    {
      "cell_type": "code",
      "source": [
        "print(s[-1])\n",
        "print(s[-2])\n"
      ],
      "metadata": {
        "colab": {
          "base_uri": "https://localhost:8080/"
        },
        "id": "C3DmhkqKDn9o",
        "outputId": "0646fc45-02d9-4502-b42f-71e28b2e946e"
      },
      "execution_count": 3,
      "outputs": [
        {
          "output_type": "stream",
          "name": "stdout",
          "text": [
            "h\n",
            "c\n"
          ]
        }
      ]
    },
    {
      "cell_type": "markdown",
      "source": [
        "Immutability\n",
        "1. Of notice were not changing the original string with any of the operations we ran on it. strings are immutable in Python, they cannot be change in place after they are created. You can never overwrite the values of immutable objects.\n",
        "2. numerbs, strings, tuples are immutable\n",
        "3. lists, dictionaries and sets are mutable."
      ],
      "metadata": {
        "id": "lSZWbQh8EEJo"
      }
    },
    {
      "cell_type": "markdown",
      "source": [
        "String Method"
      ],
      "metadata": {
        "id": "fqRVl0R1FBr4"
      }
    },
    {
      "cell_type": "code",
      "source": [
        "dir(s)\n"
      ],
      "metadata": {
        "colab": {
          "base_uri": "https://localhost:8080/"
        },
        "id": "PnhLVmQjDyD8",
        "outputId": "d0b9c97f-80a1-4b0f-c003-15f95d758568"
      },
      "execution_count": 4,
      "outputs": [
        {
          "output_type": "execute_result",
          "data": {
            "text/plain": [
              "['__add__',\n",
              " '__class__',\n",
              " '__contains__',\n",
              " '__delattr__',\n",
              " '__dir__',\n",
              " '__doc__',\n",
              " '__eq__',\n",
              " '__format__',\n",
              " '__ge__',\n",
              " '__getattribute__',\n",
              " '__getitem__',\n",
              " '__getnewargs__',\n",
              " '__gt__',\n",
              " '__hash__',\n",
              " '__init__',\n",
              " '__init_subclass__',\n",
              " '__iter__',\n",
              " '__le__',\n",
              " '__len__',\n",
              " '__lt__',\n",
              " '__mod__',\n",
              " '__mul__',\n",
              " '__ne__',\n",
              " '__new__',\n",
              " '__reduce__',\n",
              " '__reduce_ex__',\n",
              " '__repr__',\n",
              " '__rmod__',\n",
              " '__rmul__',\n",
              " '__setattr__',\n",
              " '__sizeof__',\n",
              " '__str__',\n",
              " '__subclasshook__',\n",
              " 'capitalize',\n",
              " 'casefold',\n",
              " 'center',\n",
              " 'count',\n",
              " 'encode',\n",
              " 'endswith',\n",
              " 'expandtabs',\n",
              " 'find',\n",
              " 'format',\n",
              " 'format_map',\n",
              " 'index',\n",
              " 'isalnum',\n",
              " 'isalpha',\n",
              " 'isascii',\n",
              " 'isdecimal',\n",
              " 'isdigit',\n",
              " 'isidentifier',\n",
              " 'islower',\n",
              " 'isnumeric',\n",
              " 'isprintable',\n",
              " 'isspace',\n",
              " 'istitle',\n",
              " 'isupper',\n",
              " 'join',\n",
              " 'ljust',\n",
              " 'lower',\n",
              " 'lstrip',\n",
              " 'maketrans',\n",
              " 'partition',\n",
              " 'replace',\n",
              " 'rfind',\n",
              " 'rindex',\n",
              " 'rjust',\n",
              " 'rpartition',\n",
              " 'rsplit',\n",
              " 'rstrip',\n",
              " 'split',\n",
              " 'splitlines',\n",
              " 'startswith',\n",
              " 'strip',\n",
              " 'swapcase',\n",
              " 'title',\n",
              " 'translate',\n",
              " 'upper',\n",
              " 'zfill']"
            ]
          },
          "metadata": {},
          "execution_count": 4
        }
      ]
    },
    {
      "cell_type": "markdown",
      "source": [
        "Get helps"
      ],
      "metadata": {
        "id": "EOjhVH92JQ_c"
      }
    },
    {
      "cell_type": "code",
      "source": [
        "help(s.upper)"
      ],
      "metadata": {
        "colab": {
          "base_uri": "https://localhost:8080/"
        },
        "id": "HyzoviFnFHLG",
        "outputId": "2cc91621-a9e5-4798-e4b0-b3d493631e2d"
      },
      "execution_count": 5,
      "outputs": [
        {
          "output_type": "stream",
          "name": "stdout",
          "text": [
            "Help on built-in function upper:\n",
            "\n",
            "upper() method of builtins.str instance\n",
            "    Return a copy of the string converted to uppercase.\n",
            "\n"
          ]
        }
      ]
    },
    {
      "cell_type": "markdown",
      "source": [
        "Pattern Matching\n",
        "None of the string object's own methods support pattern-based text processing."
      ],
      "metadata": {
        "id": "hH4aHOpYKKqL"
      }
    },
    {
      "cell_type": "code",
      "source": [
        "import re\n",
        "match = re.match('Hello[ \\t]*(.*)world', 'Hello   Python world')\n",
        "match"
      ],
      "metadata": {
        "colab": {
          "base_uri": "https://localhost:8080/"
        },
        "id": "X_78LEsAJGSG",
        "outputId": "a526a6db-5955-4ae2-b6ee-78804d3ab8be"
      },
      "execution_count": 6,
      "outputs": [
        {
          "output_type": "execute_result",
          "data": {
            "text/plain": [
              "<re.Match object; span=(0, 20), match='Hello   Python world'>"
            ]
          },
          "metadata": {},
          "execution_count": 6
        }
      ]
    },
    {
      "cell_type": "markdown",
      "source": [
        "# Day4"
      ],
      "metadata": {
        "id": "hCFVw2efA3Qr"
      }
    },
    {
      "cell_type": "code",
      "source": [
        "# Return a copy of the string with the first character capitalized\n",
        "a = 'complete python course'\n",
        "print(a.capitalize())\n"
      ],
      "metadata": {
        "id": "v2OGrhTSLBvP",
        "colab": {
          "base_uri": "https://localhost:8080/"
        },
        "outputId": "cdbe972f-5b8e-4d1e-9137-f8f5a5534c3e"
      },
      "execution_count": 7,
      "outputs": [
        {
          "output_type": "stream",
          "name": "stdout",
          "text": [
            "Complete python course\n"
          ]
        }
      ]
    },
    {
      "cell_type": "code",
      "source": [
        "# Return the string centered in a string of given length\n",
        "a = 'Python'\n",
        "b = a.center(11, '*')\n",
        "print(b)"
      ],
      "metadata": {
        "colab": {
          "base_uri": "https://localhost:8080/"
        },
        "id": "7LyF7yxoCaR0",
        "outputId": "cb68f873-0ee3-4769-d5ce-844dd8d23b72"
      },
      "execution_count": 8,
      "outputs": [
        {
          "output_type": "stream",
          "name": "stdout",
          "text": [
            "***Python**\n"
          ]
        }
      ]
    },
    {
      "cell_type": "code",
      "source": [
        "# Return a casefolded copy of the string \n",
        "a = 'PYTHON'\n",
        "print(a.casefold())\n",
        "print(a)"
      ],
      "metadata": {
        "colab": {
          "base_uri": "https://localhost:8080/"
        },
        "id": "Y6B_nuilC9Ny",
        "outputId": "c096bf01-effc-47f6-fbc3-4dcad81b4b27"
      },
      "execution_count": 9,
      "outputs": [
        {
          "output_type": "stream",
          "name": "stdout",
          "text": [
            "python\n",
            "PYTHON\n"
          ]
        }
      ]
    },
    {
      "cell_type": "code",
      "source": [
        "# Return true if the string ends with the given suffix\n",
        "a = 'common sense'\n",
        "print(a.endswith('x'))\n",
        "print(a.endswith('se'))"
      ],
      "metadata": {
        "colab": {
          "base_uri": "https://localhost:8080/"
        },
        "id": "YMvoK9bMDZRn",
        "outputId": "a7d51196-d26d-4a79-c51c-e692f8512f58"
      },
      "execution_count": 10,
      "outputs": [
        {
          "output_type": "stream",
          "name": "stdout",
          "text": [
            "False\n",
            "True\n"
          ]
        }
      ]
    },
    {
      "cell_type": "code",
      "source": [
        "# Return the first occurrence's index\n",
        "a = 'extraordinary'\n",
        "print(a.find('t'))"
      ],
      "metadata": {
        "colab": {
          "base_uri": "https://localhost:8080/"
        },
        "id": "Y3V38KqED33j",
        "outputId": "6502cd2c-3ac8-4cc5-9e4e-2d014eb0b38a"
      },
      "execution_count": 11,
      "outputs": [
        {
          "output_type": "stream",
          "name": "stdout",
          "text": [
            "2\n"
          ]
        }
      ]
    },
    {
      "cell_type": "code",
      "source": [
        "# Similar to the find method, except that it raises ValueError when not found\n",
        "a = 'operationsaaa'\n",
        "print(a.index('a'))\n",
        "print(a.index('i'))"
      ],
      "metadata": {
        "colab": {
          "base_uri": "https://localhost:8080/"
        },
        "id": "dAX4NzzsEWOL",
        "outputId": "9836dc1d-dde0-4ae1-949f-595f97293149"
      },
      "execution_count": 12,
      "outputs": [
        {
          "output_type": "stream",
          "name": "stdout",
          "text": [
            "4\n",
            "6\n"
          ]
        }
      ]
    },
    {
      "cell_type": "code",
      "source": [
        "# Return True if all characters in the string are all alphabetic and numeirc\n",
        "a = '4567'\n",
        "d = '46ye'\n",
        "print(a.isalnum())\n",
        "print(d.isalnum())"
      ],
      "metadata": {
        "colab": {
          "base_uri": "https://localhost:8080/"
        },
        "id": "6-AUfvm3GYCu",
        "outputId": "da741376-3104-46e7-9ddf-b9edf6aea54f"
      },
      "execution_count": 13,
      "outputs": [
        {
          "output_type": "stream",
          "name": "stdout",
          "text": [
            "True\n",
            "True\n"
          ]
        }
      ]
    },
    {
      "cell_type": "code",
      "source": [
        "# Return True if all characters are all alphabetic \n",
        "a = 'abded1980'\n",
        "b = 'aldkei'\n",
        "print(a.isalpha())\n",
        "print(b.isalpha())"
      ],
      "metadata": {
        "colab": {
          "base_uri": "https://localhost:8080/"
        },
        "id": "cegc27PnHWF5",
        "outputId": "2f529e51-ec4c-4ee3-a328-1cc31aa57072"
      },
      "execution_count": 14,
      "outputs": [
        {
          "output_type": "stream",
          "name": "stdout",
          "text": [
            "False\n",
            "True\n"
          ]
        }
      ]
    },
    {
      "cell_type": "code",
      "source": [
        "# Return True if decimal\n",
        "a = '3.14'\n",
        "b = math.pi\n",
        "c = '15'\n",
        "print(a.isdecimal())\n",
        "print(c.isdecimal())"
      ],
      "metadata": {
        "colab": {
          "base_uri": "https://localhost:8080/"
        },
        "id": "_9clOXEVH8vO",
        "outputId": "1b3041ba-0746-4fdd-8f0b-a007384a78d7"
      },
      "execution_count": 15,
      "outputs": [
        {
          "output_type": "stream",
          "name": "stdout",
          "text": [
            "False\n",
            "True\n"
          ]
        }
      ]
    },
    {
      "cell_type": "code",
      "source": [
        "# Return True if all characters are digits\n",
        "a = '3/14'\n",
        "b = '46456'\n",
        "print(a.isdigit())\n",
        "print(b.isdigit())"
      ],
      "metadata": {
        "colab": {
          "base_uri": "https://localhost:8080/"
        },
        "id": "a8ULT14JIfKB",
        "outputId": "bf3453d5-1016-4566-cd09-4b0da2219d82"
      },
      "execution_count": 16,
      "outputs": [
        {
          "output_type": "stream",
          "name": "stdout",
          "text": [
            "False\n",
            "True\n"
          ]
        }
      ]
    },
    {
      "cell_type": "code",
      "source": [
        "# Return a concatenated string \n",
        "a = '$$'\n",
        "b = 'which'\n",
        "print(a.join(b))\n",
        "print(b.join(a))"
      ],
      "metadata": {
        "colab": {
          "base_uri": "https://localhost:8080/"
        },
        "id": "iq2tqj5zIU_C",
        "outputId": "49afc67e-ed07-41e4-f8b4-e573651496fd"
      },
      "execution_count": 17,
      "outputs": [
        {
          "output_type": "stream",
          "name": "stdout",
          "text": [
            "w$$h$$i$$c$$h\n",
            "$which$\n"
          ]
        }
      ]
    },
    {
      "cell_type": "code",
      "source": [
        "# Return 3-component tuple from splitted string by the given character \n",
        "a = \"complete.python-course-thanks\"\n",
        "print(a.partition(\"-\"))\n",
        "print(a.partition(\".\"))"
      ],
      "metadata": {
        "colab": {
          "base_uri": "https://localhost:8080/"
        },
        "id": "UxZ2HxAOJl_b",
        "outputId": "a3c5e407-4796-4d01-c246-5d99c1f8756d"
      },
      "execution_count": 18,
      "outputs": [
        {
          "output_type": "stream",
          "name": "stdout",
          "text": [
            "('complete.python', '-', 'course-thanks')\n",
            "('complete', '.', 'python-course-thanks')\n"
          ]
        }
      ]
    },
    {
      "cell_type": "code",
      "source": [
        "# \n",
        "a = 'string method, , collection'\n",
        "print(a.split(\",\"))"
      ],
      "metadata": {
        "colab": {
          "base_uri": "https://localhost:8080/"
        },
        "id": "cuKu0MGSKAw2",
        "outputId": "f93558f7-d5c9-470a-a98b-c32e438ac106"
      },
      "execution_count": 19,
      "outputs": [
        {
          "output_type": "stream",
          "name": "stdout",
          "text": [
            "['string method', ' ', ' collection']\n"
          ]
        }
      ]
    },
    {
      "cell_type": "code",
      "source": [
        "# Return a copy of the string with leading and trailing characters removed.\n",
        "a = '$$$$$$example$$$$'\n",
        "print(a.strip(\"$\"))\n",
        "print(a)"
      ],
      "metadata": {
        "colab": {
          "base_uri": "https://localhost:8080/"
        },
        "id": "fwtJcKsAKnZv",
        "outputId": "384611b6-ce76-4db6-a256-29df126953c5"
      },
      "execution_count": 20,
      "outputs": [
        {
          "output_type": "stream",
          "name": "stdout",
          "text": [
            "example\n",
            "$$$$$$example$$$$\n"
          ]
        }
      ]
    },
    {
      "cell_type": "code",
      "source": [
        "# Return a copy of the string with uppercase converted to lowercase and vice versa\n",
        "a = 'Hello, substring'\n",
        "print(a.swapcase())"
      ],
      "metadata": {
        "colab": {
          "base_uri": "https://localhost:8080/"
        },
        "id": "-IGaL1U7LF7v",
        "outputId": "a5ad2acb-7cc0-4680-a86a-a823b61599d6"
      },
      "execution_count": 21,
      "outputs": [
        {
          "output_type": "stream",
          "name": "stdout",
          "text": [
            "hELLO, SUBSTRING\n"
          ]
        }
      ]
    },
    {
      "cell_type": "code",
      "source": [
        "# Return a copy \n",
        "a = \"$$$$$perlsleiw$$$$\"\n",
        "print(a.lstrip(\"$\"))"
      ],
      "metadata": {
        "colab": {
          "base_uri": "https://localhost:8080/"
        },
        "id": "IQ0_g717LGt2",
        "outputId": "b676a7f9-3ff7-4d88-b607-2b061da1a4a7"
      },
      "execution_count": 22,
      "outputs": [
        {
          "output_type": "stream",
          "name": "stdout",
          "text": [
            "perlsleiw$$$$\n"
          ]
        }
      ]
    },
    {
      "cell_type": "markdown",
      "source": [
        "# Day5"
      ],
      "metadata": {
        "id": "YJK4ax__kin2"
      }
    },
    {
      "cell_type": "markdown",
      "source": [
        "**Python F string**\n",
        "1. used to embed python expressions inside string literals for formatting, using minimal syntax.\n",
        "2. It's an expression that' evaluated at the run time. \n",
        "3. They use {} brackets to evaluate values\n",
        "4. f-strings are faster than %-formatting and str.format()\n"
      ],
      "metadata": {
        "id": "-VBWlsqpktPo"
      }
    },
    {
      "cell_type": "code",
      "source": [
        "def max_no(x,y):\n",
        "  return x if x>y else y\n",
        "f = 12\n",
        "s = 25\n",
        "print(f'Max of {f} and {s} is {max(f, s)}')"
      ],
      "metadata": {
        "colab": {
          "base_uri": "https://localhost:8080/"
        },
        "id": "2bCr7vVukrdA",
        "outputId": "b06bb82f-8aa2-48e8-bc7b-dd0b6b76e1af"
      },
      "execution_count": 23,
      "outputs": [
        {
          "output_type": "stream",
          "name": "stdout",
          "text": [
            "Max of 12 and 25 is 25\n"
          ]
        }
      ]
    },
    {
      "cell_type": "markdown",
      "source": [
        "Bitwise Operator\n"
      ],
      "metadata": {
        "id": "PDY22_nxn61J"
      }
    },
    {
      "cell_type": "markdown",
      "source": [
        "Bitwise AND\n",
        "1. The bitwise AND operator (&) perfroms logical conjunction on the corresponding bits of its operands. For each piar of bits occupying the same position in the two numbers, it returns a one only when both bits are swithed on\n",
        "2. The resulting bit pattern is an intersection of the operator's arguments.\n",
        "3. Arithmetically, this is equivalent to a product of two bit values. "
      ],
      "metadata": {
        "id": "mIzcxHoyrK_E"
      }
    },
    {
      "cell_type": "markdown",
      "source": [
        "# Day6"
      ],
      "metadata": {
        "id": "cR7-zj1bzS7e"
      }
    },
    {
      "cell_type": "markdown",
      "source": [
        "Bitwise OR\n",
        "1. It performs logical disjunction. For each corresponding pair of bits, it returns a one if at least one of them is switched on.\n",
        "2. Only a combination of two zeros gives a zero in the final output"
      ],
      "metadata": {
        "id": "SHoJJowmzaJH"
      }
    },
    {
      "cell_type": "markdown",
      "source": [
        "Bitwise XOR\n",
        "1. There is no logical counterpart in Python. \n",
        "2. It evaluates two mutually exclusive conditions and tells you whether exactly one of them is met.\n",
        "3. Every bit pair must contain opposing bit values to produce a one. "
      ],
      "metadata": {
        "id": "2P8Soodb2AyV"
      }
    },
    {
      "cell_type": "code",
      "source": [
        "# A simulation for bitwise XOR\n",
        "def xor(a, b):\n",
        "  return (a and not b) or (not a and b)"
      ],
      "metadata": {
        "id": "7SwRoDKxzZbR"
      },
      "execution_count": 24,
      "outputs": []
    },
    {
      "cell_type": "markdown",
      "source": [
        "Bitwise NOT\n",
        "1. It performs logical negation on a given number by flipping all of its bits."
      ],
      "metadata": {
        "id": "zGSvIKQb3n3B"
      }
    },
    {
      "cell_type": "code",
      "source": [
        "x = 1001\n",
        "y = 1010\n",
        "print(x & y)\n",
        "print(x | y)\n",
        "print(~y)\n",
        "print(x^y)"
      ],
      "metadata": {
        "colab": {
          "base_uri": "https://localhost:8080/"
        },
        "id": "HY3LNBBhmTHZ",
        "outputId": "05fc0964-5430-4f35-be3a-fe3012d0351b"
      },
      "execution_count": 25,
      "outputs": [
        {
          "output_type": "stream",
          "name": "stdout",
          "text": [
            "992\n",
            "1019\n",
            "-1011\n",
            "27\n"
          ]
        }
      ]
    },
    {
      "cell_type": "markdown",
      "source": [
        "Chaining comparision operators with logical operators\n",
        "> In accordance with associativity and precedence in Python, all comparison operations have the same priority.\n",
        "\n",
        "\n"
      ],
      "metadata": {
        "id": "4dl_Y4si-X3K"
      }
    },
    {
      "cell_type": "code",
      "source": [
        "a, b, c, d, e, f, g = 10, 15, 2, 1, 45, 25, 19\n",
        "e1 = a <= b < c > d < e is not f is g\n",
        "e2 = a is d < f is c\n",
        "print(e1)\n",
        "print(e2)\n",
        "\n"
      ],
      "metadata": {
        "colab": {
          "base_uri": "https://localhost:8080/"
        },
        "id": "RKkc-_Aw5x6M",
        "outputId": "9ab90d73-2874-4283-dde2-208fe69eaf5f"
      },
      "execution_count": 26,
      "outputs": [
        {
          "output_type": "stream",
          "name": "stdout",
          "text": [
            "False\n",
            "False\n"
          ]
        }
      ]
    },
    {
      "cell_type": "markdown",
      "source": [
        "## Day7"
      ],
      "metadata": {
        "id": "JdGFR19HF2s4"
      }
    },
    {
      "cell_type": "markdown",
      "source": [
        "**Python List**\n",
        "1. items can be any data type\n",
        "2. Items are ordered, changeable, and allow duplicate values"
      ],
      "metadata": {
        "id": "aLX6iVkCGRa4"
      }
    },
    {
      "cell_type": "code",
      "source": [
        "# Appending and Extending lists in Python \n",
        "days = ['monday', 'tuesday', 'wednesday', 'thursday']\n",
        "days.append('fridays')\n",
        "days.extend(['saturday'])"
      ],
      "metadata": {
        "id": "YylZtJDAAEbg"
      },
      "execution_count": 27,
      "outputs": []
    },
    {
      "cell_type": "code",
      "source": [
        "days"
      ],
      "metadata": {
        "colab": {
          "base_uri": "https://localhost:8080/"
        },
        "id": "RiqDGBWaHwbg",
        "outputId": "1003a542-9292-4894-89e9-6e02e6108f67"
      },
      "execution_count": 28,
      "outputs": [
        {
          "output_type": "execute_result",
          "data": {
            "text/plain": [
              "['monday', 'tuesday', 'wednesday', 'thursday', 'fridays', 'saturday']"
            ]
          },
          "metadata": {},
          "execution_count": 28
        }
      ]
    },
    {
      "cell_type": "code",
      "source": [
        "# Delete/Remove Lists Elements\n",
        "del days[2]\n",
        "print(days)\n",
        "\n"
      ],
      "metadata": {
        "colab": {
          "base_uri": "https://localhost:8080/"
        },
        "id": "Wl9Nx_Y3H1zy",
        "outputId": "115193ca-9e1d-425b-d935-61f422c4881e"
      },
      "execution_count": 29,
      "outputs": [
        {
          "output_type": "stream",
          "name": "stdout",
          "text": [
            "['monday', 'tuesday', 'thursday', 'fridays', 'saturday']\n"
          ]
        }
      ]
    },
    {
      "cell_type": "code",
      "source": [
        "days.remove('tuesday')\n",
        "print(days)\n"
      ],
      "metadata": {
        "colab": {
          "base_uri": "https://localhost:8080/"
        },
        "id": "zVUxntF1KTtz",
        "outputId": "e9a371d3-50fa-487b-8642-b5175b3ab397"
      },
      "execution_count": 30,
      "outputs": [
        {
          "output_type": "stream",
          "name": "stdout",
          "text": [
            "['monday', 'thursday', 'fridays', 'saturday']\n"
          ]
        }
      ]
    },
    {
      "cell_type": "code",
      "source": [
        "days.pop(2)\n",
        "print(days)"
      ],
      "metadata": {
        "colab": {
          "base_uri": "https://localhost:8080/"
        },
        "id": "rZ8dkBmNKi94",
        "outputId": "be91b454-6a0c-4dbf-fc62-fc3c65d824eb"
      },
      "execution_count": 31,
      "outputs": [
        {
          "output_type": "stream",
          "name": "stdout",
          "text": [
            "['monday', 'thursday', 'saturday']\n"
          ]
        }
      ]
    },
    {
      "cell_type": "code",
      "source": [
        "# Sort items in a list in ascending order\n",
        "month = ['jan', 'feb', 'mar', 'apr', 'may', 'jun']\n",
        "month.sort()\n",
        "print(month)"
      ],
      "metadata": {
        "colab": {
          "base_uri": "https://localhost:8080/"
        },
        "id": "z-d33iPbKxPI",
        "outputId": "fc9554f1-6dbd-4187-dec0-1527b043510a"
      },
      "execution_count": 33,
      "outputs": [
        {
          "output_type": "stream",
          "name": "stdout",
          "text": [
            "['apr', 'feb', 'jan', 'jun', 'mar', 'may']\n"
          ]
        }
      ]
    },
    {
      "cell_type": "code",
      "source": [
        "month.reverse()\n",
        "print(month)"
      ],
      "metadata": {
        "colab": {
          "base_uri": "https://localhost:8080/"
        },
        "id": "iQuMMsoDA2pX",
        "outputId": "c0d5ab70-7411-40d9-8f73-c3679709f745"
      },
      "execution_count": 34,
      "outputs": [
        {
          "output_type": "stream",
          "name": "stdout",
          "text": [
            "['may', 'mar', 'jun', 'jan', 'feb', 'apr']\n"
          ]
        }
      ]
    },
    {
      "cell_type": "code",
      "source": [
        "# A copy of the list\n",
        "month_copy = month.copy()\n",
        "print(month_copy)"
      ],
      "metadata": {
        "colab": {
          "base_uri": "https://localhost:8080/"
        },
        "id": "ewgILWLdA_gj",
        "outputId": "dd6abf08-eaf8-460a-b0b8-93a3bf33c65d"
      },
      "execution_count": 35,
      "outputs": [
        {
          "output_type": "stream",
          "name": "stdout",
          "text": [
            "['may', 'mar', 'jun', 'jan', 'feb', 'apr']\n"
          ]
        }
      ]
    },
    {
      "cell_type": "code",
      "source": [
        "# Insert item at a disired location\n",
        "month.insert(0, 'jun')\n",
        "print(month)"
      ],
      "metadata": {
        "colab": {
          "base_uri": "https://localhost:8080/"
        },
        "id": "5Yn382DoBPDA",
        "outputId": "0f0eee42-fc82-4994-fcc2-4cd2b3e72eb9"
      },
      "execution_count": 39,
      "outputs": [
        {
          "output_type": "stream",
          "name": "stdout",
          "text": [
            "['jun', 'jun', 'may', 'mar', 'jun', 'jan', 'feb', 'jun', 'jun', 'apr']\n"
          ]
        }
      ]
    },
    {
      "cell_type": "markdown",
      "source": [
        "**List Comprehension**\n",
        "\n",
        "\n",
        "> In python, list comprehension is used to created a new list based on the values of an existing list in the most elegant and shortest way."
      ],
      "metadata": {
        "id": "0iRMtA5kFUq0"
      }
    },
    {
      "cell_type": "code",
      "source": [
        "sqr = [2**x for x in range(20)]\n",
        "print(sqr)"
      ],
      "metadata": {
        "colab": {
          "base_uri": "https://localhost:8080/"
        },
        "id": "bmCGUMZKCC5X",
        "outputId": "d7e1470f-66e3-482e-b56a-bc8f307d3dfe"
      },
      "execution_count": 41,
      "outputs": [
        {
          "output_type": "stream",
          "name": "stdout",
          "text": [
            "[1, 2, 4, 8, 16, 32, 64, 128, 256, 512, 1024, 2048, 4096, 8192, 16384, 32768, 65536, 131072, 262144, 524288]\n"
          ]
        }
      ]
    },
    {
      "cell_type": "markdown",
      "source": [
        "**Python Dictionaries**"
      ],
      "metadata": {
        "id": "TrOjhpZUGQsk"
      }
    },
    {
      "cell_type": "code",
      "source": [
        "# Use keys or get method to access elements from dictionary\n",
        "var = {'first': 'sunday', 'second':'monday', 'third':'tuesday'}\n",
        "print(var['first'])\n",
        "print(var.get('first'))\n"
      ],
      "metadata": {
        "colab": {
          "base_uri": "https://localhost:8080/"
        },
        "id": "GEqpLgacF6c9",
        "outputId": "0634807e-736a-4ef0-bcc4-986f61ccbaf2"
      },
      "execution_count": 50,
      "outputs": [
        {
          "output_type": "stream",
          "name": "stdout",
          "text": [
            "sunday\n",
            "sunday\n"
          ]
        }
      ]
    },
    {
      "cell_type": "code",
      "source": [
        "# Add new items or change the value of existing items using an = operator\n",
        "var['second'] = 'friday'\n",
        "print(var)\n",
        "var['fourth'] = 'saturday'\n",
        "print(var)\n"
      ],
      "metadata": {
        "colab": {
          "base_uri": "https://localhost:8080/"
        },
        "id": "TlrerDMuGrB8",
        "outputId": "6331745e-fe2a-48b9-fc11-73a65397a054"
      },
      "execution_count": 55,
      "outputs": [
        {
          "output_type": "stream",
          "name": "stdout",
          "text": [
            "{'first': 'sunday', 'second': 'friday', 'third': 'tuesday', 'fourth': 'saturday'}\n",
            "{'first': 'sunday', 'second': 'friday', 'third': 'tuesday', 'fourth': 'saturday'}\n"
          ]
        }
      ]
    },
    {
      "cell_type": "code",
      "source": [
        "# Remove elements using pop() or popitem() method\n",
        "var.pop('third')\n",
        "print(var)"
      ],
      "metadata": {
        "colab": {
          "base_uri": "https://localhost:8080/"
        },
        "id": "xl_oCBzQH8y_",
        "outputId": "81a45556-f2d9-4116-e0b7-f46d6568e339"
      },
      "execution_count": 57,
      "outputs": [
        {
          "output_type": "stream",
          "name": "stdout",
          "text": [
            "{'first': 'sunday', 'second': 'friday', 'fourth': 'saturday'}\n"
          ]
        }
      ]
    },
    {
      "cell_type": "code",
      "source": [
        "var.popitem()"
      ],
      "metadata": {
        "colab": {
          "base_uri": "https://localhost:8080/"
        },
        "id": "rQfqtpK2WuMq",
        "outputId": "efe57b07-b189-4507-a4ee-af62f57c3dba"
      },
      "execution_count": 58,
      "outputs": [
        {
          "output_type": "execute_result",
          "data": {
            "text/plain": [
              "('fourth', 'saturday')"
            ]
          },
          "metadata": {},
          "execution_count": 58
        }
      ]
    },
    {
      "cell_type": "code",
      "source": [
        "# Returns a new dictionary with keys from seq and value equal to t\n",
        "subjects = {}.fromkeys(['first', 'second', 'third', 'forth'])\n",
        "print(subjects)"
      ],
      "metadata": {
        "colab": {
          "base_uri": "https://localhost:8080/"
        },
        "id": "CUSJMhPdW5rD",
        "outputId": "94fb67c8-38df-4c89-e88d-754b1716d980"
      },
      "execution_count": 61,
      "outputs": [
        {
          "output_type": "stream",
          "name": "stdout",
          "text": [
            "{'first': None, 'second': None, 'third': None, 'forth': None}\n"
          ]
        }
      ]
    },
    {
      "cell_type": "code",
      "source": [
        "# setdefault() method returns the value of a key. if not there, it inserts key with a value to the dictionary.\n",
        "var.setdefault('first')\n",
        "var.setdefault('fifth')\n",
        "print(var)"
      ],
      "metadata": {
        "colab": {
          "base_uri": "https://localhost:8080/"
        },
        "id": "2ilGL-DpXkZP",
        "outputId": "bcbd1270-bf0d-4be6-d6b6-b9361b7fb20e"
      },
      "execution_count": 65,
      "outputs": [
        {
          "output_type": "stream",
          "name": "stdout",
          "text": [
            "{'first': 'sunday', 'second': 'friday', 'fifth': None}\n"
          ]
        }
      ]
    },
    {
      "cell_type": "code",
      "source": [
        "# Nested dictionary\n",
        "people = {'subject':{0:'math', 1:'english', 2:'physics'}, \n",
        "          'marks':{0:90, 1:95, 2:89}}\n",
        "print(people)"
      ],
      "metadata": {
        "colab": {
          "base_uri": "https://localhost:8080/"
        },
        "id": "0nGnlko3ZTbn",
        "outputId": "fbff42cc-e9c0-481b-c398-bb3017221a74"
      },
      "execution_count": 67,
      "outputs": [
        {
          "output_type": "stream",
          "name": "stdout",
          "text": [
            "{'subject': {0: 'math', 1: 'english', 2: 'physics'}, 'marks': {0: 90, 1: 95, 2: 89}}\n"
          ]
        }
      ]
    },
    {
      "cell_type": "code",
      "source": [],
      "metadata": {
        "id": "IIR8hyxhZeuS"
      },
      "execution_count": null,
      "outputs": []
    }
  ]
}