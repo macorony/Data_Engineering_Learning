{
  "nbformat": 4,
  "nbformat_minor": 0,
  "metadata": {
    "colab": {
      "provenance": [],
      "authorship_tag": "ABX9TyO7ZGWGXo3ncRqJsq6P+TZR",
      "include_colab_link": true
    },
    "kernelspec": {
      "name": "python3",
      "display_name": "Python 3"
    },
    "language_info": {
      "name": "python"
    }
  },
  "cells": [
    {
      "cell_type": "markdown",
      "metadata": {
        "id": "view-in-github",
        "colab_type": "text"
      },
      "source": [
        "<a href=\"https://colab.research.google.com/github/macorony/Data_Engineering_Learning/blob/main/Data_Engineering.ipynb\" target=\"_parent\"><img src=\"https://colab.research.google.com/assets/colab-badge.svg\" alt=\"Open In Colab\"/></a>"
      ]
    },
    {
      "cell_type": "markdown",
      "source": [
        "# Objective\n",
        "Learning bits and pieces of important theory and concept"
      ],
      "metadata": {
        "id": "_zFr2nYXGegE"
      }
    },
    {
      "cell_type": "markdown",
      "source": [
        "# Day1\n",
        "Data engineering ecosystem\n",
        "1. Data\n",
        "2. Data stores and repositories\n",
        "3. Data pipeline\n",
        "4. Analytics and data driven decision making\n",
        "\n",
        "What is data engineering?\n",
        "Building, architecting, design, implementing data stores and repositories, data lakes and gathering, importing, cleaning, pre-processing, querying, and analyzing data. Also monitoring, evaluating, optimizing and fine tuning the process"
      ],
      "metadata": {
        "id": "zCznQDEMFsy_"
      }
    },
    {
      "cell_type": "markdown",
      "source": [
        "# Day2 \n",
        "The features of Python\n",
        "1. high-level programming language focusing on readability, coherence and productivity. Python code is typically much less than the equivalent C++ or Java. That means less to type, less to debug and less to maintain.\n",
        "2. Most Python programes run unchanged on different computer platform porting Python code between Linux and Windows. \n",
        "3. A large collection of standard libraries. The Numpy extension is a free and more powerful equivalent to the Matlab numeric programming system.\n",
        "4. Python can be better described as a general purpose programming language that blends procedural, functional, and object-oriented paradigms.\n",
        "5. Relative lower execution speed compared to compiled and lower-level languages.Because Python compiles source code into an intermediated format known as byte code and then interpret the byte code, a platform-independent format.\n",
        "\n",
        "How Python interpreter works\n",
        "1. An interpreter is a program that executes other programs. Technically, the interpreter is a layer of software logic between your code and the computer hardward. \n",
        "2. Under the hood, Python compiles source code into a byte code. The byte code of the programs is stored in the files with *.pyc* extension.\n",
        "3. Sourcr changes: Python automatically checks the last-modified timestamps of source and byte code files to know whne it must recompile.\n",
        "4. If Python cannot write the byte code files to your machine, the program still works. The byte code is generated in memory and simply discarded on program exit. \n",
        "5. Once the program has been compiled to byte code, it is forwarded to execution by Python Virtual Machine. In fact, the PVM is a big loop that iterates through the byte code instructions. The PVM is the runtime engine of Python presenting as part of the Python system, and it truly runs your scripts.\n",
        "6. Python byte code is not binary machine code, it is a Python-specific representation. This is why some Python code may not run as fast as C or C++ code. The byte code instructions require more work than CPU instructions. On the other hand, unlike in classic intepreters, there is still an internal compile step.\n",
        "\n",
        "\n",
        "\n",
        "\n",
        "\n"
      ],
      "metadata": {
        "id": "FLHnMhoMFV4e"
      }
    },
    {
      "cell_type": "markdown",
      "source": [
        "# Day3"
      ],
      "metadata": {
        "id": "ijqF7mHV1V1y"
      }
    },
    {
      "cell_type": "markdown",
      "source": [
        "The Python Conceptual Hierarchy\n",
        "1. Programs are composed of modules.\n",
        "2. Modules contain statements.\n",
        "3. Statements contain expressions.\n",
        "4. Expressions created and process objects.\n",
        "\n",
        "Why Built-in Types?\n",
        "1. Built-in objects make programs easy to write.\n",
        "2. Built-in objects are components of extensions.\n",
        "3. Built-in objects are often more efficient than custom data structures.\n",
        "4. Built-in objects are a standard part of the language.\n",
        "\n",
        "Core Data Types\n",
        "1. Number\n",
        "2. String\n",
        "3. List\n",
        "4. Dictionary\n",
        "5. Tuple\n",
        "6. File\n",
        "7. Set\n",
        "8. Boolean\n",
        "9. Program unit types such as function, modules, classes\n",
        "10. Implementation-related types such as compiled code, stack traceback\n",
        "\n",
        "We call these core data types because they effetively built into the Python language. Once you create an object, you bind its operation set for all time. So Python is dynmically typed, a model that keeps track of types for you automatically instead of requiring declaration code, but it also constraint what you can perform on an object. "
      ],
      "metadata": {
        "id": "RI2Jb71P1V_B"
      }
    },
    {
      "cell_type": "markdown",
      "source": [
        "Numbers\n",
        "1. integers\n",
        "2. floating-point \n",
        "3. complexe\n",
        "4. decimal\n",
        "5. rational\n",
        "\n",
        "There are some numeric modules such as *math* and *random*\n",
        "\n"
      ],
      "metadata": {
        "id": "o53MEc5C8vH5"
      }
    },
    {
      "cell_type": "code",
      "source": [
        "import math\n",
        "math.pi\n",
        "import random\n",
        "random.random()\n",
        "random.choice([1,2,3,4])\n"
      ],
      "metadata": {
        "colab": {
          "base_uri": "https://localhost:8080/"
        },
        "id": "_Tgc6iG-iuDf",
        "outputId": "a758e6d7-1980-4b6f-c0ac-d214f1874c65"
      },
      "execution_count": 1,
      "outputs": [
        {
          "output_type": "execute_result",
          "data": {
            "text/plain": [
              "3"
            ]
          },
          "metadata": {},
          "execution_count": 1
        }
      ]
    },
    {
      "cell_type": "markdown",
      "source": [
        "a string is sequence of one-character. Sequences maintain a left-to-right order among the items they contain: their itesm are stored and fetched by their relative position."
      ],
      "metadata": {
        "id": "nrDqQdaoC_94"
      }
    },
    {
      "cell_type": "code",
      "source": [
        "s='lunch'\n",
        "len(s)"
      ],
      "metadata": {
        "colab": {
          "base_uri": "https://localhost:8080/"
        },
        "id": "AM_33B0w9p7u",
        "outputId": "950c742c-51eb-4c1c-e8f7-7e8dc625093b"
      },
      "execution_count": 2,
      "outputs": [
        {
          "output_type": "execute_result",
          "data": {
            "text/plain": [
              "5"
            ]
          },
          "metadata": {},
          "execution_count": 2
        }
      ]
    },
    {
      "cell_type": "code",
      "source": [
        "print(s[-1])\n",
        "print(s[-2])\n"
      ],
      "metadata": {
        "colab": {
          "base_uri": "https://localhost:8080/"
        },
        "id": "C3DmhkqKDn9o",
        "outputId": "486bc829-55b4-4802-e6e8-32cb362da84c"
      },
      "execution_count": 3,
      "outputs": [
        {
          "output_type": "stream",
          "name": "stdout",
          "text": [
            "h\n",
            "c\n"
          ]
        }
      ]
    },
    {
      "cell_type": "markdown",
      "source": [
        "Immutability\n",
        "1. Of notice were not changing the original string with any of the operations we ran on it. strings are immutable in Python, they cannot be change in place after they are created. You can never overwrite the values of immutable objects.\n",
        "2. numerbs, strings, tuples are immutable\n",
        "3. lists, dictionaries and sets are mutable."
      ],
      "metadata": {
        "id": "lSZWbQh8EEJo"
      }
    },
    {
      "cell_type": "markdown",
      "source": [
        "String Method"
      ],
      "metadata": {
        "id": "fqRVl0R1FBr4"
      }
    },
    {
      "cell_type": "code",
      "source": [
        "dir(s)\n"
      ],
      "metadata": {
        "colab": {
          "base_uri": "https://localhost:8080/"
        },
        "id": "PnhLVmQjDyD8",
        "outputId": "6e555ba8-12ee-4fcf-9e6c-3aabf2d15d8f"
      },
      "execution_count": 4,
      "outputs": [
        {
          "output_type": "execute_result",
          "data": {
            "text/plain": [
              "['__add__',\n",
              " '__class__',\n",
              " '__contains__',\n",
              " '__delattr__',\n",
              " '__dir__',\n",
              " '__doc__',\n",
              " '__eq__',\n",
              " '__format__',\n",
              " '__ge__',\n",
              " '__getattribute__',\n",
              " '__getitem__',\n",
              " '__getnewargs__',\n",
              " '__gt__',\n",
              " '__hash__',\n",
              " '__init__',\n",
              " '__init_subclass__',\n",
              " '__iter__',\n",
              " '__le__',\n",
              " '__len__',\n",
              " '__lt__',\n",
              " '__mod__',\n",
              " '__mul__',\n",
              " '__ne__',\n",
              " '__new__',\n",
              " '__reduce__',\n",
              " '__reduce_ex__',\n",
              " '__repr__',\n",
              " '__rmod__',\n",
              " '__rmul__',\n",
              " '__setattr__',\n",
              " '__sizeof__',\n",
              " '__str__',\n",
              " '__subclasshook__',\n",
              " 'capitalize',\n",
              " 'casefold',\n",
              " 'center',\n",
              " 'count',\n",
              " 'encode',\n",
              " 'endswith',\n",
              " 'expandtabs',\n",
              " 'find',\n",
              " 'format',\n",
              " 'format_map',\n",
              " 'index',\n",
              " 'isalnum',\n",
              " 'isalpha',\n",
              " 'isascii',\n",
              " 'isdecimal',\n",
              " 'isdigit',\n",
              " 'isidentifier',\n",
              " 'islower',\n",
              " 'isnumeric',\n",
              " 'isprintable',\n",
              " 'isspace',\n",
              " 'istitle',\n",
              " 'isupper',\n",
              " 'join',\n",
              " 'ljust',\n",
              " 'lower',\n",
              " 'lstrip',\n",
              " 'maketrans',\n",
              " 'partition',\n",
              " 'replace',\n",
              " 'rfind',\n",
              " 'rindex',\n",
              " 'rjust',\n",
              " 'rpartition',\n",
              " 'rsplit',\n",
              " 'rstrip',\n",
              " 'split',\n",
              " 'splitlines',\n",
              " 'startswith',\n",
              " 'strip',\n",
              " 'swapcase',\n",
              " 'title',\n",
              " 'translate',\n",
              " 'upper',\n",
              " 'zfill']"
            ]
          },
          "metadata": {},
          "execution_count": 4
        }
      ]
    },
    {
      "cell_type": "markdown",
      "source": [
        "Get helps"
      ],
      "metadata": {
        "id": "EOjhVH92JQ_c"
      }
    },
    {
      "cell_type": "code",
      "source": [
        "help(s.upper)"
      ],
      "metadata": {
        "colab": {
          "base_uri": "https://localhost:8080/"
        },
        "id": "HyzoviFnFHLG",
        "outputId": "4c7bfab5-c543-4d4e-81ee-d9a48aadb226"
      },
      "execution_count": 5,
      "outputs": [
        {
          "output_type": "stream",
          "name": "stdout",
          "text": [
            "Help on built-in function upper:\n",
            "\n",
            "upper() method of builtins.str instance\n",
            "    Return a copy of the string converted to uppercase.\n",
            "\n"
          ]
        }
      ]
    },
    {
      "cell_type": "markdown",
      "source": [
        "Pattern Matching\n",
        "None of the string object's own methods support pattern-based text processing."
      ],
      "metadata": {
        "id": "hH4aHOpYKKqL"
      }
    },
    {
      "cell_type": "code",
      "source": [
        "import re\n",
        "match = re.match('Hello[ \\t]*(.*)world', 'Hello   Python world')\n",
        "match"
      ],
      "metadata": {
        "colab": {
          "base_uri": "https://localhost:8080/"
        },
        "id": "X_78LEsAJGSG",
        "outputId": "81473a26-1c74-4d67-e77b-95751aefd26f"
      },
      "execution_count": 6,
      "outputs": [
        {
          "output_type": "execute_result",
          "data": {
            "text/plain": [
              "<re.Match object; span=(0, 20), match='Hello   Python world'>"
            ]
          },
          "metadata": {},
          "execution_count": 6
        }
      ]
    },
    {
      "cell_type": "markdown",
      "source": [
        "# Day4"
      ],
      "metadata": {
        "id": "hCFVw2efA3Qr"
      }
    },
    {
      "cell_type": "code",
      "source": [
        "# Return a copy of the string with the first character capitalized\n",
        "a = 'complete python course'\n",
        "print(a.capitalize())\n"
      ],
      "metadata": {
        "id": "v2OGrhTSLBvP",
        "colab": {
          "base_uri": "https://localhost:8080/"
        },
        "outputId": "941dcca9-262f-4a50-b271-414b31965efe"
      },
      "execution_count": 7,
      "outputs": [
        {
          "output_type": "stream",
          "name": "stdout",
          "text": [
            "Complete python course\n"
          ]
        }
      ]
    },
    {
      "cell_type": "code",
      "source": [
        "# Return the string centered in a string of given length\n",
        "a = 'Python'\n",
        "b = a.center(11, '*')\n",
        "print(b)"
      ],
      "metadata": {
        "colab": {
          "base_uri": "https://localhost:8080/"
        },
        "id": "7LyF7yxoCaR0",
        "outputId": "662cffbe-1afb-4cc1-eba4-cfe60867b59f"
      },
      "execution_count": 8,
      "outputs": [
        {
          "output_type": "stream",
          "name": "stdout",
          "text": [
            "***Python**\n"
          ]
        }
      ]
    },
    {
      "cell_type": "code",
      "source": [
        "# Return a casefolded copy of the string \n",
        "a = 'PYTHON'\n",
        "print(a.casefold())\n",
        "print(a)"
      ],
      "metadata": {
        "colab": {
          "base_uri": "https://localhost:8080/"
        },
        "id": "Y6B_nuilC9Ny",
        "outputId": "8e49a6d7-0ccd-4fcd-f7d5-54df20193dce"
      },
      "execution_count": 9,
      "outputs": [
        {
          "output_type": "stream",
          "name": "stdout",
          "text": [
            "python\n",
            "PYTHON\n"
          ]
        }
      ]
    },
    {
      "cell_type": "code",
      "source": [
        "# Return true if the string ends with the given suffix\n",
        "a = 'common sense'\n",
        "print(a.endswith('x'))\n",
        "print(a.endswith('se'))"
      ],
      "metadata": {
        "colab": {
          "base_uri": "https://localhost:8080/"
        },
        "id": "YMvoK9bMDZRn",
        "outputId": "a79aa0b3-5381-4cdc-bf0e-4d8312c354a9"
      },
      "execution_count": 10,
      "outputs": [
        {
          "output_type": "stream",
          "name": "stdout",
          "text": [
            "False\n",
            "True\n"
          ]
        }
      ]
    },
    {
      "cell_type": "code",
      "source": [
        "# Return the first occurrence's index\n",
        "a = 'extraordinary'\n",
        "print(a.find('t'))"
      ],
      "metadata": {
        "colab": {
          "base_uri": "https://localhost:8080/"
        },
        "id": "Y3V38KqED33j",
        "outputId": "f69920ec-a455-41aa-9dc0-971b22dd7da2"
      },
      "execution_count": 11,
      "outputs": [
        {
          "output_type": "stream",
          "name": "stdout",
          "text": [
            "2\n"
          ]
        }
      ]
    },
    {
      "cell_type": "code",
      "source": [
        "# Similar to the find method, except that it raises ValueError when not found\n",
        "a = 'operationsaaa'\n",
        "print(a.index('a'))\n",
        "print(a.index('i'))"
      ],
      "metadata": {
        "colab": {
          "base_uri": "https://localhost:8080/"
        },
        "id": "dAX4NzzsEWOL",
        "outputId": "118054d1-bf4c-4137-aaa4-bc1339679d58"
      },
      "execution_count": 12,
      "outputs": [
        {
          "output_type": "stream",
          "name": "stdout",
          "text": [
            "4\n",
            "6\n"
          ]
        }
      ]
    },
    {
      "cell_type": "code",
      "source": [
        "# Return True if all characters in the string are all alphabetic and numeirc\n",
        "a = '4567'\n",
        "d = '46ye'\n",
        "print(a.isalnum())\n",
        "print(d.isalnum())"
      ],
      "metadata": {
        "colab": {
          "base_uri": "https://localhost:8080/"
        },
        "id": "6-AUfvm3GYCu",
        "outputId": "ea531d3f-b6a1-4321-cab6-3fe128df7158"
      },
      "execution_count": 13,
      "outputs": [
        {
          "output_type": "stream",
          "name": "stdout",
          "text": [
            "True\n",
            "True\n"
          ]
        }
      ]
    },
    {
      "cell_type": "code",
      "source": [
        "# Return True if all characters are all alphabetic \n",
        "a = 'abded1980'\n",
        "b = 'aldkei'\n",
        "print(a.isalpha())\n",
        "print(b.isalpha())"
      ],
      "metadata": {
        "colab": {
          "base_uri": "https://localhost:8080/"
        },
        "id": "cegc27PnHWF5",
        "outputId": "d6bf0660-8aa2-4a17-a849-c217063ecca5"
      },
      "execution_count": 14,
      "outputs": [
        {
          "output_type": "stream",
          "name": "stdout",
          "text": [
            "False\n",
            "True\n"
          ]
        }
      ]
    },
    {
      "cell_type": "code",
      "source": [
        "# Return True if decimal\n",
        "a = '3.14'\n",
        "b = math.pi\n",
        "c = '15'\n",
        "print(a.isdecimal())\n",
        "print(c.isdecimal())"
      ],
      "metadata": {
        "colab": {
          "base_uri": "https://localhost:8080/"
        },
        "id": "_9clOXEVH8vO",
        "outputId": "9502e4f8-dd3c-4178-d8ec-1879985a32b2"
      },
      "execution_count": 15,
      "outputs": [
        {
          "output_type": "stream",
          "name": "stdout",
          "text": [
            "False\n",
            "True\n"
          ]
        }
      ]
    },
    {
      "cell_type": "code",
      "source": [
        "# Return True if all characters are digits\n",
        "a = '3/14'\n",
        "b = '46456'\n",
        "print(a.isdigit())\n",
        "print(b.isdigit())"
      ],
      "metadata": {
        "colab": {
          "base_uri": "https://localhost:8080/"
        },
        "id": "a8ULT14JIfKB",
        "outputId": "743125fe-7dc4-4496-ed71-5a77a3a373ed"
      },
      "execution_count": 16,
      "outputs": [
        {
          "output_type": "stream",
          "name": "stdout",
          "text": [
            "False\n",
            "True\n"
          ]
        }
      ]
    },
    {
      "cell_type": "code",
      "source": [
        "# Return a concatenated string \n",
        "a = '$$'\n",
        "b = 'which'\n",
        "print(a.join(b))\n",
        "print(b.join(a))"
      ],
      "metadata": {
        "colab": {
          "base_uri": "https://localhost:8080/"
        },
        "id": "iq2tqj5zIU_C",
        "outputId": "55430271-1561-4a0b-b5f6-f6f0094f8103"
      },
      "execution_count": 17,
      "outputs": [
        {
          "output_type": "stream",
          "name": "stdout",
          "text": [
            "w$$h$$i$$c$$h\n",
            "$which$\n"
          ]
        }
      ]
    },
    {
      "cell_type": "code",
      "source": [
        "# Return 3-component tuple from splitted string by the given character \n",
        "a = \"complete.python-course-thanks\"\n",
        "print(a.partition(\"-\"))\n",
        "print(a.partition(\".\"))"
      ],
      "metadata": {
        "colab": {
          "base_uri": "https://localhost:8080/"
        },
        "id": "UxZ2HxAOJl_b",
        "outputId": "857391ed-584f-486f-e9b8-e9e5c843bb37"
      },
      "execution_count": 18,
      "outputs": [
        {
          "output_type": "stream",
          "name": "stdout",
          "text": [
            "('complete.python', '-', 'course-thanks')\n",
            "('complete', '.', 'python-course-thanks')\n"
          ]
        }
      ]
    },
    {
      "cell_type": "code",
      "source": [
        "# \n",
        "a = 'string method, , collection'\n",
        "print(a.split(\",\"))"
      ],
      "metadata": {
        "colab": {
          "base_uri": "https://localhost:8080/"
        },
        "id": "cuKu0MGSKAw2",
        "outputId": "bb18ce6c-873f-44cd-ceb6-49d59e11c28b"
      },
      "execution_count": 19,
      "outputs": [
        {
          "output_type": "stream",
          "name": "stdout",
          "text": [
            "['string method', ' ', ' collection']\n"
          ]
        }
      ]
    },
    {
      "cell_type": "code",
      "source": [
        "# Return a copy of the string with leading and trailing characters removed.\n",
        "a = '$$$$$$example$$$$'\n",
        "print(a.strip(\"$\"))\n",
        "print(a)"
      ],
      "metadata": {
        "colab": {
          "base_uri": "https://localhost:8080/"
        },
        "id": "fwtJcKsAKnZv",
        "outputId": "a4d9985d-8116-43fd-cf8b-7fc9ec39ea5b"
      },
      "execution_count": 20,
      "outputs": [
        {
          "output_type": "stream",
          "name": "stdout",
          "text": [
            "example\n",
            "$$$$$$example$$$$\n"
          ]
        }
      ]
    },
    {
      "cell_type": "code",
      "source": [
        "# Return a copy of the string with uppercase converted to lowercase and vice versa\n",
        "a = 'Hello, substring'\n",
        "print(a.swapcase())"
      ],
      "metadata": {
        "colab": {
          "base_uri": "https://localhost:8080/"
        },
        "id": "-IGaL1U7LF7v",
        "outputId": "096fbf3f-f582-408d-cc55-d237cf108399"
      },
      "execution_count": 21,
      "outputs": [
        {
          "output_type": "stream",
          "name": "stdout",
          "text": [
            "hELLO, SUBSTRING\n"
          ]
        }
      ]
    },
    {
      "cell_type": "code",
      "source": [
        "# Return a copy \n",
        "a = \"$$$$$perlsleiw$$$$\"\n",
        "print(a.lstrip(\"$\"))"
      ],
      "metadata": {
        "colab": {
          "base_uri": "https://localhost:8080/"
        },
        "id": "IQ0_g717LGt2",
        "outputId": "7b91a023-6c1f-485a-b8ce-b90f9dce556d"
      },
      "execution_count": 22,
      "outputs": [
        {
          "output_type": "stream",
          "name": "stdout",
          "text": [
            "perlsleiw$$$$\n"
          ]
        }
      ]
    },
    {
      "cell_type": "markdown",
      "source": [
        "# Day5"
      ],
      "metadata": {
        "id": "YJK4ax__kin2"
      }
    },
    {
      "cell_type": "markdown",
      "source": [
        "**Python F string**\n",
        "1. used to embed python expressions inside string literals for formatting, using minimal syntax.\n",
        "2. It's an expression that' evaluated at the run time. \n",
        "3. They use {} brackets to evaluate values\n",
        "4. f-strings are faster than %-formatting and str.format()\n"
      ],
      "metadata": {
        "id": "-VBWlsqpktPo"
      }
    },
    {
      "cell_type": "code",
      "source": [
        "def max_no(x,y):\n",
        "  return x if x>y else y\n",
        "f = 12\n",
        "s = 25\n",
        "print(f'Max of {f} and {s} is {max(f, s)}')"
      ],
      "metadata": {
        "colab": {
          "base_uri": "https://localhost:8080/"
        },
        "id": "2bCr7vVukrdA",
        "outputId": "85d93178-6d87-4b7a-c4d5-10de7fe4919f"
      },
      "execution_count": 23,
      "outputs": [
        {
          "output_type": "stream",
          "name": "stdout",
          "text": [
            "Max of 12 and 25 is 25\n"
          ]
        }
      ]
    },
    {
      "cell_type": "markdown",
      "source": [
        "Bitwise Operator\n"
      ],
      "metadata": {
        "id": "PDY22_nxn61J"
      }
    },
    {
      "cell_type": "markdown",
      "source": [
        "Bitwise AND\n",
        "1. The bitwise AND operator (&) perfroms logical conjunction on the corresponding bits of its operands. For each piar of bits occupying the same position in the two numbers, it returns a one only when both bits are swithed on\n",
        "2. The resulting bit pattern is an intersection of the operator's arguments.\n",
        "3. Arithmetically, this is equivalent to a product of two bit values. "
      ],
      "metadata": {
        "id": "mIzcxHoyrK_E"
      }
    },
    {
      "cell_type": "code",
      "source": [],
      "metadata": {
        "id": "HY3LNBBhmTHZ"
      },
      "execution_count": null,
      "outputs": []
    }
  ]
}