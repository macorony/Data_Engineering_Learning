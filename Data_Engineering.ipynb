{
  "nbformat": 4,
  "nbformat_minor": 0,
  "metadata": {
    "colab": {
      "provenance": [],
      "collapsed_sections": [],
      "authorship_tag": "ABX9TyMAAOI5XG+/DPVcZjz1r17f",
      "include_colab_link": true
    },
    "kernelspec": {
      "name": "python3",
      "display_name": "Python 3"
    },
    "language_info": {
      "name": "python"
    }
  },
  "cells": [
    {
      "cell_type": "markdown",
      "metadata": {
        "id": "view-in-github",
        "colab_type": "text"
      },
      "source": [
        "<a href=\"https://colab.research.google.com/github/macorony/Data_Engineering_Learning/blob/main/Data_Engineering.ipynb\" target=\"_parent\"><img src=\"https://colab.research.google.com/assets/colab-badge.svg\" alt=\"Open In Colab\"/></a>"
      ]
    },
    {
      "cell_type": "markdown",
      "source": [
        "# Objective\n",
        "Learning bits and pieces of important theory and concept"
      ],
      "metadata": {
        "id": "_zFr2nYXGegE"
      }
    },
    {
      "cell_type": "markdown",
      "source": [
        "# Day1\n",
        "Data engineering ecosystem\n",
        "1. Data\n",
        "2. Data stores and repositories\n",
        "3. Data pipeline\n",
        "4. Analytics and data driven decision making\n",
        "\n",
        "What is data engineering?\n",
        "Building, architecting, design, implementing data stores and repositories, data lakes and gathering, importing, cleaning, pre-processing, querying, and analyzing data. Also monitoring, evaluating, optimizing and fine tuning the process"
      ],
      "metadata": {
        "id": "zCznQDEMFsy_"
      }
    },
    {
      "cell_type": "markdown",
      "source": [
        "# Day2 \n",
        "The features of Python\n",
        "1. high-level programming language focusing on readability, coherence and productivity. Python code is typically much less than the equivalent C++ or Java. That means less to type, less to debug and less to maintain.\n",
        "2. Most Python programes run unchanged on different computer platform porting Python code between Linux and Windows. \n",
        "3. A large collection of standard libraries. The Numpy extension is a free and more powerful equivalent to the Matlab numeric programming system.\n",
        "4. Python can be better described as a general purpose programming language that blends procedural, functional, and object-oriented paradigms.\n",
        "5. Relative lower execution speed compared to compiled and lower-level languages.Because Python compiles source code into an intermediated format known as byte code and then interpret the byte code, a platform-independent format.\n",
        "\n",
        "How Python interpreter works\n",
        "1. An interpreter is a program that executes other programs. Technically, the interpreter is a layer of software logic between your code and the computer hardward. \n",
        "2. Under the hood, Python compiles source code into a byte code. The byte code of the programs is stored in the files with *.pyc* extension.\n",
        "3. Sourcr changes: Python automatically checks the last-modified timestamps of source and byte code files to know whne it must recompile.\n",
        "4. If Python cannot write the byte code files to your machine, the program still works. The byte code is generated in memory and simply discarded on program exit. \n",
        "5. Once the program has been compiled to byte code, it is forwarded to execution by Python Virtual Machine. In fact, the PVM is a big loop that iterates through the byte code instructions. The PVM is the runtime engine of Python presenting as part of the Python system, and it truly runs your scripts.\n",
        "6. Python byte code is not binary machine code, it is a Python-specific representation. This is why some Python code may not run as fast as C or C++ code. The byte code instructions require more work than CPU instructions. On the other hand, unlike in classic intepreters, there is still an internal compile step.\n",
        "\n",
        "\n",
        "\n",
        "\n",
        "\n"
      ],
      "metadata": {
        "id": "FLHnMhoMFV4e"
      }
    },
    {
      "cell_type": "markdown",
      "source": [
        "# Day3"
      ],
      "metadata": {
        "id": "ijqF7mHV1V1y"
      }
    },
    {
      "cell_type": "markdown",
      "source": [
        "The Python Conceptual Hierarchy\n",
        "1. Programs are composed of modules.\n",
        "2. Modules contain statements.\n",
        "3. Statements contain expressions.\n",
        "4. Expressions created and process objects.\n",
        "\n",
        "Why Built-in Types?\n",
        "1. Built-in objects make programs easy to write.\n",
        "2. Built-in objects are components of extensions.\n",
        "3. Built-in objects are often more efficient than custom data structures.\n",
        "4. Built-in objects are a standard part of the language.\n",
        "\n",
        "Core Data Types\n",
        "1. Number\n",
        "2. String\n",
        "3. List\n",
        "4. Dictionary\n",
        "5. Tuple\n",
        "6. File\n",
        "7. Set\n",
        "8. Boolean\n",
        "9. Program unit types such as function, modules, classes\n",
        "10. Implementation-related types such as compiled code, stack traceback\n",
        "\n",
        "We call these core data types because they effetively built into the Python language. Once you create an object, you bind its operation set for all time. So Python is dynmically typed, a model that keeps track of types for you automatically instead of requiring declaration code, but it also constraint what you can perform on an object. "
      ],
      "metadata": {
        "id": "RI2Jb71P1V_B"
      }
    },
    {
      "cell_type": "markdown",
      "source": [
        "Numbers\n",
        "1. integers\n",
        "2. floating-point \n",
        "3. complexe\n",
        "4. decimal\n",
        "5. rational\n",
        "\n",
        "There are some numeric modules such as *math* and *random*\n",
        "\n"
      ],
      "metadata": {
        "id": "o53MEc5C8vH5"
      }
    },
    {
      "cell_type": "code",
      "source": [
        "import math\n",
        "math.pi\n",
        "import random\n",
        "random.random()\n",
        "random.choice([1,2,3,4])\n"
      ],
      "metadata": {
        "colab": {
          "base_uri": "https://localhost:8080/"
        },
        "id": "_Tgc6iG-iuDf",
        "outputId": "1f7d3102-a05b-486a-c8b5-f558a63b5426"
      },
      "execution_count": 1,
      "outputs": [
        {
          "output_type": "execute_result",
          "data": {
            "text/plain": [
              "4"
            ]
          },
          "metadata": {},
          "execution_count": 1
        }
      ]
    },
    {
      "cell_type": "markdown",
      "source": [
        "a string is sequence of one-character. Sequences maintain a left-to-right order among the items they contain: their itesm are stored and fetched by their relative position."
      ],
      "metadata": {
        "id": "nrDqQdaoC_94"
      }
    },
    {
      "cell_type": "code",
      "source": [
        "s='lunch'\n",
        "len(s)"
      ],
      "metadata": {
        "colab": {
          "base_uri": "https://localhost:8080/"
        },
        "id": "AM_33B0w9p7u",
        "outputId": "a5367633-9248-42fc-e02c-3368ebbbc55e"
      },
      "execution_count": 2,
      "outputs": [
        {
          "output_type": "execute_result",
          "data": {
            "text/plain": [
              "5"
            ]
          },
          "metadata": {},
          "execution_count": 2
        }
      ]
    },
    {
      "cell_type": "code",
      "source": [
        "print(s[-1])\n",
        "print(s[-2])\n"
      ],
      "metadata": {
        "colab": {
          "base_uri": "https://localhost:8080/"
        },
        "id": "C3DmhkqKDn9o",
        "outputId": "f7708434-11ee-405d-f25e-07485646fe1e"
      },
      "execution_count": 3,
      "outputs": [
        {
          "output_type": "stream",
          "name": "stdout",
          "text": [
            "h\n",
            "c\n"
          ]
        }
      ]
    },
    {
      "cell_type": "markdown",
      "source": [
        "Immutability\n",
        "1. Of notice were not changing the original string with any of the operations we ran on it. strings are immutable in Python, they cannot be change in place after they are created. You can never overwrite the values of immutable objects.\n",
        "2. numerbs, strings, tuples are immutable\n",
        "3. lists, dictionaries and sets are mutable."
      ],
      "metadata": {
        "id": "lSZWbQh8EEJo"
      }
    },
    {
      "cell_type": "markdown",
      "source": [
        "String Method"
      ],
      "metadata": {
        "id": "fqRVl0R1FBr4"
      }
    },
    {
      "cell_type": "code",
      "source": [
        "dir(s)\n"
      ],
      "metadata": {
        "colab": {
          "base_uri": "https://localhost:8080/"
        },
        "id": "PnhLVmQjDyD8",
        "outputId": "cdc5f327-e2c4-4a85-f817-32c4df14e2de"
      },
      "execution_count": 4,
      "outputs": [
        {
          "output_type": "execute_result",
          "data": {
            "text/plain": [
              "['__add__',\n",
              " '__class__',\n",
              " '__contains__',\n",
              " '__delattr__',\n",
              " '__dir__',\n",
              " '__doc__',\n",
              " '__eq__',\n",
              " '__format__',\n",
              " '__ge__',\n",
              " '__getattribute__',\n",
              " '__getitem__',\n",
              " '__getnewargs__',\n",
              " '__gt__',\n",
              " '__hash__',\n",
              " '__init__',\n",
              " '__init_subclass__',\n",
              " '__iter__',\n",
              " '__le__',\n",
              " '__len__',\n",
              " '__lt__',\n",
              " '__mod__',\n",
              " '__mul__',\n",
              " '__ne__',\n",
              " '__new__',\n",
              " '__reduce__',\n",
              " '__reduce_ex__',\n",
              " '__repr__',\n",
              " '__rmod__',\n",
              " '__rmul__',\n",
              " '__setattr__',\n",
              " '__sizeof__',\n",
              " '__str__',\n",
              " '__subclasshook__',\n",
              " 'capitalize',\n",
              " 'casefold',\n",
              " 'center',\n",
              " 'count',\n",
              " 'encode',\n",
              " 'endswith',\n",
              " 'expandtabs',\n",
              " 'find',\n",
              " 'format',\n",
              " 'format_map',\n",
              " 'index',\n",
              " 'isalnum',\n",
              " 'isalpha',\n",
              " 'isascii',\n",
              " 'isdecimal',\n",
              " 'isdigit',\n",
              " 'isidentifier',\n",
              " 'islower',\n",
              " 'isnumeric',\n",
              " 'isprintable',\n",
              " 'isspace',\n",
              " 'istitle',\n",
              " 'isupper',\n",
              " 'join',\n",
              " 'ljust',\n",
              " 'lower',\n",
              " 'lstrip',\n",
              " 'maketrans',\n",
              " 'partition',\n",
              " 'replace',\n",
              " 'rfind',\n",
              " 'rindex',\n",
              " 'rjust',\n",
              " 'rpartition',\n",
              " 'rsplit',\n",
              " 'rstrip',\n",
              " 'split',\n",
              " 'splitlines',\n",
              " 'startswith',\n",
              " 'strip',\n",
              " 'swapcase',\n",
              " 'title',\n",
              " 'translate',\n",
              " 'upper',\n",
              " 'zfill']"
            ]
          },
          "metadata": {},
          "execution_count": 4
        }
      ]
    },
    {
      "cell_type": "markdown",
      "source": [
        "Get helps"
      ],
      "metadata": {
        "id": "EOjhVH92JQ_c"
      }
    },
    {
      "cell_type": "code",
      "source": [
        "help(s.upper)"
      ],
      "metadata": {
        "colab": {
          "base_uri": "https://localhost:8080/"
        },
        "id": "HyzoviFnFHLG",
        "outputId": "615b18f2-cac7-4d44-a0a8-858842bb086b"
      },
      "execution_count": 5,
      "outputs": [
        {
          "output_type": "stream",
          "name": "stdout",
          "text": [
            "Help on built-in function upper:\n",
            "\n",
            "upper() method of builtins.str instance\n",
            "    Return a copy of the string converted to uppercase.\n",
            "\n"
          ]
        }
      ]
    },
    {
      "cell_type": "markdown",
      "source": [
        "Pattern Matching\n",
        "None of the string object's own methods support pattern-based text processing."
      ],
      "metadata": {
        "id": "hH4aHOpYKKqL"
      }
    },
    {
      "cell_type": "code",
      "source": [
        "import re\n",
        "match = re.match('Hello[ \\t]*(.*)world', 'Hello   Python world')\n",
        "match"
      ],
      "metadata": {
        "colab": {
          "base_uri": "https://localhost:8080/"
        },
        "id": "X_78LEsAJGSG",
        "outputId": "5ab8a65b-3771-4dda-c82a-253e1daab3b0"
      },
      "execution_count": 6,
      "outputs": [
        {
          "output_type": "execute_result",
          "data": {
            "text/plain": [
              "<re.Match object; span=(0, 20), match='Hello   Python world'>"
            ]
          },
          "metadata": {},
          "execution_count": 6
        }
      ]
    },
    {
      "cell_type": "markdown",
      "source": [
        "# Day4"
      ],
      "metadata": {
        "id": "hCFVw2efA3Qr"
      }
    },
    {
      "cell_type": "code",
      "source": [
        "# Return a copy of the string with the first character capitalized\n",
        "a = 'complete python course'\n",
        "print(a.capitalize())\n"
      ],
      "metadata": {
        "id": "v2OGrhTSLBvP",
        "colab": {
          "base_uri": "https://localhost:8080/"
        },
        "outputId": "167b8b32-ef56-4754-b9d1-f625059a4b67"
      },
      "execution_count": 7,
      "outputs": [
        {
          "output_type": "stream",
          "name": "stdout",
          "text": [
            "Complete python course\n"
          ]
        }
      ]
    },
    {
      "cell_type": "code",
      "source": [
        "# Return the string centered in a string of given length\n",
        "a = 'Python'\n",
        "b = a.center(11, '*')\n",
        "print(b)"
      ],
      "metadata": {
        "colab": {
          "base_uri": "https://localhost:8080/"
        },
        "id": "7LyF7yxoCaR0",
        "outputId": "989c3903-a54f-4802-aef3-eb960cf1500a"
      },
      "execution_count": 8,
      "outputs": [
        {
          "output_type": "stream",
          "name": "stdout",
          "text": [
            "***Python**\n"
          ]
        }
      ]
    },
    {
      "cell_type": "code",
      "source": [
        "# Return a casefolded copy of the string \n",
        "a = 'PYTHON'\n",
        "print(a.casefold())\n",
        "print(a)"
      ],
      "metadata": {
        "colab": {
          "base_uri": "https://localhost:8080/"
        },
        "id": "Y6B_nuilC9Ny",
        "outputId": "d48f94f8-9b4c-4e95-c181-446c1cf2f792"
      },
      "execution_count": 9,
      "outputs": [
        {
          "output_type": "stream",
          "name": "stdout",
          "text": [
            "python\n",
            "PYTHON\n"
          ]
        }
      ]
    },
    {
      "cell_type": "code",
      "source": [
        "# Return true if the string ends with the given suffix\n",
        "a = 'common sense'\n",
        "print(a.endswith('x'))\n",
        "print(a.endswith('se'))"
      ],
      "metadata": {
        "colab": {
          "base_uri": "https://localhost:8080/"
        },
        "id": "YMvoK9bMDZRn",
        "outputId": "f6822a4a-c1a8-4258-b542-cf4bd4c46826"
      },
      "execution_count": 10,
      "outputs": [
        {
          "output_type": "stream",
          "name": "stdout",
          "text": [
            "False\n",
            "True\n"
          ]
        }
      ]
    },
    {
      "cell_type": "code",
      "source": [
        "# Return the first occurrence's index\n",
        "a = 'extraordinary'\n",
        "print(a.find('t'))"
      ],
      "metadata": {
        "colab": {
          "base_uri": "https://localhost:8080/"
        },
        "id": "Y3V38KqED33j",
        "outputId": "c36199c9-8377-44a5-b240-4a8eb4e4f792"
      },
      "execution_count": 11,
      "outputs": [
        {
          "output_type": "stream",
          "name": "stdout",
          "text": [
            "2\n"
          ]
        }
      ]
    },
    {
      "cell_type": "code",
      "source": [
        "# Similar to the find method, except that it raises ValueError when not found\n",
        "a = 'operationsaaa'\n",
        "print(a.index('a'))\n",
        "print(a.index('i'))"
      ],
      "metadata": {
        "colab": {
          "base_uri": "https://localhost:8080/"
        },
        "id": "dAX4NzzsEWOL",
        "outputId": "62ba3afc-ecd7-429a-e1a0-1c654ca38adc"
      },
      "execution_count": 12,
      "outputs": [
        {
          "output_type": "stream",
          "name": "stdout",
          "text": [
            "4\n",
            "6\n"
          ]
        }
      ]
    },
    {
      "cell_type": "code",
      "source": [
        "# Return True if all characters in the string are all alphabetic and numeirc\n",
        "a = '4567'\n",
        "d = '46ye'\n",
        "print(a.isalnum())\n",
        "print(d.isalnum())"
      ],
      "metadata": {
        "colab": {
          "base_uri": "https://localhost:8080/"
        },
        "id": "6-AUfvm3GYCu",
        "outputId": "ac2e69bb-b4f6-417e-fc8f-6246450331ef"
      },
      "execution_count": 13,
      "outputs": [
        {
          "output_type": "stream",
          "name": "stdout",
          "text": [
            "True\n",
            "True\n"
          ]
        }
      ]
    },
    {
      "cell_type": "code",
      "source": [
        "# Return True if all characters are all alphabetic \n",
        "a = 'abded1980'\n",
        "b = 'aldkei'\n",
        "print(a.isalpha())\n",
        "print(b.isalpha())"
      ],
      "metadata": {
        "colab": {
          "base_uri": "https://localhost:8080/"
        },
        "id": "cegc27PnHWF5",
        "outputId": "8cb35264-294e-4672-e76c-bc20f9deeb00"
      },
      "execution_count": 14,
      "outputs": [
        {
          "output_type": "stream",
          "name": "stdout",
          "text": [
            "False\n",
            "True\n"
          ]
        }
      ]
    },
    {
      "cell_type": "code",
      "source": [
        "# Return True if decimal\n",
        "a = '3.14'\n",
        "b = math.pi\n",
        "c = '15'\n",
        "print(a.isdecimal())\n",
        "print(c.isdecimal())"
      ],
      "metadata": {
        "colab": {
          "base_uri": "https://localhost:8080/"
        },
        "id": "_9clOXEVH8vO",
        "outputId": "d2080789-8b03-48d0-f99b-d37068af1035"
      },
      "execution_count": 15,
      "outputs": [
        {
          "output_type": "stream",
          "name": "stdout",
          "text": [
            "False\n",
            "True\n"
          ]
        }
      ]
    },
    {
      "cell_type": "code",
      "source": [
        "# Return True if all characters are digits\n",
        "a = '3/14'\n",
        "b = '46456'\n",
        "print(a.isdigit())\n",
        "print(b.isdigit())"
      ],
      "metadata": {
        "colab": {
          "base_uri": "https://localhost:8080/"
        },
        "id": "a8ULT14JIfKB",
        "outputId": "8724eb8b-2c2c-4e47-a9b2-af6474acd237"
      },
      "execution_count": 16,
      "outputs": [
        {
          "output_type": "stream",
          "name": "stdout",
          "text": [
            "False\n",
            "True\n"
          ]
        }
      ]
    },
    {
      "cell_type": "code",
      "source": [
        "# Return a concatenated string \n",
        "a = '$$'\n",
        "b = 'which'\n",
        "print(a.join(b))\n",
        "print(b.join(a))"
      ],
      "metadata": {
        "colab": {
          "base_uri": "https://localhost:8080/"
        },
        "id": "iq2tqj5zIU_C",
        "outputId": "66c691a5-09cb-4124-9afd-48cada8b954b"
      },
      "execution_count": 17,
      "outputs": [
        {
          "output_type": "stream",
          "name": "stdout",
          "text": [
            "w$$h$$i$$c$$h\n",
            "$which$\n"
          ]
        }
      ]
    },
    {
      "cell_type": "code",
      "source": [
        "# Return 3-component tuple from splitted string by the given character \n",
        "a = \"complete.python-course-thanks\"\n",
        "print(a.partition(\"-\"))\n",
        "print(a.partition(\".\"))"
      ],
      "metadata": {
        "colab": {
          "base_uri": "https://localhost:8080/"
        },
        "id": "UxZ2HxAOJl_b",
        "outputId": "053a4767-2877-40b5-d6c7-4907387a1fec"
      },
      "execution_count": 18,
      "outputs": [
        {
          "output_type": "stream",
          "name": "stdout",
          "text": [
            "('complete.python', '-', 'course-thanks')\n",
            "('complete', '.', 'python-course-thanks')\n"
          ]
        }
      ]
    },
    {
      "cell_type": "code",
      "source": [
        "# \n",
        "a = 'string method, , collection'\n",
        "print(a.split(\",\"))"
      ],
      "metadata": {
        "colab": {
          "base_uri": "https://localhost:8080/"
        },
        "id": "cuKu0MGSKAw2",
        "outputId": "f3ffbc50-7e78-4e88-ac2f-ebfbac53f0f3"
      },
      "execution_count": 19,
      "outputs": [
        {
          "output_type": "stream",
          "name": "stdout",
          "text": [
            "['string method', ' ', ' collection']\n"
          ]
        }
      ]
    },
    {
      "cell_type": "code",
      "source": [
        "# Return a copy of the string with leading and trailing characters removed.\n",
        "a = '$$$$$$example$$$$'\n",
        "print(a.strip(\"$\"))\n",
        "print(a)"
      ],
      "metadata": {
        "colab": {
          "base_uri": "https://localhost:8080/"
        },
        "id": "fwtJcKsAKnZv",
        "outputId": "43d10408-b8fb-4a33-ca99-ede45bac8bfc"
      },
      "execution_count": 20,
      "outputs": [
        {
          "output_type": "stream",
          "name": "stdout",
          "text": [
            "example\n",
            "$$$$$$example$$$$\n"
          ]
        }
      ]
    },
    {
      "cell_type": "code",
      "source": [
        "# Return a copy of the string with uppercase converted to lowercase and vice versa\n",
        "a = 'Hello, substring'\n",
        "print(a.swapcase())"
      ],
      "metadata": {
        "colab": {
          "base_uri": "https://localhost:8080/"
        },
        "id": "-IGaL1U7LF7v",
        "outputId": "86cc004b-bfbc-4fba-a8a1-b63ee06c7b85"
      },
      "execution_count": 21,
      "outputs": [
        {
          "output_type": "stream",
          "name": "stdout",
          "text": [
            "hELLO, SUBSTRING\n"
          ]
        }
      ]
    },
    {
      "cell_type": "code",
      "source": [
        "# Return a copy \n",
        "a = \"$$$$$perlsleiw$$$$\"\n",
        "print(a.lstrip(\"$\"))"
      ],
      "metadata": {
        "colab": {
          "base_uri": "https://localhost:8080/"
        },
        "id": "IQ0_g717LGt2",
        "outputId": "dabcb76c-36d4-4103-a47a-6e7e78d4ea35"
      },
      "execution_count": 22,
      "outputs": [
        {
          "output_type": "stream",
          "name": "stdout",
          "text": [
            "perlsleiw$$$$\n"
          ]
        }
      ]
    },
    {
      "cell_type": "markdown",
      "source": [
        "# Day5"
      ],
      "metadata": {
        "id": "YJK4ax__kin2"
      }
    },
    {
      "cell_type": "markdown",
      "source": [
        "**Python F string**\n",
        "1. used to embed python expressions inside string literals for formatting, using minimal syntax.\n",
        "2. It's an expression that' evaluated at the run time. \n",
        "3. They use {} brackets to evaluate values\n",
        "4. f-strings are faster than %-formatting and str.format()\n"
      ],
      "metadata": {
        "id": "-VBWlsqpktPo"
      }
    },
    {
      "cell_type": "code",
      "source": [
        "def max_no(x,y):\n",
        "  return x if x>y else y\n",
        "f = 12\n",
        "s = 25\n",
        "print(f'Max of {f} and {s} is {max(f, s)}')"
      ],
      "metadata": {
        "colab": {
          "base_uri": "https://localhost:8080/"
        },
        "id": "2bCr7vVukrdA",
        "outputId": "2501af7a-4ca2-49fb-921d-b57c4757e7b0"
      },
      "execution_count": 23,
      "outputs": [
        {
          "output_type": "stream",
          "name": "stdout",
          "text": [
            "Max of 12 and 25 is 25\n"
          ]
        }
      ]
    },
    {
      "cell_type": "markdown",
      "source": [
        "Bitwise Operator\n"
      ],
      "metadata": {
        "id": "PDY22_nxn61J"
      }
    },
    {
      "cell_type": "markdown",
      "source": [
        "Bitwise AND\n",
        "1. The bitwise AND operator (&) perfroms logical conjunction on the corresponding bits of its operands. For each piar of bits occupying the same position in the two numbers, it returns a one only when both bits are swithed on\n",
        "2. The resulting bit pattern is an intersection of the operator's arguments.\n",
        "3. Arithmetically, this is equivalent to a product of two bit values. "
      ],
      "metadata": {
        "id": "mIzcxHoyrK_E"
      }
    },
    {
      "cell_type": "markdown",
      "source": [
        "# Day6"
      ],
      "metadata": {
        "id": "cR7-zj1bzS7e"
      }
    },
    {
      "cell_type": "markdown",
      "source": [
        "Bitwise OR\n",
        "1. It performs logical disjunction. For each corresponding pair of bits, it returns a one if at least one of them is switched on.\n",
        "2. Only a combination of two zeros gives a zero in the final output"
      ],
      "metadata": {
        "id": "SHoJJowmzaJH"
      }
    },
    {
      "cell_type": "markdown",
      "source": [
        "Bitwise XOR\n",
        "1. There is no logical counterpart in Python. \n",
        "2. It evaluates two mutually exclusive conditions and tells you whether exactly one of them is met.\n",
        "3. Every bit pair must contain opposing bit values to produce a one. "
      ],
      "metadata": {
        "id": "2P8Soodb2AyV"
      }
    },
    {
      "cell_type": "code",
      "source": [
        "# A simulation for bitwise XOR\n",
        "def xor(a, b):\n",
        "  return (a and not b) or (not a and b)"
      ],
      "metadata": {
        "id": "7SwRoDKxzZbR"
      },
      "execution_count": 24,
      "outputs": []
    },
    {
      "cell_type": "markdown",
      "source": [
        "Bitwise NOT\n",
        "1. It performs logical negation on a given number by flipping all of its bits."
      ],
      "metadata": {
        "id": "zGSvIKQb3n3B"
      }
    },
    {
      "cell_type": "code",
      "source": [
        "x = 1001\n",
        "y = 1010\n",
        "print(x & y)\n",
        "print(x | y)\n",
        "print(~y)\n",
        "print(x^y)"
      ],
      "metadata": {
        "colab": {
          "base_uri": "https://localhost:8080/"
        },
        "id": "HY3LNBBhmTHZ",
        "outputId": "3fe9834e-2eee-478f-9cbc-ad4a4551f0d1"
      },
      "execution_count": 25,
      "outputs": [
        {
          "output_type": "stream",
          "name": "stdout",
          "text": [
            "992\n",
            "1019\n",
            "-1011\n",
            "27\n"
          ]
        }
      ]
    },
    {
      "cell_type": "markdown",
      "source": [
        "Chaining comparision operators with logical operators\n",
        "> In accordance with associativity and precedence in Python, all comparison operations have the same priority.\n",
        "\n",
        "\n"
      ],
      "metadata": {
        "id": "4dl_Y4si-X3K"
      }
    },
    {
      "cell_type": "code",
      "source": [
        "a, b, c, d, e, f, g = 10, 15, 2, 1, 45, 25, 19\n",
        "e1 = a <= b < c > d < e is not f is g\n",
        "e2 = a is d < f is c\n",
        "print(e1)\n",
        "print(e2)\n",
        "\n"
      ],
      "metadata": {
        "colab": {
          "base_uri": "https://localhost:8080/"
        },
        "id": "RKkc-_Aw5x6M",
        "outputId": "7cfda896-7944-49d7-ef56-21eab39345aa"
      },
      "execution_count": 26,
      "outputs": [
        {
          "output_type": "stream",
          "name": "stdout",
          "text": [
            "False\n",
            "False\n"
          ]
        }
      ]
    },
    {
      "cell_type": "markdown",
      "source": [
        "## Day7"
      ],
      "metadata": {
        "id": "JdGFR19HF2s4"
      }
    },
    {
      "cell_type": "markdown",
      "source": [
        "**Python List**\n",
        "1. items can be any data type\n",
        "2. Items are ordered, changeable, and allow duplicate values"
      ],
      "metadata": {
        "id": "aLX6iVkCGRa4"
      }
    },
    {
      "cell_type": "code",
      "source": [
        "# Appending and Extending lists in Python \n",
        "days = ['monday', 'tuesday', 'wednesday', 'thursday']\n",
        "days.append('fridays')\n",
        "days.extend(['saturday'])"
      ],
      "metadata": {
        "id": "YylZtJDAAEbg"
      },
      "execution_count": 27,
      "outputs": []
    },
    {
      "cell_type": "code",
      "source": [
        "days"
      ],
      "metadata": {
        "colab": {
          "base_uri": "https://localhost:8080/"
        },
        "id": "RiqDGBWaHwbg",
        "outputId": "617c93d7-33ff-4360-87f6-591b59dd39b9"
      },
      "execution_count": 28,
      "outputs": [
        {
          "output_type": "execute_result",
          "data": {
            "text/plain": [
              "['monday', 'tuesday', 'wednesday', 'thursday', 'fridays', 'saturday']"
            ]
          },
          "metadata": {},
          "execution_count": 28
        }
      ]
    },
    {
      "cell_type": "code",
      "source": [
        "# Delete/Remove Lists Elements\n",
        "del days[2]\n",
        "print(days)\n",
        "\n"
      ],
      "metadata": {
        "colab": {
          "base_uri": "https://localhost:8080/"
        },
        "id": "Wl9Nx_Y3H1zy",
        "outputId": "a1198f8d-cbae-443e-d0e8-f939dc5e03e6"
      },
      "execution_count": 29,
      "outputs": [
        {
          "output_type": "stream",
          "name": "stdout",
          "text": [
            "['monday', 'tuesday', 'thursday', 'fridays', 'saturday']\n"
          ]
        }
      ]
    },
    {
      "cell_type": "code",
      "source": [
        "days.remove('tuesday')\n",
        "print(days)\n"
      ],
      "metadata": {
        "colab": {
          "base_uri": "https://localhost:8080/"
        },
        "id": "zVUxntF1KTtz",
        "outputId": "c2bc771d-2144-4bc4-e209-f4210d83e951"
      },
      "execution_count": 30,
      "outputs": [
        {
          "output_type": "stream",
          "name": "stdout",
          "text": [
            "['monday', 'thursday', 'fridays', 'saturday']\n"
          ]
        }
      ]
    },
    {
      "cell_type": "code",
      "source": [
        "days.pop(2)\n",
        "print(days)"
      ],
      "metadata": {
        "colab": {
          "base_uri": "https://localhost:8080/"
        },
        "id": "rZ8dkBmNKi94",
        "outputId": "0f358414-ce3a-49f3-e097-ba6ecdf76eda"
      },
      "execution_count": 31,
      "outputs": [
        {
          "output_type": "stream",
          "name": "stdout",
          "text": [
            "['monday', 'thursday', 'saturday']\n"
          ]
        }
      ]
    },
    {
      "cell_type": "code",
      "source": [
        "# Sort items in a list in ascending order\n",
        "month = ['jan', 'feb', 'mar', 'apr', 'may', 'jun']\n",
        "month.sort()\n",
        "print(month)"
      ],
      "metadata": {
        "colab": {
          "base_uri": "https://localhost:8080/"
        },
        "id": "z-d33iPbKxPI",
        "outputId": "9b29001e-43f5-4792-cd6c-ad94d69b1e1b"
      },
      "execution_count": 32,
      "outputs": [
        {
          "output_type": "stream",
          "name": "stdout",
          "text": [
            "['apr', 'feb', 'jan', 'jun', 'mar', 'may']\n"
          ]
        }
      ]
    },
    {
      "cell_type": "code",
      "source": [
        "month.reverse()\n",
        "print(month)"
      ],
      "metadata": {
        "colab": {
          "base_uri": "https://localhost:8080/"
        },
        "id": "iQuMMsoDA2pX",
        "outputId": "004f310c-c690-4b31-9fe9-7cf32fe8caed"
      },
      "execution_count": 33,
      "outputs": [
        {
          "output_type": "stream",
          "name": "stdout",
          "text": [
            "['may', 'mar', 'jun', 'jan', 'feb', 'apr']\n"
          ]
        }
      ]
    },
    {
      "cell_type": "code",
      "source": [
        "# A copy of the list\n",
        "month_copy = month.copy()\n",
        "print(month_copy)"
      ],
      "metadata": {
        "colab": {
          "base_uri": "https://localhost:8080/"
        },
        "id": "ewgILWLdA_gj",
        "outputId": "d876a287-d4ec-4275-ab7b-eb9cd04cd52c"
      },
      "execution_count": 34,
      "outputs": [
        {
          "output_type": "stream",
          "name": "stdout",
          "text": [
            "['may', 'mar', 'jun', 'jan', 'feb', 'apr']\n"
          ]
        }
      ]
    },
    {
      "cell_type": "code",
      "source": [
        "# Insert item at a disired location\n",
        "month.insert(0, 'jun')\n",
        "print(month)"
      ],
      "metadata": {
        "colab": {
          "base_uri": "https://localhost:8080/"
        },
        "id": "5Yn382DoBPDA",
        "outputId": "62474142-1edf-4af6-ab53-dd15768f611a"
      },
      "execution_count": 35,
      "outputs": [
        {
          "output_type": "stream",
          "name": "stdout",
          "text": [
            "['jun', 'may', 'mar', 'jun', 'jan', 'feb', 'apr']\n"
          ]
        }
      ]
    },
    {
      "cell_type": "markdown",
      "source": [
        "**List Comprehension**\n",
        "\n",
        "\n",
        "> In python, list comprehension is used to created a new list based on the values of an existing list in the most elegant and shortest way."
      ],
      "metadata": {
        "id": "0iRMtA5kFUq0"
      }
    },
    {
      "cell_type": "code",
      "source": [
        "sqr = [2**x for x in range(20)]\n",
        "print(sqr)"
      ],
      "metadata": {
        "colab": {
          "base_uri": "https://localhost:8080/"
        },
        "id": "bmCGUMZKCC5X",
        "outputId": "bb0e679b-3ecb-4a86-a55e-71b6bf9f8bd4"
      },
      "execution_count": 36,
      "outputs": [
        {
          "output_type": "stream",
          "name": "stdout",
          "text": [
            "[1, 2, 4, 8, 16, 32, 64, 128, 256, 512, 1024, 2048, 4096, 8192, 16384, 32768, 65536, 131072, 262144, 524288]\n"
          ]
        }
      ]
    },
    {
      "cell_type": "markdown",
      "source": [
        "**Python Dictionaries**"
      ],
      "metadata": {
        "id": "TrOjhpZUGQsk"
      }
    },
    {
      "cell_type": "code",
      "source": [
        "# Use keys or get method to access elements from dictionary\n",
        "var = {'first': 'sunday', 'second':'monday', 'third':'tuesday'}\n",
        "print(var['first'])\n",
        "print(var.get('first'))\n"
      ],
      "metadata": {
        "colab": {
          "base_uri": "https://localhost:8080/"
        },
        "id": "GEqpLgacF6c9",
        "outputId": "d6db946d-76f6-4edb-c96c-46f84f21c460"
      },
      "execution_count": 37,
      "outputs": [
        {
          "output_type": "stream",
          "name": "stdout",
          "text": [
            "sunday\n",
            "sunday\n"
          ]
        }
      ]
    },
    {
      "cell_type": "code",
      "source": [
        "# Add new items or change the value of existing items using an = operator\n",
        "var['second'] = 'friday'\n",
        "print(var)\n",
        "var['fourth'] = 'saturday'\n",
        "print(var)\n"
      ],
      "metadata": {
        "colab": {
          "base_uri": "https://localhost:8080/"
        },
        "id": "TlrerDMuGrB8",
        "outputId": "9d16e11e-46b5-4fe1-a752-01851450715e"
      },
      "execution_count": 38,
      "outputs": [
        {
          "output_type": "stream",
          "name": "stdout",
          "text": [
            "{'first': 'sunday', 'second': 'friday', 'third': 'tuesday'}\n",
            "{'first': 'sunday', 'second': 'friday', 'third': 'tuesday', 'fourth': 'saturday'}\n"
          ]
        }
      ]
    },
    {
      "cell_type": "code",
      "source": [
        "# Remove elements using pop() or popitem() method\n",
        "var.pop('third')\n",
        "print(var)"
      ],
      "metadata": {
        "colab": {
          "base_uri": "https://localhost:8080/"
        },
        "id": "xl_oCBzQH8y_",
        "outputId": "66366730-03bc-4d9c-b0ab-3554b6aa535d"
      },
      "execution_count": 39,
      "outputs": [
        {
          "output_type": "stream",
          "name": "stdout",
          "text": [
            "{'first': 'sunday', 'second': 'friday', 'fourth': 'saturday'}\n"
          ]
        }
      ]
    },
    {
      "cell_type": "code",
      "source": [
        "var.popitem()"
      ],
      "metadata": {
        "colab": {
          "base_uri": "https://localhost:8080/"
        },
        "id": "rQfqtpK2WuMq",
        "outputId": "5b18bec4-6ef3-46b7-8f0f-0be38a5ef6b1"
      },
      "execution_count": 40,
      "outputs": [
        {
          "output_type": "execute_result",
          "data": {
            "text/plain": [
              "('fourth', 'saturday')"
            ]
          },
          "metadata": {},
          "execution_count": 40
        }
      ]
    },
    {
      "cell_type": "code",
      "source": [
        "# Returns a new dictionary with keys from seq and value equal to t\n",
        "subjects = {}.fromkeys(['first', 'second', 'third', 'forth'])\n",
        "print(subjects)"
      ],
      "metadata": {
        "colab": {
          "base_uri": "https://localhost:8080/"
        },
        "id": "CUSJMhPdW5rD",
        "outputId": "357261b3-023a-4eb8-bf19-1efd5be92558"
      },
      "execution_count": 41,
      "outputs": [
        {
          "output_type": "stream",
          "name": "stdout",
          "text": [
            "{'first': None, 'second': None, 'third': None, 'forth': None}\n"
          ]
        }
      ]
    },
    {
      "cell_type": "code",
      "source": [
        "# setdefault() method returns the value of a key. if not there, it inserts key with a value to the dictionary.\n",
        "var.setdefault('first')\n",
        "var.setdefault('fifth')\n",
        "print(var)"
      ],
      "metadata": {
        "colab": {
          "base_uri": "https://localhost:8080/"
        },
        "id": "2ilGL-DpXkZP",
        "outputId": "451381fe-a7e0-4eaf-dcc6-eec87a40ba89"
      },
      "execution_count": 42,
      "outputs": [
        {
          "output_type": "stream",
          "name": "stdout",
          "text": [
            "{'first': 'sunday', 'second': 'friday', 'fifth': None}\n"
          ]
        }
      ]
    },
    {
      "cell_type": "code",
      "source": [
        "# Nested dictionary\n",
        "people = {'subject':{0:'math', 1:'english', 2:'physics'}, \n",
        "          'marks':{0:90, 1:95, 2:89}}\n",
        "print(people)"
      ],
      "metadata": {
        "colab": {
          "base_uri": "https://localhost:8080/"
        },
        "id": "0nGnlko3ZTbn",
        "outputId": "39afef30-1760-4c49-a194-0bd550cbc088"
      },
      "execution_count": 43,
      "outputs": [
        {
          "output_type": "stream",
          "name": "stdout",
          "text": [
            "{'subject': {0: 'math', 1: 'english', 2: 'physics'}, 'marks': {0: 90, 1: 95, 2: 89}}\n"
          ]
        }
      ]
    },
    {
      "cell_type": "code",
      "source": [
        "# Return a new sorted list of keys in the dictionary\n",
        "sorted(var)\n"
      ],
      "metadata": {
        "colab": {
          "base_uri": "https://localhost:8080/"
        },
        "id": "IIR8hyxhZeuS",
        "outputId": "d58472e2-7375-4d90-d196-ee3a49647318"
      },
      "execution_count": 44,
      "outputs": [
        {
          "output_type": "execute_result",
          "data": {
            "text/plain": [
              "['fifth', 'first', 'second']"
            ]
          },
          "metadata": {},
          "execution_count": 44
        }
      ]
    },
    {
      "cell_type": "code",
      "source": [
        "# Iterate through dictionary\n",
        "dict1 = {0:'sunday', 1:'monday', 2:'tuesday', 3:'wednesday', 4:'thursday'}\n",
        "for i in dict1.items():\n",
        "  print(i)"
      ],
      "metadata": {
        "colab": {
          "base_uri": "https://localhost:8080/"
        },
        "id": "Q0gTCKPLGItD",
        "outputId": "28a8006d-798b-49f4-c0ab-fba3c3578c28"
      },
      "execution_count": 45,
      "outputs": [
        {
          "output_type": "stream",
          "name": "stdout",
          "text": [
            "(0, 'sunday')\n",
            "(1, 'monday')\n",
            "(2, 'tuesday')\n",
            "(3, 'wednesday')\n",
            "(4, 'thursday')\n"
          ]
        }
      ]
    },
    {
      "cell_type": "code",
      "source": [
        "# Dictionary comprehension\n",
        "cubes = {x: x*x*x for x in range(10)}\n",
        "print(cubes)"
      ],
      "metadata": {
        "colab": {
          "base_uri": "https://localhost:8080/"
        },
        "id": "qnwT5ycVGjme",
        "outputId": "8dbca06d-e4ce-48c4-9009-563ffe44596a"
      },
      "execution_count": 46,
      "outputs": [
        {
          "output_type": "stream",
          "name": "stdout",
          "text": [
            "{0: 0, 1: 1, 2: 8, 3: 27, 4: 64, 5: 125, 6: 216, 7: 343, 8: 512, 9: 729}\n"
          ]
        }
      ]
    },
    {
      "cell_type": "code",
      "source": [
        "# update() method: updates the dictionary with elements from another dictionary object or from any other key/value pairs\n",
        "dict1 = {0:'zero', 4:'four', 5:'five'}\n",
        "dict2 = {2:'two'}\n",
        "dict1.update(dict2)\n",
        "print(dict1)"
      ],
      "metadata": {
        "colab": {
          "base_uri": "https://localhost:8080/"
        },
        "id": "RNt47ZC4HkgP",
        "outputId": "263c4660-0ea0-4647-8ff9-9e16de9ba515"
      },
      "execution_count": 47,
      "outputs": [
        {
          "output_type": "stream",
          "name": "stdout",
          "text": [
            "{0: 'zero', 4: 'four', 5: 'five', 2: 'two'}\n"
          ]
        }
      ]
    },
    {
      "cell_type": "markdown",
      "source": [
        "**Python Tuple**\n",
        "> tuples are immutable while lists are mutable"
      ],
      "metadata": {
        "id": "Iot7IqFrIXCi"
      }
    },
    {
      "cell_type": "code",
      "source": [
        "tuple1 = (250, 'what', 'char', 87)\n",
        "type(tuple1)"
      ],
      "metadata": {
        "colab": {
          "base_uri": "https://localhost:8080/"
        },
        "id": "1hKll3OLIJs0",
        "outputId": "da1bf05a-c043-41a5-c980-16bb34439ab7"
      },
      "execution_count": 48,
      "outputs": [
        {
          "output_type": "execute_result",
          "data": {
            "text/plain": [
              "tuple"
            ]
          },
          "metadata": {},
          "execution_count": 48
        }
      ]
    },
    {
      "cell_type": "markdown",
      "source": [
        "**Python Sets**\n",
        "1. A set is a collection of objects which is unindexed and unordered.\n",
        "2. There are no duplicate elements in the items."
      ],
      "metadata": {
        "id": "GeCTE8QJI-Yv"
      }
    },
    {
      "cell_type": "code",
      "source": [
        "# Removing elements\n",
        "set1 = {10, 15, 20, 25, 30}\n",
        "set1.discard(10)\n",
        "print(set1)"
      ],
      "metadata": {
        "colab": {
          "base_uri": "https://localhost:8080/"
        },
        "id": "NyTfrnKBIp_6",
        "outputId": "80983013-f542-4a1b-beee-141dbe360d27"
      },
      "execution_count": 49,
      "outputs": [
        {
          "output_type": "stream",
          "name": "stdout",
          "text": [
            "{15, 20, 25, 30}\n"
          ]
        }
      ]
    },
    {
      "cell_type": "code",
      "source": [
        "set1.remove(15)\n",
        "print(set1)"
      ],
      "metadata": {
        "colab": {
          "base_uri": "https://localhost:8080/"
        },
        "id": "0WeoTcLDNWah",
        "outputId": "3bed2aa5-c30e-4d8b-97fe-740e5f4c1c55"
      },
      "execution_count": 50,
      "outputs": [
        {
          "output_type": "stream",
          "name": "stdout",
          "text": [
            "{20, 25, 30}\n"
          ]
        }
      ]
    },
    {
      "cell_type": "code",
      "source": [
        "set1.pop()\n",
        "print(set1)"
      ],
      "metadata": {
        "colab": {
          "base_uri": "https://localhost:8080/"
        },
        "id": "PaXybQ2JNfww",
        "outputId": "bb41dcf6-40a4-46bf-f532-bf101ac537b4"
      },
      "execution_count": 51,
      "outputs": [
        {
          "output_type": "stream",
          "name": "stdout",
          "text": [
            "{25, 30}\n"
          ]
        }
      ]
    },
    {
      "cell_type": "code",
      "source": [
        "# Set operations\n",
        "x = {10, 20, 30, 40, 50}\n",
        "y = {60, 70, 80, 90, 100}\n",
        "z = {20, 60, 80, 40, 100}"
      ],
      "metadata": {
        "id": "TAnX2EnQNiE-"
      },
      "execution_count": 52,
      "outputs": []
    },
    {
      "cell_type": "code",
      "source": [
        "# Union\n",
        "print(x|y|z)"
      ],
      "metadata": {
        "colab": {
          "base_uri": "https://localhost:8080/"
        },
        "id": "ViGUz3TTOUFg",
        "outputId": "f446c079-7338-400f-ba2f-e8da17239e9f"
      },
      "execution_count": 53,
      "outputs": [
        {
          "output_type": "stream",
          "name": "stdout",
          "text": [
            "{100, 70, 40, 10, 80, 50, 20, 90, 60, 30}\n"
          ]
        }
      ]
    },
    {
      "cell_type": "code",
      "source": [
        "# Intersection\n",
        "print(x&y&z)"
      ],
      "metadata": {
        "colab": {
          "base_uri": "https://localhost:8080/"
        },
        "id": "qgNJra-wOlQE",
        "outputId": "3ca4a4d1-485f-4f78-ddf8-0ef802a4fde0"
      },
      "execution_count": 54,
      "outputs": [
        {
          "output_type": "stream",
          "name": "stdout",
          "text": [
            "set()\n"
          ]
        }
      ]
    },
    {
      "cell_type": "code",
      "source": [
        "# Difference\n",
        "print(x-z)"
      ],
      "metadata": {
        "colab": {
          "base_uri": "https://localhost:8080/"
        },
        "id": "ubBMzOobOo7d",
        "outputId": "e8c766d9-06e0-4de8-ec2e-5db2bc83ee01"
      },
      "execution_count": 55,
      "outputs": [
        {
          "output_type": "stream",
          "name": "stdout",
          "text": [
            "{10, 50, 30}\n"
          ]
        }
      ]
    },
    {
      "cell_type": "code",
      "source": [
        "print(x^y^z)"
      ],
      "metadata": {
        "colab": {
          "base_uri": "https://localhost:8080/"
        },
        "id": "nRt9Z6DRPoiU",
        "outputId": "4ce5e30e-c1d6-41c1-e4a2-2e175c15e190"
      },
      "execution_count": 56,
      "outputs": [
        {
          "output_type": "stream",
          "name": "stdout",
          "text": [
            "{70, 10, 50, 90, 30}\n"
          ]
        }
      ]
    },
    {
      "cell_type": "code",
      "source": [
        "X = {10, 20, 30, 40, 50}\n",
        "Y = {40, 50, 60, 70, 80}\n",
        "Z = {20, 30, 100, 50, 10}\n",
        "print(\"Set Symmetric Difference:\", X^Y)"
      ],
      "metadata": {
        "colab": {
          "base_uri": "https://localhost:8080/"
        },
        "id": "6E0T-ilVP-Uf",
        "outputId": "06692aeb-84e5-4d0d-e015-011eb6fcef8a"
      },
      "execution_count": 57,
      "outputs": [
        {
          "output_type": "stream",
          "name": "stdout",
          "text": [
            "Set Symmetric Difference: {80, 20, 70, 10, 60, 30}\n"
          ]
        }
      ]
    },
    {
      "cell_type": "markdown",
      "source": [
        "# Day8\n"
      ],
      "metadata": {
        "id": "n0YAUwijTXL0"
      }
    },
    {
      "cell_type": "markdown",
      "source": [
        "**Loops in Python**\n"
      ],
      "metadata": {
        "id": "tzkGwbDHTx8r"
      }
    },
    {
      "cell_type": "code",
      "source": [
        "# for loop\n",
        "price = 200\n",
        "if price > 150:\n",
        "  print('Price is greated than 150')\n",
        "elif price == 150:\n",
        "  print('Price is 150')\n",
        "else:\n",
        "  print('Price is less than 150')"
      ],
      "metadata": {
        "id": "spb916TpTSS1",
        "colab": {
          "base_uri": "https://localhost:8080/"
        },
        "outputId": "5bbfa73e-d4fa-4c79-ecf8-de1b9bd9c79d"
      },
      "execution_count": 58,
      "outputs": [
        {
          "output_type": "stream",
          "name": "stdout",
          "text": [
            "Price is greated than 150\n"
          ]
        }
      ]
    },
    {
      "cell_type": "code",
      "source": [
        "# while loop\n",
        "i = 1\n",
        "while i < 6:\n",
        "  print('less than 6')\n",
        "  i += 1\n",
        "else:\n",
        "  print('larger than or equal 6')\n"
      ],
      "metadata": {
        "colab": {
          "base_uri": "https://localhost:8080/"
        },
        "id": "RHhBGp6wVgXe",
        "outputId": "953b52fa-913b-4dd7-daae-bc123f30660d"
      },
      "execution_count": 59,
      "outputs": [
        {
          "output_type": "stream",
          "name": "stdout",
          "text": [
            "less than 6\n",
            "less than 6\n",
            "less than 6\n",
            "less than 6\n",
            "less than 6\n",
            "larger than or equal 6\n"
          ]
        }
      ]
    },
    {
      "cell_type": "markdown",
      "source": [
        "**Break statement**\n",
        "* In python, we can use break statement when we want to terminate the current loop without checking test condition.\n",
        "* Once terminated using the break statement, the control of the program goes to the statement immediatedly after the body of the loop.\n",
        "* Break is to terminate for loop so It must be inside loop."
      ],
      "metadata": {
        "id": "2UXwfkh1Wq-N"
      }
    },
    {
      "cell_type": "code",
      "source": [
        "count = 0\n",
        "while True:\n",
        "  print(count)\n",
        "  count += 1\n",
        "  if count >= 10:\n",
        "    break"
      ],
      "metadata": {
        "colab": {
          "base_uri": "https://localhost:8080/"
        },
        "id": "sJr2MWoVVuSy",
        "outputId": "8f8065ed-89bc-43d2-836f-8842d829f7fc"
      },
      "execution_count": 60,
      "outputs": [
        {
          "output_type": "stream",
          "name": "stdout",
          "text": [
            "0\n",
            "1\n",
            "2\n",
            "3\n",
            "4\n",
            "5\n",
            "6\n",
            "7\n",
            "8\n",
            "9\n"
          ]
        }
      ]
    },
    {
      "cell_type": "code",
      "source": [
        "for i in range(16):\n",
        "  if i > 8:\n",
        "    print(i)\n",
        "    break\n"
      ],
      "metadata": {
        "colab": {
          "base_uri": "https://localhost:8080/"
        },
        "id": "IkEvfUDWXfJJ",
        "outputId": "aa450bb2-fb1f-44f2-dad7-55b847528359"
      },
      "execution_count": 61,
      "outputs": [
        {
          "output_type": "stream",
          "name": "stdout",
          "text": [
            "9\n"
          ]
        }
      ]
    },
    {
      "cell_type": "markdown",
      "source": [
        "**Continue statement**\n",
        "* Use continue statement when to skip the rest of the code for the current loop iteration.\n"
      ],
      "metadata": {
        "id": "Wc7h-DEVbOzb"
      }
    },
    {
      "cell_type": "code",
      "source": [
        "for x in range(15):\n",
        "  if x % 2 == 0:\n",
        "    continue\n",
        "  print(x)"
      ],
      "metadata": {
        "colab": {
          "base_uri": "https://localhost:8080/"
        },
        "id": "9giLDQujaR1P",
        "outputId": "5b767f47-7cb8-4bd1-a746-53ce735bf1b4"
      },
      "execution_count": 62,
      "outputs": [
        {
          "output_type": "stream",
          "name": "stdout",
          "text": [
            "1\n",
            "3\n",
            "5\n",
            "7\n",
            "9\n",
            "11\n",
            "13\n"
          ]
        }
      ]
    },
    {
      "cell_type": "markdown",
      "source": [
        "**Input in python**\n",
        "* raw_input() function reads one line from user input and return it as a string. \n",
        "* input() function is similar to raw_input, except it evaluates the user expression.\n",
        "\n",
        "**Output in python**\n",
        "* Output by print() function and string literals are used to format the output.\n"
      ],
      "metadata": {
        "id": "zAftZHT8hRyl"
      }
    },
    {
      "cell_type": "code",
      "source": [
        "# number = input(\"Enter the number:\")"
      ],
      "metadata": {
        "id": "EVsyWUEohROl"
      },
      "execution_count": 63,
      "outputs": []
    },
    {
      "cell_type": "markdown",
      "source": [
        "**Object Oriented Programming**\n",
        "* In python everything is a object. An object has two characteristics: Attributes and Behavior.\n",
        "* Class and constructor is a blueprint for the object. In python we use the class keyword to define class.\n",
        "* Method is a function associated with an object.\n",
        "* Inheritance specifies that the child object acquires all the properties and behaviors of the parent object. \n",
        "* Polymorphism refers to functions having the same names but carrying different functionalities.\n",
        "* Encapsulation to prevent data from direct modification. \n"
      ],
      "metadata": {
        "id": "h68hPOl_i8yZ"
      }
    },
    {
      "cell_type": "code",
      "source": [
        "# Define a class\n",
        "class cat:\n",
        "  def __init__(self, cat_name, cat_breed):\n",
        "    self.name = cat_name\n",
        "    self.age = cat_breed\n",
        "    "
      ],
      "metadata": {
        "id": "6PrJvC1agwlt"
      },
      "execution_count": 64,
      "outputs": []
    },
    {
      "cell_type": "code",
      "source": [
        "# Class attribute and Instance Attribute\n",
        "class emp:\n",
        "  x =10\n",
        "  def __init__(self):\n",
        "    self.name = 'Steve'\n",
        "    self.salary = 10000\n",
        "  def display(self):\n",
        "    print(self.name)\n",
        "    print(self.salary)\n",
        "emp_object = emp()\n",
        "vars(emp_object)"
      ],
      "metadata": {
        "colab": {
          "base_uri": "https://localhost:8080/"
        },
        "id": "Dg1x8Ay6tcdH",
        "outputId": "b5059b6c-3320-4936-edf9-cfd65ee83446"
      },
      "execution_count": 65,
      "outputs": [
        {
          "output_type": "execute_result",
          "data": {
            "text/plain": [
              "{'name': 'Steve', 'salary': 10000}"
            ]
          },
          "metadata": {},
          "execution_count": 65
        }
      ]
    },
    {
      "cell_type": "markdown",
      "source": [
        "**Private Variables in Python**\n",
        "\n",
        "In python, a variable is a named location used to store or hold the value/data in the memory.\n",
        "* When create a variable inside a function, it is local by default.\n",
        "* We create private variables by using underscore_ before a named prefix.\n",
        "\n",
        "There are three ways to implement private variables:\n",
        "* _single leading underscore\n",
        "* __double leading underscore\n",
        "* __double leading and double trailing underscore"
      ],
      "metadata": {
        "id": "JQZFwOE1unT2"
      }
    },
    {
      "cell_type": "code",
      "source": [
        "class test:\n",
        "  def __init__(self, num):\n",
        "    self._num = num\n",
        "  def _numfunc(self):\n",
        "    print('hello')\n",
        "\n",
        "obj = test(156)\n",
        "obj._numfunc()"
      ],
      "metadata": {
        "colab": {
          "base_uri": "https://localhost:8080/"
        },
        "id": "z10w2-S6uPX3",
        "outputId": "07c896bc-d1d3-4a05-9b15-095fdfb29b7d"
      },
      "execution_count": 66,
      "outputs": [
        {
          "output_type": "stream",
          "name": "stdout",
          "text": [
            "hello\n"
          ]
        }
      ]
    },
    {
      "cell_type": "code",
      "source": [
        "class myClass:\n",
        "  __privateVar = 27\n",
        "  def __privMeth(self):\n",
        "    print(\"I am insideclass myClass\")\n",
        "  def hello(self):\n",
        "    print(\"Private Variable value\", myClass.__privateVar)\n",
        "\n",
        "foo = myClass()\n",
        "foo.hello()"
      ],
      "metadata": {
        "colab": {
          "base_uri": "https://localhost:8080/"
        },
        "id": "NjYgaCr5jR0I",
        "outputId": "aa58f3c9-f7ef-4be8-b32e-d24fec57add8"
      },
      "execution_count": 67,
      "outputs": [
        {
          "output_type": "stream",
          "name": "stdout",
          "text": [
            "Private Variable value 27\n"
          ]
        }
      ]
    },
    {
      "cell_type": "markdown",
      "source": [
        "From the example, we can not access the private method and private variable. However, inside the class we can access the private variable. In the hello() method, the private variable can be acessed."
      ],
      "metadata": {
        "id": "WC-dH_xWnLwv"
      }
    },
    {
      "cell_type": "code",
      "source": [
        "# Private variable\n",
        "class test:\n",
        "  def __init__(self, num):\n",
        "    self.__num = num\n",
        "  def print(self):\n",
        "    print(self.__num)\n",
        "obj = test(160)\n",
        "obj.print()"
      ],
      "metadata": {
        "colab": {
          "base_uri": "https://localhost:8080/"
        },
        "id": "-JxIkmLhkTq6",
        "outputId": "c5b2e8f0-3267-4288-f4b2-d0e112f3a0a4"
      },
      "execution_count": 68,
      "outputs": [
        {
          "output_type": "stream",
          "name": "stdout",
          "text": [
            "160\n"
          ]
        }
      ]
    },
    {
      "cell_type": "markdown",
      "source": [
        "# Day9"
      ],
      "metadata": {
        "id": "ixD-994icO_O"
      }
    },
    {
      "cell_type": "markdown",
      "source": [
        "**Python Scope and Namespace**\n",
        "\n",
        "In Python, the concept of scope is closely related that of the namespace. Python scope determines where a name is visible and python scope is implemented as dictionaries mapping names to objects. These dictionaries are commonly called namespace."
      ],
      "metadata": {
        "id": "wepriHILThoF"
      }
    },
    {
      "cell_type": "code",
      "source": [
        "import sys\n",
        "sys.__dict__.keys()"
      ],
      "metadata": {
        "colab": {
          "base_uri": "https://localhost:8080/"
        },
        "id": "dPiqHKeMUbiH",
        "outputId": "15227101-3498-4af5-dcfc-3b0a6632db0a"
      },
      "execution_count": 69,
      "outputs": [
        {
          "output_type": "execute_result",
          "data": {
            "text/plain": [
              "dict_keys(['__name__', '__doc__', '__package__', '__loader__', '__spec__', 'breakpointhook', 'callstats', '_clear_type_cache', '_current_frames', 'displayhook', 'exc_info', 'excepthook', 'exit', 'getdefaultencoding', 'getdlopenflags', 'getallocatedblocks', 'getfilesystemencoding', 'getfilesystemencodeerrors', 'getrefcount', 'getrecursionlimit', 'getsizeof', '_getframe', 'intern', 'is_finalizing', 'setcheckinterval', 'getcheckinterval', 'setswitchinterval', 'getswitchinterval', 'setdlopenflags', 'setprofile', 'getprofile', 'setrecursionlimit', 'settrace', 'gettrace', 'call_tracing', '_debugmallocstats', 'set_coroutine_origin_tracking_depth', 'get_coroutine_origin_tracking_depth', 'set_coroutine_wrapper', 'get_coroutine_wrapper', 'set_asyncgen_hooks', 'get_asyncgen_hooks', 'get_int_max_str_digits', 'set_int_max_str_digits', '__displayhook__', '__excepthook__', '__breakpointhook__', 'version', 'hexversion', '_git', '_framework', 'api_version', 'copyright', 'platform', 'maxsize', 'float_info', 'int_info', 'hash_info', 'maxunicode', 'builtin_module_names', 'byteorder', 'abiflags', 'version_info', 'implementation', 'flags', 'float_repr_style', 'thread_info', 'modules', 'stderr', '__stderr__', 'meta_path', 'path_importer_cache', 'path_hooks', 'path', 'executable', 'prefix', 'base_prefix', 'exec_prefix', 'base_exec_prefix', 'argv', 'warnoptions', '_xoptions', 'dont_write_bytecode', '__stdin__', 'stdin', '__stdout__', 'stdout', '_home', '__interactivehook__', 'ps1', 'ps2', 'ps3'])"
            ]
          },
          "metadata": {},
          "execution_count": 69
        }
      ]
    },
    {
      "cell_type": "markdown",
      "source": [
        "This returns a list with all the names defined at the top level of the module."
      ],
      "metadata": {
        "id": "BWbjGdThVHV_"
      }
    },
    {
      "cell_type": "markdown",
      "source": [
        "**Global and non local variables in python**\n",
        "\n",
        "\n",
        "> It is local variable by default when we create a variable inside a function. If outside of a function, it is global by default.\n",
        "\n",
        "> We can define a variable outside a function and use the variable inside the function or we can define a variable by statement global inside a function and use it outside function. \n",
        "\n"
      ],
      "metadata": {
        "id": "1FpsJMiWLgzP"
      }
    },
    {
      "cell_type": "code",
      "source": [
        "# local variable\n",
        "def test():\n",
        "  l = 'local variable'\n",
        "  return l\n",
        "\n",
        "var=test()\n",
        "\n",
        "print(var)"
      ],
      "metadata": {
        "colab": {
          "base_uri": "https://localhost:8080/"
        },
        "id": "iuvlpJm5mtwV",
        "outputId": "0ce986d0-16c9-4226-8228-9448a9c89e6b"
      },
      "execution_count": 70,
      "outputs": [
        {
          "output_type": "stream",
          "name": "stdout",
          "text": [
            "local variable\n"
          ]
        }
      ]
    },
    {
      "cell_type": "code",
      "source": [
        "# global variable\n",
        "var = 10\n",
        "def test2():\n",
        "  var = 20\n",
        "  print('value of variable', var)\n",
        "var2 = test2()\n",
        "var2"
      ],
      "metadata": {
        "colab": {
          "base_uri": "https://localhost:8080/"
        },
        "id": "5ybE0mfDO6Su",
        "outputId": "f8d1b60b-8637-4069-ea03-7743cd57097f"
      },
      "execution_count": 71,
      "outputs": [
        {
          "output_type": "stream",
          "name": "stdout",
          "text": [
            "value of variable 20\n"
          ]
        }
      ]
    },
    {
      "cell_type": "markdown",
      "source": [
        "**First Class functions in Python**\n",
        "\n",
        "Functions are treated like any other variable. "
      ],
      "metadata": {
        "id": "IheGjmx8cWco"
      }
    },
    {
      "cell_type": "code",
      "source": [
        "def inner(a):\n",
        "  return a\n",
        "\n",
        "def outer(b):\n",
        "  return(inner(b))\n",
        "\n",
        "outer(8)\n"
      ],
      "metadata": {
        "colab": {
          "base_uri": "https://localhost:8080/"
        },
        "id": "z_7IZoJYQYR_",
        "outputId": "3b2703a4-eddb-42ca-ac7c-0257c6b81200"
      },
      "execution_count": 72,
      "outputs": [
        {
          "output_type": "execute_result",
          "data": {
            "text/plain": [
              "8"
            ]
          },
          "metadata": {},
          "execution_count": 72
        }
      ]
    },
    {
      "cell_type": "code",
      "source": [
        "def outer(num):\n",
        "  def inner(num_inner):\n",
        "    return(num_inner)\n",
        "  return(inner(num))"
      ],
      "metadata": {
        "id": "2BD7tf813GJ5"
      },
      "execution_count": 73,
      "outputs": []
    },
    {
      "cell_type": "code",
      "source": [
        "outer(10)"
      ],
      "metadata": {
        "colab": {
          "base_uri": "https://localhost:8080/"
        },
        "id": "VLUG58D83O4z",
        "outputId": "7ae258c9-ec84-436e-f11c-78519227a8c0"
      },
      "execution_count": 74,
      "outputs": [
        {
          "output_type": "execute_result",
          "data": {
            "text/plain": [
              "10"
            ]
          },
          "metadata": {},
          "execution_count": 74
        }
      ]
    },
    {
      "cell_type": "markdown",
      "source": [
        "**Tuple Unpacking with Python Functions**\n",
        "\n",
        "In python, tumples are immutable data types. Python offers a very powerful tuple assignment tool that maps right hand side arguments into left side arguments."
      ],
      "metadata": {
        "id": "1SQ-mJ8k4a8D"
      }
    },
    {
      "cell_type": "code",
      "source": [
        "def result(a, b):\n",
        "  return(a+b)\n",
        "print(result(100,200))"
      ],
      "metadata": {
        "colab": {
          "base_uri": "https://localhost:8080/"
        },
        "id": "WMGprwmy3Q8X",
        "outputId": "da55a82f-6484-4645-eb94-999098411e67"
      },
      "execution_count": 75,
      "outputs": [
        {
          "output_type": "stream",
          "name": "stdout",
          "text": [
            "300\n"
          ]
        }
      ]
    },
    {
      "cell_type": "code",
      "source": [
        "c = (300,400)\n",
        "print(result(*c))"
      ],
      "metadata": {
        "colab": {
          "base_uri": "https://localhost:8080/"
        },
        "id": "07IXYyI_5Vg6",
        "outputId": "9d7d2230-63f1-4360-90a0-57c231e37bae"
      },
      "execution_count": 76,
      "outputs": [
        {
          "output_type": "stream",
          "name": "stdout",
          "text": [
            "700\n"
          ]
        }
      ]
    },
    {
      "cell_type": "code",
      "source": [
        "print(*c)"
      ],
      "metadata": {
        "colab": {
          "base_uri": "https://localhost:8080/"
        },
        "id": "q861K7Tc5b8d",
        "outputId": "a3cad2a4-97ed-43a0-e4d7-d4535959798f"
      },
      "execution_count": 77,
      "outputs": [
        {
          "output_type": "stream",
          "name": "stdout",
          "text": [
            "300 400\n"
          ]
        }
      ]
    },
    {
      "cell_type": "markdown",
      "source": [
        "**Static Method**\n",
        "> Static method is similar to class level method. \n",
        "\n",
        "> Static method is bound to a class rather than a object. \n",
        "\n",
        "> Static method can not modify the state of an object"
      ],
      "metadata": {
        "id": "InT6Pij_7uM8"
      }
    },
    {
      "cell_type": "code",
      "source": [
        "class Calculator:\n",
        "  def addNumbers(x, y):\n",
        "    return(x + y)\n",
        "Calculator.addNumbers = staticmethod(Calculator.addNumbers)\n",
        "\n",
        "Calculator.addNumbers(100, 50)"
      ],
      "metadata": {
        "colab": {
          "base_uri": "https://localhost:8080/"
        },
        "id": "oIGWiuoQ5fC7",
        "outputId": "2a6e005b-faf9-470e-ee1b-ab951a752941"
      },
      "execution_count": 78,
      "outputs": [
        {
          "output_type": "execute_result",
          "data": {
            "text/plain": [
              "150"
            ]
          },
          "metadata": {},
          "execution_count": 78
        }
      ]
    },
    {
      "cell_type": "code",
      "source": [
        "class calculator:\n",
        "  @staticmethod\n",
        "  def addNumbers(x, y):\n",
        "    return(x + y)\n",
        "calculator.addNumbers(90, 60)"
      ],
      "metadata": {
        "colab": {
          "base_uri": "https://localhost:8080/"
        },
        "id": "YeSyv-2u83nJ",
        "outputId": "da839d25-66fc-4402-8876-3ccdc21ff3c1"
      },
      "execution_count": 79,
      "outputs": [
        {
          "output_type": "execute_result",
          "data": {
            "text/plain": [
              "150"
            ]
          },
          "metadata": {},
          "execution_count": 79
        }
      ]
    },
    {
      "cell_type": "markdown",
      "source": [
        "**Lambda Functions in Python**\n",
        "\n",
        "The keyword \"Lambda\" is used to created anonymous functions. It is only allowed one expression."
      ],
      "metadata": {
        "id": "KLVjqp3bJcF-"
      }
    },
    {
      "cell_type": "code",
      "source": [
        "x = lambda a, b, c: a* b +c\n",
        "x(1,2,3)"
      ],
      "metadata": {
        "id": "VrXIjhg19Z61",
        "colab": {
          "base_uri": "https://localhost:8080/"
        },
        "outputId": "e2c92974-e864-4bd0-b853-ae6c3d7c02bd"
      },
      "execution_count": 80,
      "outputs": [
        {
          "output_type": "execute_result",
          "data": {
            "text/plain": [
              "5"
            ]
          },
          "metadata": {},
          "execution_count": 80
        }
      ]
    },
    {
      "cell_type": "markdown",
      "source": [
        "**Map and Filter Functions in Python**\n",
        "\n",
        "> The map() function applies the given to each item of a given iterable construct and returns a map object.\n",
        "\n",
        "> The filter() function returns a iterators when the items are filtered through a function to test if the items is true or not."
      ],
      "metadata": {
        "id": "bHREKLiGPhio"
      }
    },
    {
      "cell_type": "code",
      "source": [
        "days = ['sunday', 'monday', 'tuesday', 'wednesday']\n",
        "mod_days = list(map(str.swapcase, days))\n",
        "mod_days"
      ],
      "metadata": {
        "colab": {
          "base_uri": "https://localhost:8080/"
        },
        "id": "AhfoJSL5NsiH",
        "outputId": "597f7aeb-d6dd-4cd4-883b-440acb67be54"
      },
      "execution_count": 81,
      "outputs": [
        {
          "output_type": "execute_result",
          "data": {
            "text/plain": [
              "['SUNDAY', 'MONDAY', 'TUESDAY', 'WEDNESDAY']"
            ]
          },
          "metadata": {},
          "execution_count": 81
        }
      ]
    },
    {
      "cell_type": "code",
      "source": [
        "marks = [60, 70, 80, 80, 90, 20]\n",
        "def stud(score):\n",
        "  return score == 80\n",
        "list(filter(stud, marks))"
      ],
      "metadata": {
        "colab": {
          "base_uri": "https://localhost:8080/"
        },
        "id": "xtGEdwOtWgXp",
        "outputId": "df7fedb7-688f-497b-eeca-2bd4b5a52d99"
      },
      "execution_count": 82,
      "outputs": [
        {
          "output_type": "execute_result",
          "data": {
            "text/plain": [
              "[80, 80]"
            ]
          },
          "metadata": {},
          "execution_count": 82
        }
      ]
    },
    {
      "cell_type": "markdown",
      "source": [
        "**Time Series**"
      ],
      "metadata": {
        "id": "vrmLL8mN8dK2"
      }
    },
    {
      "cell_type": "code",
      "source": [
        "import pandas as pd\n",
        "df = pd.DataFrame({\"Date\": [\n",
        "            pd.Timestamp(\"2000-01-02\"),\n",
        "            pd.Timestamp(\"2000-01-02\"),\n",
        "            pd.Timestamp(\"2000-01-09\"),\n",
        "            pd.Timestamp(\"2000-01-16\")\n",
        "        ],\n",
        "        \"ID\": [0, 1, 2, 3], \n",
        "        \"Price\": [10, 20, 30, 40]}\n",
        ")"
      ],
      "metadata": {
        "id": "YGkuCYO4WhbZ"
      },
      "execution_count": 83,
      "outputs": []
    },
    {
      "cell_type": "code",
      "source": [
        "print(df.groupby(pd.Grouper(key='Date', freq='d')).sum())\n",
        "print(df.groupby(pd.Grouper(key='Date', freq='w')).sum())"
      ],
      "metadata": {
        "colab": {
          "base_uri": "https://localhost:8080/"
        },
        "id": "86uiA2NVCchB",
        "outputId": "1b391cad-cdf5-4b63-ef3c-1f268715c62d"
      },
      "execution_count": 84,
      "outputs": [
        {
          "output_type": "stream",
          "name": "stdout",
          "text": [
            "            ID  Price\n",
            "Date                 \n",
            "2000-01-02   1     30\n",
            "2000-01-03   0      0\n",
            "2000-01-04   0      0\n",
            "2000-01-05   0      0\n",
            "2000-01-06   0      0\n",
            "2000-01-07   0      0\n",
            "2000-01-08   0      0\n",
            "2000-01-09   2     30\n",
            "2000-01-10   0      0\n",
            "2000-01-11   0      0\n",
            "2000-01-12   0      0\n",
            "2000-01-13   0      0\n",
            "2000-01-14   0      0\n",
            "2000-01-15   0      0\n",
            "2000-01-16   3     40\n",
            "            ID  Price\n",
            "Date                 \n",
            "2000-01-02   1     30\n",
            "2000-01-09   2     30\n",
            "2000-01-16   3     40\n"
          ]
        }
      ]
    },
    {
      "cell_type": "markdown",
      "source": [
        "**Magic Method in Python**\n",
        "\n",
        "> The special methods that start and end with double underscores.\n",
        "\n",
        "> Magic methods are not meant to be invoked directly by you, but the invocation happens internally fromthe class on a certain action. For example, when add two numbers using the + operator, the \"__add__()\" method will be called."
      ],
      "metadata": {
        "id": "k5Il_sA1nJ0n"
      }
    },
    {
      "cell_type": "code",
      "source": [
        "num = 10\n",
        "print(num + 5)\n",
        "print(num.__add__(5))"
      ],
      "metadata": {
        "colab": {
          "base_uri": "https://localhost:8080/"
        },
        "id": "6IgbTRz2CfW_",
        "outputId": "3723dd29-736f-42ce-e89c-bf44a15aed79"
      },
      "execution_count": 85,
      "outputs": [
        {
          "output_type": "stream",
          "name": "stdout",
          "text": [
            "15\n",
            "15\n"
          ]
        }
      ]
    },
    {
      "cell_type": "code",
      "source": [
        "class Employee:\n",
        "  def __new__(cls):\n",
        "    print('__new__ magic method is called')\n",
        "    inst = object.__new__(cls)\n",
        "    return inst\n",
        "  def __init__(self):\n",
        "    print('__init__magic method is called')\n",
        "    self.name = 'Sanyong'\n",
        "emp = Employee()"
      ],
      "metadata": {
        "colab": {
          "base_uri": "https://localhost:8080/"
        },
        "id": "DwBlYZ28qNzS",
        "outputId": "00771e0f-53d3-43fa-b49f-f67c97511213"
      },
      "execution_count": 86,
      "outputs": [
        {
          "output_type": "stream",
          "name": "stdout",
          "text": [
            "__new__ magic method is called\n",
            "__init__magic method is called\n"
          ]
        }
      ]
    },
    {
      "cell_type": "code",
      "source": [
        "class Employee:\n",
        "  def __init__(self):\n",
        "    self.name = 'Nancy'\n",
        "    self.salary = 90000\n",
        "  def __str__(self):\n",
        "    return('Name:'+self.name+', Salary:'+str(self.salary))\n",
        "emp1 = Employee()"
      ],
      "metadata": {
        "id": "F4IUtk_krEeR"
      },
      "execution_count": 87,
      "outputs": []
    },
    {
      "cell_type": "code",
      "source": [
        "print(emp1)"
      ],
      "metadata": {
        "colab": {
          "base_uri": "https://localhost:8080/"
        },
        "id": "DlI9ds1Ur0LO",
        "outputId": "843dad16-73b4-401d-9abc-c184acc7b65f"
      },
      "execution_count": 88,
      "outputs": [
        {
          "output_type": "stream",
          "name": "stdout",
          "text": [
            "Name:Nancy, Salary:90000\n"
          ]
        }
      ]
    },
    {
      "cell_type": "markdown",
      "source": [
        "**Inhertance in Python**\n",
        "\n",
        "* Using inheritance you can use or inherit all the data fields and methods available in the parent class. \n",
        "* On top of it, you can add you own methods and data fields."
      ],
      "metadata": {
        "id": "aiLu8xDls3vB"
      }
    },
    {
      "cell_type": "code",
      "source": [
        "class Vehicle:\n",
        "  def __init__(self, name, color):\n",
        "    self.__name = name\n",
        "    self.__color = color\n",
        "  def getColor(self):\n",
        "    return self.__color\n",
        "  def setColor(self, color):\n",
        "    self.__color = color\n",
        "  def getName(self):\n",
        "    return self.__name\n",
        "  \n",
        "class Bike(Vehicle):\n",
        "  def __init__(self, name, color, model):\n",
        "    super().__init__(name, color)\n",
        "    self.__model = model\n",
        "  def getDetails(self):\n",
        "    return self.getName() + self.__model + \" in \" + self.getColor() + \" color\"\n",
        "    "
      ],
      "metadata": {
        "id": "5AMGmfz8sRH3"
      },
      "execution_count": 89,
      "outputs": []
    },
    {
      "cell_type": "code",
      "source": [
        "mybike = Bike(\"giant\", \"red\", \"mountain\")\n",
        "mybike.getDetails()"
      ],
      "metadata": {
        "colab": {
          "base_uri": "https://localhost:8080/",
          "height": 35
        },
        "id": "a_w7ravSwhb6",
        "outputId": "a3cb9b09-8560-4084-864d-ab09a18184b7"
      },
      "execution_count": 90,
      "outputs": [
        {
          "output_type": "execute_result",
          "data": {
            "text/plain": [
              "'giantmountain in red color'"
            ],
            "application/vnd.google.colaboratory.intrinsic+json": {
              "type": "string"
            }
          },
          "metadata": {},
          "execution_count": 90
        }
      ]
    },
    {
      "cell_type": "markdown",
      "source": [
        "# Day10"
      ],
      "metadata": {
        "id": "9BZrDwpkJ4kX"
      }
    },
    {
      "cell_type": "markdown",
      "source": [
        "**Polymorphism in Python**\n",
        "* In python, polymorphism allows us to define method in the child class with the same name as defined in their parent class."
      ],
      "metadata": {
        "id": "BsHqpvou0uBD"
      }
    },
    {
      "cell_type": "code",
      "source": [
        "\n",
        "from math import pi\n",
        "class Shape:\n",
        "  def __init__(self, name):\n",
        "    self.name = name\n",
        "  def area(self):\n",
        "    pass\n",
        "\n",
        "class Square(Shape):\n",
        "  def __init__(self, length):\n",
        "    super().__init__('square')\n",
        "    self.length = length\n",
        "  def area(self):\n",
        "    return self.length **2 \n",
        "\n",
        "class Circle(Shape):\n",
        "  def __init__(self, radius):\n",
        "    super().__init__('circle')\n",
        "    self.radius = radius\n",
        "  def area(self):\n",
        "    return pi * self.radius**2\n",
        "\n"
      ],
      "metadata": {
        "id": "C_tfs2Y8w-05"
      },
      "execution_count": 91,
      "outputs": []
    },
    {
      "cell_type": "code",
      "source": [
        "a = Square(6)\n",
        "b = Circle(6)\n",
        "print(a.area())\n",
        "print(b.area())"
      ],
      "metadata": {
        "colab": {
          "base_uri": "https://localhost:8080/"
        },
        "id": "VgQ0vZmzI3XN",
        "outputId": "12bd57fa-ce25-43f7-b5f0-aaac13f20231"
      },
      "execution_count": 92,
      "outputs": [
        {
          "output_type": "stream",
          "name": "stdout",
          "text": [
            "36\n",
            "113.09733552923255\n"
          ]
        }
      ]
    },
    {
      "cell_type": "markdown",
      "source": [
        "**Errors and Exception Handing in Python**\n",
        "\n",
        "* IndexError: wrong index of a list.\n",
        "* ImportError: an imported module is not founded.\n",
        "* KeyError: the key of the dictionary is not founded.\n",
        "* NameError: the variable is not defined.\n",
        "* MemoryError: a program run out of memory.\n",
        "* TypeError: a function and operation is applied in an incorrect type.\n",
        "* AssertionError: assert statement fails.\n",
        "* AttribeError: an attribute assignment is failed."
      ],
      "metadata": {
        "id": "md_AcyHtLMoy"
      }
    },
    {
      "cell_type": "markdown",
      "source": [
        "**Try and Except in Python**\n",
        "* The code to raise an exception is inside the try statement while that handle the exception is inside the except statement.\n",
        "* If no exception, the except block is skipped.\n",
        "* There can be multiple exceptions to handle different types of error but only one will be executed. "
      ],
      "metadata": {
        "id": "ySl6n4dyM79Q"
      }
    },
    {
      "cell_type": "code",
      "source": [
        "try:\n",
        "  print(1/0)\n",
        "except:\n",
        "  print(\"There is an error!\")\n",
        "finally:\n",
        "  print(\"Keep going!\")"
      ],
      "metadata": {
        "colab": {
          "base_uri": "https://localhost:8080/"
        },
        "id": "2p8XEwzfJ0S1",
        "outputId": "5e89575f-9c75-429b-c0a8-64fe22730c39"
      },
      "execution_count": 93,
      "outputs": [
        {
          "output_type": "stream",
          "name": "stdout",
          "text": [
            "There is an error!\n",
            "Keep going!\n"
          ]
        }
      ]
    },
    {
      "cell_type": "markdown",
      "source": [
        "**User-defined Exceptions**\n",
        "\n",
        "User can define new types of error by creating a new exception class.\n",
        "* Exceptions need to be derived from the Exception class. \n",
        "* Exceptions errors are rainsed when an external event occurs which in some way changes the normal flow of the program.\n",
        "* User defined exceptions can be implemented by raising an exception explicitly, by using assert statement is not met or by defining custome calsses for user defined exceptions.\n",
        "* Use assert statement to implement constraints on the program. When, the condition given in assert statement is not met, the program gives AssertionError in output.\n",
        "* You can raise an exsiting exception by using the raise keyword and the name of the exception.\n",
        "* To create a custome exeption class and define an error message, you need to derive the errors from the Exception class directly. \n"
      ],
      "metadata": {
        "id": "puxXrDNiQIa8"
      }
    },
    {
      "cell_type": "markdown",
      "source": [
        "# Day11"
      ],
      "metadata": {
        "id": "B4PmBs0nS0Zw"
      }
    },
    {
      "cell_type": "markdown",
      "source": [
        "**Decorators in Python**\n",
        "* Decorators are a very powerful and usefull tool in Python since it allows programmers to modify/control the behavior of function or class\n",
        "* In Decorators, functions are passed as an argument into another function and then called inside the wrapper function.\n",
        "* Decorators are usually called before the definition of a function you want to decorate. "
      ],
      "metadata": {
        "id": "FedNaBJ-aIZJ"
      }
    },
    {
      "cell_type": "code",
      "source": [
        "def plus_one(number):\n",
        "  return number + 1\n",
        "\n",
        "add_one = plus_one\n",
        "add_one(5) "
      ],
      "metadata": {
        "id": "smUjVM--nq4i",
        "colab": {
          "base_uri": "https://localhost:8080/"
        },
        "outputId": "c6c08ffd-d350-4d7e-9a62-585fe60c9ebd"
      },
      "execution_count": 1,
      "outputs": [
        {
          "output_type": "execute_result",
          "data": {
            "text/plain": [
              "6"
            ]
          },
          "metadata": {},
          "execution_count": 1
        }
      ]
    },
    {
      "cell_type": "markdown",
      "source": [
        "**To define a function inside another function in Python**"
      ],
      "metadata": {
        "id": "bRs1rEhxHU9h"
      }
    },
    {
      "cell_type": "code",
      "source": [
        "def plus_one(number):\n",
        "  def add_one(number):\n",
        "    return number + 1\n",
        "  \n",
        "  result = add_one(number)\n",
        "  return result\n",
        "\n",
        "plus_one(5)"
      ],
      "metadata": {
        "colab": {
          "base_uri": "https://localhost:8080/"
        },
        "id": "V2sbJYmkGxBQ",
        "outputId": "81401b95-306d-429c-fded-c4c130896a9f"
      },
      "execution_count": 3,
      "outputs": [
        {
          "output_type": "execute_result",
          "data": {
            "text/plain": [
              "6"
            ]
          },
          "metadata": {},
          "execution_count": 3
        }
      ]
    },
    {
      "cell_type": "markdown",
      "source": [
        "**Passing functions as arguments to other functions**"
      ],
      "metadata": {
        "id": "IVzosZJPHz7t"
      }
    },
    {
      "cell_type": "code",
      "source": [
        "def plus_one(number):\n",
        "  return number + 1\n",
        "\n",
        "def function_call(function):\n",
        "  number_to_add = 5\n",
        "  return function(number_to_add)\n",
        "\n",
        "function_call(plus_one)"
      ],
      "metadata": {
        "colab": {
          "base_uri": "https://localhost:8080/"
        },
        "id": "VXGvi3GeHyky",
        "outputId": "8c4f2936-464a-4030-f6ff-ccee3e51bf51"
      },
      "execution_count": 6,
      "outputs": [
        {
          "output_type": "execute_result",
          "data": {
            "text/plain": [
              "6"
            ]
          },
          "metadata": {},
          "execution_count": 6
        }
      ]
    },
    {
      "cell_type": "code",
      "source": [
        "def print_message(message):\n",
        "  \"Enclosing Function\"\n",
        "  def message_sender():\n",
        "    \"Nested Function\"\n",
        "    print(message)\n",
        "  \n",
        "  message_sender()\n",
        "\n",
        "print_message('something')\n",
        "  "
      ],
      "metadata": {
        "colab": {
          "base_uri": "https://localhost:8080/"
        },
        "id": "5mVXm0R1HuuG",
        "outputId": "be789326-926a-41f6-db0f-aca089147355"
      },
      "execution_count": 7,
      "outputs": [
        {
          "output_type": "stream",
          "name": "stdout",
          "text": [
            "something\n"
          ]
        }
      ]
    },
    {
      "cell_type": "markdown",
      "source": [
        "**Create Decorator**"
      ],
      "metadata": {
        "id": "tKggmyUeRaEX"
      }
    },
    {
      "cell_type": "code",
      "source": [
        "def uppercase_decorator(function):\n",
        "  def wrapper():\n",
        "    func = function()\n",
        "    make_uppercase = func.upper()\n",
        "    return make_uppercase\n",
        "  return wrapper\n"
      ],
      "metadata": {
        "id": "c9CRylxnRKmo"
      },
      "execution_count": 11,
      "outputs": []
    },
    {
      "cell_type": "code",
      "source": [
        "def say_hi():\n",
        "  return 'hello there'\n",
        "\n",
        "decorate = uppercase_decorator(say_hi)\n",
        "decorate()"
      ],
      "metadata": {
        "colab": {
          "base_uri": "https://localhost:8080/",
          "height": 35
        },
        "id": "8uoQygjcR8xC",
        "outputId": "600eb7d1-0c5c-4338-d2fd-b62254ab7eee"
      },
      "execution_count": 12,
      "outputs": [
        {
          "output_type": "execute_result",
          "data": {
            "text/plain": [
              "'HELLO THERE'"
            ],
            "application/vnd.google.colaboratory.intrinsic+json": {
              "type": "string"
            }
          },
          "metadata": {},
          "execution_count": 12
        }
      ]
    },
    {
      "cell_type": "markdown",
      "source": [
        "Accepting arguments in decorator functions"
      ],
      "metadata": {
        "id": "KLTz6Pr4TNvm"
      }
    },
    {
      "cell_type": "code",
      "source": [
        "def decorator_with_arguments(function):\n",
        "  def wrapper_accepting_arguments(arg1, arg2):\n",
        "    print('my arguments are: {0}, {1}'.format(arg1, arg2))\n",
        "    function(arg1, arg2)\n",
        "  return wrapper_accepting_arguments\n",
        "\n",
        "@decorator_with_arguments\n",
        "def cities(city_one, city_two):\n",
        "  print('I love {0} and {1}'.format(city_one, city_two))\n",
        "\n"
      ],
      "metadata": {
        "id": "s4iEsy1hSN4b"
      },
      "execution_count": 14,
      "outputs": []
    },
    {
      "cell_type": "code",
      "source": [
        "cities('Roma', 'London')"
      ],
      "metadata": {
        "colab": {
          "base_uri": "https://localhost:8080/"
        },
        "id": "BKvGFO4bUcPE",
        "outputId": "85b45073-2b3d-46e4-9afc-348826084cce"
      },
      "execution_count": 16,
      "outputs": [
        {
          "output_type": "stream",
          "name": "stdout",
          "text": [
            "my arguments are: Roma, London\n",
            "I love Roma and London\n"
          ]
        }
      ]
    },
    {
      "cell_type": "markdown",
      "source": [
        "**Memoization using decorators**\n",
        "\n",
        "* In python, memorization allows you to optimize a Python function by caching its output basedon the parameters you supply to it.\n",
        "* Once you memoize a function, it will only compute its output once for each set of parameters you call it with. Every call after the first will be quickly retrieved from a cache\n"
      ],
      "metadata": {
        "id": "r4EFhBM2VwNO"
      }
    },
    {
      "cell_type": "code",
      "source": [
        "def memoization_func(t):\n",
        "  dict_one = {}\n",
        "  def h(z):\n",
        "    if z not in dict_one:\n",
        "      dict_one[z] = t(z)\n",
        "    return dict_one[z]\n",
        "  return h"
      ],
      "metadata": {
        "id": "wR-Fp9c3Uhbt"
      },
      "execution_count": 17,
      "outputs": []
    },
    {
      "cell_type": "code",
      "source": [
        "@memoization_func\n",
        "def fib(n):\n",
        "  if n == 0:\n",
        "    return 0\n",
        "  elif n == 1:\n",
        "    return 1\n",
        "  else:\n",
        "    return fib(n-1) + fib(n-2)\n",
        "  \n",
        "print(fib(20))"
      ],
      "metadata": {
        "colab": {
          "base_uri": "https://localhost:8080/"
        },
        "id": "00jFq6_EoubJ",
        "outputId": "5542c63a-c5dd-4d7e-f524-8f8960f83e70"
      },
      "execution_count": 18,
      "outputs": [
        {
          "output_type": "stream",
          "name": "stdout",
          "text": [
            "6765\n"
          ]
        }
      ]
    },
    {
      "cell_type": "markdown",
      "source": [
        "**OrderedDict**\n",
        "* It is a dictionary subclass that remembers the order in which its contents are added.\n",
        "* When the value of a specified key is changed, the ordering of keys will not change for the OrderedDict.\n",
        "* if an item is overwritten in the OrderedDict, it's position is maintianed."
      ],
      "metadata": {
        "id": "a9OJIv6zqOM4"
      }
    },
    {
      "cell_type": "markdown",
      "source": [
        "**Generators in Python**\n",
        "* Generator functions act just like regular functions with just one difference that that they use the Python yield keyword instead of return.\n",
        "* Generator objects are used either by calling next method or using the generator object in a for loop.\n",
        "* A return statement terminates a function entirely but a yield function pause the function saving all its states and later continues from there on successive calls. \n",
        "* Generator expression can be used as the function arguments.\n",
        "* The major difference between a list comprehension and a generator expression is that a list comprehension produces the entire list while the generator expression produces one item at a time as lazy evaluation."
      ],
      "metadata": {
        "id": "YqBs1QwrrfU8"
      }
    },
    {
      "cell_type": "code",
      "source": [
        "def test_sequence():\n",
        "  num = 0\n",
        "  while num < 10:\n",
        "    yield num\n",
        "    num += 1\n",
        "\n",
        "for i in test_sequence():\n",
        "  print(i, end=\",\")"
      ],
      "metadata": {
        "colab": {
          "base_uri": "https://localhost:8080/"
        },
        "id": "OjpZrWwYpAZE",
        "outputId": "b9950676-11ab-45b3-b7e1-d73cb6cf7b9e"
      },
      "execution_count": 19,
      "outputs": [
        {
          "output_type": "stream",
          "name": "stdout",
          "text": [
            "0,1,2,3,4,5,6,7,8,9,"
          ]
        }
      ]
    },
    {
      "cell_type": "code",
      "source": [
        "def reverse_str(test_str):\n",
        "  length = len(test_str)\n",
        "  for i in range(length-1, -1, -1):\n",
        "    yield test_str[i]\n",
        "for char in reverse_str('good morning'):\n",
        "  print(char, end=',')"
      ],
      "metadata": {
        "colab": {
          "base_uri": "https://localhost:8080/"
        },
        "id": "nZiJ5h-0tTgq",
        "outputId": "16c2963a-5c12-43ef-8084-11be050a9672"
      },
      "execution_count": 20,
      "outputs": [
        {
          "output_type": "stream",
          "name": "stdout",
          "text": [
            "g,n,i,n,r,o,m, ,d,o,o,g,"
          ]
        }
      ]
    },
    {
      "cell_type": "markdown",
      "source": [
        "Coroutine in Python\n",
        "* Coroutine are computer program components that genralize subroutines for non-preemptive multitasking, by allowing execution to be suspended and resumed.\n",
        "* They are suited to concurrent processing because coroutines can pause and resume execution context.\n",
        "* Coroutines are a special type of function that yield control over to the caller, but does not end its context in the process, instead maintaining it in an idle state."
      ],
      "metadata": {
        "id": "0mYEnD8Bt86Y"
      }
    },
    {
      "cell_type": "code",
      "source": [],
      "metadata": {
        "id": "R54gUeHjt6Yz"
      },
      "execution_count": null,
      "outputs": []
    }
  ]
}